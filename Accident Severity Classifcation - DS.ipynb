{
 "cells": [
  {
   "cell_type": "code",
   "execution_count": 1,
   "outputs": [
    {
     "name": "stdout",
     "output_type": "stream",
     "text": [
      "/kaggle/input/us-accidents/US_Accidents_Dec20_updated.csv\n",
      "/kaggle/input/american-holidays/holidays.csv\n"
     ]
    }
   ],
   "source": [
    "# This Python 3 environment comes with many helpful analytics libraries installed\n",
    "# It is defined by the kaggle/python Docker image: https://github.com/kaggle/docker-python\n",
    "# For example, here's several helpful packages to load\n",
    "\n",
    "import numpy as np # linear algebra\n",
    "import pandas as pd # data processing, CSV file I/O (e.g. pd.read_csv)\n",
    "\n",
    "# Input data files are available in the read-only \"../input/\" directory\n",
    "# For example, running this (by clicking run or pressing Shift+Enter) will list all files under the input directory\n",
    "\n",
    "import os\n",
    "for dirname, _, filenames in os.walk('/kaggle/input'):\n",
    "    for filename in filenames:\n",
    "        print(os.path.join(dirname, filename))\n",
    "\n",
    "# You can write up to 20GB to the current directory (/kaggle/working/) that gets preserved as output when you create a version using \"Save & Run All\" \n",
    "# You can also write temporary files to /kaggle/temp/, but they won't be saved outside of the current session"
   ],
   "metadata": {
    "collapsed": false,
    "pycharm": {
     "name": "#%%\n"
    }
   }
  },
  {
   "cell_type": "markdown",
   "source": [
    "<a id=\"intro\"></a>\n",
    "# Introduction\n",
    "* We are Tom and Naor, 4th year students of Software and Information Systems Engineering at BGU (Ben-Gurion University)\n",
    "* This project is part of our concluding task for Data Science course.\n",
    "* We chose to focus on classifying the severity of an accident using ML tools and an innovative approach.\n",
    "* Our main objective is to reach higher accuracy than majority rule classification. "
   ],
   "metadata": {
    "collapsed": false
   }
  },
  {
   "cell_type": "markdown",
   "id": "9e0cf5cc",
   "metadata": {
    "papermill": {
     "duration": 0.121677,
     "end_time": "2022-02-26T21:21:10.130771",
     "exception": false,
     "start_time": "2022-02-26T21:21:10.009094",
     "status": "completed"
    },
    "tags": []
   },
   "source": [
    "<a id=\"crispdm\"></a>\n",
    "# CrispDM\n",
    "We will manage our project by following the Crisp DM steps."
   ]
  },
  {
   "cell_type": "markdown",
   "source": [
    "# **Table of contents**\n",
    "* [Introduction](#intro)\n",
    "* [CrispDM](#crispdm)\n",
    "> * [Business Understanding](#business-understanding)\n",
    "> * [Data Understanding](#data-understanding)\n",
    "> > **Data analysis**\n",
    "> > * [Top 10 dangerous states](#top-10-dang-states)\n",
    "> > * [Top 10 dangerous cities](#top-10-dang-cities)\n",
    "> > * [Top 20 dangerous roads](#top-20-dang-roads)\n",
    "> > * [Top 5 cities of top 5 dangerous states](#top-5-dang-st-city)\n",
    "\n",
    "\n",
    "> * [Data Preparation](#data-preparation)\n",
    "> > * [Data Selection](#data-selection)\n",
    "> > > **Additional data analysis**\n",
    "> > > * [Accidents distribution by years](#accidents-dist-years)\n",
    "> > > * [Severity distribution](#severity-dist) \n",
    "> > > * [Amount of accidents per hour](#accidents-per-hour)\n",
    "> > > * [Weather conditions on dangerous hours](#weather-conditions) \n",
    "> > > * [Road conditions on dangerous hours](#road-conditions)\n",
    "> > > * [Correlation between features](#corr)\n",
    "> > * [Data Cleaning](#data-cleaning)\n",
    "> > > * [Missing values](#missing-values)\n",
    "> > > * [Outlier detection and removal](#outliers)\n",
    "> > > * [Noise elimination](#noise)\n",
    "\n",
    "> > * [Data Transformation](#data-transformation)\n",
    "> > > * [Feature Construction](#construction)\n",
    "> > > * [Encoding](#encoding)\n",
    "> > > * [Feature Aggregation](#aggregation)\n",
    "> > > * [Generalization](#generalization)\n",
    "> > > * [Normalization](#normalization)\n",
    "> > * [Data Reduction](#data-reduction)\n",
    "\n",
    "\n",
    "> * [Modeling](#modeling)\n",
    "> > * [Models and Parameter Grids](#models-params)\n",
    "> > * [Cross Validation Preparation](#cv)\n",
    "> > * **Baseline - Severity Prediction**\n",
    "> > > * [Train-Test Split](#train-test-split)\n",
    "> > > * [Severity Prediction](#baseline-severity-prediction)\n",
    "> > * **KMeans Based Data Split - Severity Prediction**\n",
    "> > > * [KMeans Split](#kmeans-train-test-split)\n",
    "> > > * [Severity Prediction](#kmeans-severity-prediction)\n",
    "> * [Evaluation](#evaluation)\n"
   ],
   "metadata": {
    "collapsed": false
   }
  },
  {
   "cell_type": "markdown",
   "id": "916ad597",
   "metadata": {
    "papermill": {
     "duration": 0.119564,
     "end_time": "2022-02-26T21:21:10.371438",
     "exception": false,
     "start_time": "2022-02-26T21:21:10.251874",
     "status": "completed"
    },
    "tags": []
   },
   "source": [
    "<a id=\"business-understanding\"></a>\n",
    "# Business Understanding\n",
    "- Elaborated thoroughly in our report\n"
   ]
  },
  {
   "cell_type": "markdown",
   "id": "ca1d8baf",
   "metadata": {
    "papermill": {
     "duration": 0.120868,
     "end_time": "2022-02-26T21:21:10.613937",
     "exception": false,
     "start_time": "2022-02-26T21:21:10.493069",
     "status": "completed"
    },
    "tags": []
   },
   "source": [
    "<a id=\"data-understanding\"></a>\n",
    "# Data Understanding"
   ]
  },
  {
   "cell_type": "code",
   "execution_count": 2,
   "id": "0fc78cb8",
   "metadata": {
    "collapsed": false,
    "execution": {
     "iopub.execute_input": "2022-02-26T21:21:10.863499Z",
     "iopub.status.busy": "2022-02-26T21:21:10.862485Z",
     "iopub.status.idle": "2022-02-26T21:21:23.897585Z",
     "shell.execute_reply": "2022-02-26T21:21:23.896870Z",
     "shell.execute_reply.started": "2022-02-26T20:15:17.842321Z"
    },
    "jupyter": {
     "outputs_hidden": false
    },
    "papermill": {
     "duration": 13.159431,
     "end_time": "2022-02-26T21:21:23.897736",
     "exception": false,
     "start_time": "2022-02-26T21:21:10.738305",
     "status": "completed"
    },
    "pycharm": {
     "name": "#%%\n"
    },
    "tags": []
   },
   "outputs": [
    {
     "name": "stdout",
     "output_type": "stream",
     "text": [
      "Collecting pygeohash\r\n",
      "  Downloading pygeohash-1.2.0.tar.gz (5.0 kB)\r\n",
      "  Preparing metadata (setup.py) ... \u001B[?25l-\b \bdone\r\n",
      "\u001B[?25hBuilding wheels for collected packages: pygeohash\r\n",
      "  Building wheel for pygeohash (setup.py) ... \u001B[?25l-\b \b\\\b \bdone\r\n",
      "\u001B[?25h  Created wheel for pygeohash: filename=pygeohash-1.2.0-py2.py3-none-any.whl size=6168 sha256=b2523d5a2f39d0c799208a80549da1feac725f7baf6659b4733f2db25f552f94\r\n",
      "  Stored in directory: /root/.cache/pip/wheels/e2/ed/86/be7141d743cfb4aebac76406187154cd78fe9e6535d872187a\r\n",
      "Successfully built pygeohash\r\n",
      "Installing collected packages: pygeohash\r\n",
      "Successfully installed pygeohash-1.2.0\r\n",
      "\u001B[33mWARNING: Running pip as the 'root' user can result in broken permissions and conflicting behaviour with the system package manager. It is recommended to use a virtual environment instead: https://pip.pypa.io/warnings/venv\u001B[0m\r\n"
     ]
    }
   ],
   "source": [
    "!pip install pygeohash\n",
    "# !pip install category_encoders"
   ]
  },
  {
   "cell_type": "code",
   "execution_count": 3,
   "id": "f62ea61f",
   "metadata": {
    "collapsed": false,
    "execution": {
     "iopub.execute_input": "2022-02-26T21:21:24.156969Z",
     "iopub.status.busy": "2022-02-26T21:21:24.156293Z",
     "iopub.status.idle": "2022-02-26T21:21:25.861031Z",
     "shell.execute_reply": "2022-02-26T21:21:25.860041Z",
     "shell.execute_reply.started": "2022-02-26T20:15:27.100738Z"
    },
    "jupyter": {
     "outputs_hidden": false
    },
    "papermill": {
     "duration": 1.83793,
     "end_time": "2022-02-26T21:21:25.861201",
     "exception": false,
     "start_time": "2022-02-26T21:21:24.023271",
     "status": "completed"
    },
    "pycharm": {
     "name": "#%%\n"
    },
    "tags": []
   },
   "outputs": [],
   "source": [
    "#IMPORTS\n",
    "\n",
    "#Visualization\n",
    "import matplotlib.pyplot as plt\n",
    "import seaborn as sns\n",
    "\n",
    "#General\n",
    "from collections import Counter\n",
    "import gc\n",
    "import math\n",
    "import itertools\n",
    "pd.options.mode.chained_assignment = None  # default='warn'\n",
    "\n",
    "#Data Preparation\n",
    "import pygeohash as pgh  \n",
    "from sklearn import preprocessing\n",
    "from category_encoders import target_encoder as te\n",
    "from scipy.stats import ks_2samp\n",
    "\n",
    "#Modeling\n",
    "from sklearn.metrics import f1_score,make_scorer\n",
    "# from sklearn.neighbors import KNeighborsClassifier\n",
    "from sklearn.model_selection import train_test_split, GridSearchCV,TimeSeriesSplit\n",
    "from sklearn.cluster import KMeans\n",
    "from sklearn.ensemble import RandomForestClassifier,AdaBoostClassifier,IsolationForest\n",
    "from sklearn.svm import SVC \n",
    "from sklearn.linear_model import LogisticRegression"
   ]
  },
  {
   "cell_type": "code",
   "execution_count": 4,
   "id": "ab861aa9",
   "metadata": {
    "collapsed": false,
    "execution": {
     "iopub.execute_input": "2022-02-26T21:21:26.111837Z",
     "iopub.status.busy": "2022-02-26T21:21:26.110889Z",
     "iopub.status.idle": "2022-02-26T21:21:47.256681Z",
     "shell.execute_reply": "2022-02-26T21:21:47.255472Z",
     "shell.execute_reply.started": "2022-02-26T20:15:27.114801Z"
    },
    "jupyter": {
     "outputs_hidden": false
    },
    "papermill": {
     "duration": 21.271911,
     "end_time": "2022-02-26T21:21:47.256861",
     "exception": false,
     "start_time": "2022-02-26T21:21:25.984950",
     "status": "completed"
    },
    "pycharm": {
     "name": "#%%\n"
    },
    "tags": []
   },
   "outputs": [],
   "source": [
    "accidents_df : pd.DataFrame = pd.read_csv('../input/us-accidents/US_Accidents_Dec20_updated.csv')\n",
    "accidents_df.drop('ID',axis=1,inplace=True)\n",
    "\n",
    "holidays_dates = pd.read_csv('../input/american-holidays/holidays.csv')\n",
    "holidays_dates = set(pd.to_datetime(holidays_dates['Date']))"
   ]
  },
  {
   "cell_type": "code",
   "execution_count": 5,
   "id": "d9733cff",
   "metadata": {
    "collapsed": false,
    "execution": {
     "iopub.execute_input": "2022-02-26T21:21:47.519031Z",
     "iopub.status.busy": "2022-02-26T21:21:47.518289Z",
     "iopub.status.idle": "2022-02-26T21:21:47.522567Z",
     "shell.execute_reply": "2022-02-26T21:21:47.521891Z",
     "shell.execute_reply.started": "2022-02-26T20:15:45.843746Z"
    },
    "jupyter": {
     "outputs_hidden": false
    },
    "papermill": {
     "duration": 0.13868,
     "end_time": "2022-02-26T21:21:47.522716",
     "exception": false,
     "start_time": "2022-02-26T21:21:47.384036",
     "status": "completed"
    },
    "pycharm": {
     "name": "#%%\n"
    },
    "tags": []
   },
   "outputs": [
    {
     "data": {
      "text/plain": [
       "1516064"
      ]
     },
     "execution_count": 5,
     "metadata": {},
     "output_type": "execute_result"
    }
   ],
   "source": [
    "len(accidents_df)"
   ]
  },
  {
   "cell_type": "code",
   "execution_count": 6,
   "id": "9c83dcf8",
   "metadata": {
    "collapsed": false,
    "execution": {
     "iopub.execute_input": "2022-02-26T21:21:47.842127Z",
     "iopub.status.busy": "2022-02-26T21:21:47.840960Z",
     "iopub.status.idle": "2022-02-26T21:21:48.584468Z",
     "shell.execute_reply": "2022-02-26T21:21:48.583861Z",
     "shell.execute_reply.started": "2022-02-26T20:15:45.85645Z"
    },
    "jupyter": {
     "outputs_hidden": false
    },
    "papermill": {
     "duration": 0.936961,
     "end_time": "2022-02-26T21:21:48.584637",
     "exception": false,
     "start_time": "2022-02-26T21:21:47.647676",
     "status": "completed"
    },
    "pycharm": {
     "name": "#%%\n"
    },
    "tags": []
   },
   "outputs": [
    {
     "data": {
      "text/html": [
       "<div>\n",
       "<style scoped>\n",
       "    .dataframe tbody tr th:only-of-type {\n",
       "        vertical-align: middle;\n",
       "    }\n",
       "\n",
       "    .dataframe tbody tr th {\n",
       "        vertical-align: top;\n",
       "    }\n",
       "\n",
       "    .dataframe thead th {\n",
       "        text-align: right;\n",
       "    }\n",
       "</style>\n",
       "<table border=\"1\" class=\"dataframe\">\n",
       "  <thead>\n",
       "    <tr style=\"text-align: right;\">\n",
       "      <th></th>\n",
       "      <th>Severity</th>\n",
       "      <th>Start_Lat</th>\n",
       "      <th>Start_Lng</th>\n",
       "      <th>End_Lat</th>\n",
       "      <th>End_Lng</th>\n",
       "      <th>Distance(mi)</th>\n",
       "      <th>Number</th>\n",
       "      <th>Temperature(F)</th>\n",
       "      <th>Wind_Chill(F)</th>\n",
       "      <th>Humidity(%)</th>\n",
       "      <th>Pressure(in)</th>\n",
       "      <th>Visibility(mi)</th>\n",
       "      <th>Wind_Speed(mph)</th>\n",
       "      <th>Precipitation(in)</th>\n",
       "    </tr>\n",
       "  </thead>\n",
       "  <tbody>\n",
       "    <tr>\n",
       "      <th>count</th>\n",
       "      <td>1.516064e+06</td>\n",
       "      <td>1.516064e+06</td>\n",
       "      <td>1.516064e+06</td>\n",
       "      <td>1.516064e+06</td>\n",
       "      <td>1.516064e+06</td>\n",
       "      <td>1.516064e+06</td>\n",
       "      <td>4.699690e+05</td>\n",
       "      <td>1.473031e+06</td>\n",
       "      <td>1.066748e+06</td>\n",
       "      <td>1.470555e+06</td>\n",
       "      <td>1.479790e+06</td>\n",
       "      <td>1.471853e+06</td>\n",
       "      <td>1.387202e+06</td>\n",
       "      <td>1.005515e+06</td>\n",
       "    </tr>\n",
       "    <tr>\n",
       "      <th>mean</th>\n",
       "      <td>2.238630e+00</td>\n",
       "      <td>3.690056e+01</td>\n",
       "      <td>-9.859919e+01</td>\n",
       "      <td>3.690061e+01</td>\n",
       "      <td>-9.859901e+01</td>\n",
       "      <td>5.872617e-01</td>\n",
       "      <td>8.907533e+03</td>\n",
       "      <td>5.958460e+01</td>\n",
       "      <td>5.510976e+01</td>\n",
       "      <td>6.465960e+01</td>\n",
       "      <td>2.955495e+01</td>\n",
       "      <td>9.131755e+00</td>\n",
       "      <td>7.630812e+00</td>\n",
       "      <td>8.477855e-03</td>\n",
       "    </tr>\n",
       "    <tr>\n",
       "      <th>std</th>\n",
       "      <td>6.081481e-01</td>\n",
       "      <td>5.165653e+00</td>\n",
       "      <td>1.849602e+01</td>\n",
       "      <td>5.165629e+00</td>\n",
       "      <td>1.849590e+01</td>\n",
       "      <td>1.632659e+00</td>\n",
       "      <td>2.242190e+04</td>\n",
       "      <td>1.827316e+01</td>\n",
       "      <td>2.112735e+01</td>\n",
       "      <td>2.325986e+01</td>\n",
       "      <td>1.016756e+00</td>\n",
       "      <td>2.889112e+00</td>\n",
       "      <td>5.637364e+00</td>\n",
       "      <td>1.293168e-01</td>\n",
       "    </tr>\n",
       "    <tr>\n",
       "      <th>min</th>\n",
       "      <td>1.000000e+00</td>\n",
       "      <td>2.457022e+01</td>\n",
       "      <td>-1.244976e+02</td>\n",
       "      <td>2.457011e+01</td>\n",
       "      <td>-1.244978e+02</td>\n",
       "      <td>0.000000e+00</td>\n",
       "      <td>0.000000e+00</td>\n",
       "      <td>-8.900000e+01</td>\n",
       "      <td>-8.900000e+01</td>\n",
       "      <td>1.000000e+00</td>\n",
       "      <td>0.000000e+00</td>\n",
       "      <td>0.000000e+00</td>\n",
       "      <td>0.000000e+00</td>\n",
       "      <td>0.000000e+00</td>\n",
       "    </tr>\n",
       "    <tr>\n",
       "      <th>25%</th>\n",
       "      <td>2.000000e+00</td>\n",
       "      <td>3.385422e+01</td>\n",
       "      <td>-1.182076e+02</td>\n",
       "      <td>3.385420e+01</td>\n",
       "      <td>-1.182077e+02</td>\n",
       "      <td>0.000000e+00</td>\n",
       "      <td>1.212000e+03</td>\n",
       "      <td>4.700000e+01</td>\n",
       "      <td>4.080000e+01</td>\n",
       "      <td>4.800000e+01</td>\n",
       "      <td>2.944000e+01</td>\n",
       "      <td>1.000000e+01</td>\n",
       "      <td>4.600000e+00</td>\n",
       "      <td>0.000000e+00</td>\n",
       "    </tr>\n",
       "    <tr>\n",
       "      <th>50%</th>\n",
       "      <td>2.000000e+00</td>\n",
       "      <td>3.735113e+01</td>\n",
       "      <td>-9.438100e+01</td>\n",
       "      <td>3.735134e+01</td>\n",
       "      <td>-9.437987e+01</td>\n",
       "      <td>1.780000e-01</td>\n",
       "      <td>4.000000e+03</td>\n",
       "      <td>6.100000e+01</td>\n",
       "      <td>5.700000e+01</td>\n",
       "      <td>6.800000e+01</td>\n",
       "      <td>2.988000e+01</td>\n",
       "      <td>1.000000e+01</td>\n",
       "      <td>7.000000e+00</td>\n",
       "      <td>0.000000e+00</td>\n",
       "    </tr>\n",
       "    <tr>\n",
       "      <th>75%</th>\n",
       "      <td>2.000000e+00</td>\n",
       "      <td>4.072593e+01</td>\n",
       "      <td>-8.087469e+01</td>\n",
       "      <td>4.072593e+01</td>\n",
       "      <td>-8.087449e+01</td>\n",
       "      <td>5.940000e-01</td>\n",
       "      <td>1.010000e+04</td>\n",
       "      <td>7.300000e+01</td>\n",
       "      <td>7.100000e+01</td>\n",
       "      <td>8.400000e+01</td>\n",
       "      <td>3.004000e+01</td>\n",
       "      <td>1.000000e+01</td>\n",
       "      <td>1.040000e+01</td>\n",
       "      <td>0.000000e+00</td>\n",
       "    </tr>\n",
       "    <tr>\n",
       "      <th>max</th>\n",
       "      <td>4.000000e+00</td>\n",
       "      <td>4.900058e+01</td>\n",
       "      <td>-6.711317e+01</td>\n",
       "      <td>4.907500e+01</td>\n",
       "      <td>-6.710924e+01</td>\n",
       "      <td>1.551860e+02</td>\n",
       "      <td>9.999997e+06</td>\n",
       "      <td>1.706000e+02</td>\n",
       "      <td>1.130000e+02</td>\n",
       "      <td>1.000000e+02</td>\n",
       "      <td>5.804000e+01</td>\n",
       "      <td>1.400000e+02</td>\n",
       "      <td>9.840000e+02</td>\n",
       "      <td>2.400000e+01</td>\n",
       "    </tr>\n",
       "  </tbody>\n",
       "</table>\n",
       "</div>"
      ],
      "text/plain": [
       "           Severity     Start_Lat     Start_Lng       End_Lat       End_Lng  \\\n",
       "count  1.516064e+06  1.516064e+06  1.516064e+06  1.516064e+06  1.516064e+06   \n",
       "mean   2.238630e+00  3.690056e+01 -9.859919e+01  3.690061e+01 -9.859901e+01   \n",
       "std    6.081481e-01  5.165653e+00  1.849602e+01  5.165629e+00  1.849590e+01   \n",
       "min    1.000000e+00  2.457022e+01 -1.244976e+02  2.457011e+01 -1.244978e+02   \n",
       "25%    2.000000e+00  3.385422e+01 -1.182076e+02  3.385420e+01 -1.182077e+02   \n",
       "50%    2.000000e+00  3.735113e+01 -9.438100e+01  3.735134e+01 -9.437987e+01   \n",
       "75%    2.000000e+00  4.072593e+01 -8.087469e+01  4.072593e+01 -8.087449e+01   \n",
       "max    4.000000e+00  4.900058e+01 -6.711317e+01  4.907500e+01 -6.710924e+01   \n",
       "\n",
       "       Distance(mi)        Number  Temperature(F)  Wind_Chill(F)  \\\n",
       "count  1.516064e+06  4.699690e+05    1.473031e+06   1.066748e+06   \n",
       "mean   5.872617e-01  8.907533e+03    5.958460e+01   5.510976e+01   \n",
       "std    1.632659e+00  2.242190e+04    1.827316e+01   2.112735e+01   \n",
       "min    0.000000e+00  0.000000e+00   -8.900000e+01  -8.900000e+01   \n",
       "25%    0.000000e+00  1.212000e+03    4.700000e+01   4.080000e+01   \n",
       "50%    1.780000e-01  4.000000e+03    6.100000e+01   5.700000e+01   \n",
       "75%    5.940000e-01  1.010000e+04    7.300000e+01   7.100000e+01   \n",
       "max    1.551860e+02  9.999997e+06    1.706000e+02   1.130000e+02   \n",
       "\n",
       "        Humidity(%)  Pressure(in)  Visibility(mi)  Wind_Speed(mph)  \\\n",
       "count  1.470555e+06  1.479790e+06    1.471853e+06     1.387202e+06   \n",
       "mean   6.465960e+01  2.955495e+01    9.131755e+00     7.630812e+00   \n",
       "std    2.325986e+01  1.016756e+00    2.889112e+00     5.637364e+00   \n",
       "min    1.000000e+00  0.000000e+00    0.000000e+00     0.000000e+00   \n",
       "25%    4.800000e+01  2.944000e+01    1.000000e+01     4.600000e+00   \n",
       "50%    6.800000e+01  2.988000e+01    1.000000e+01     7.000000e+00   \n",
       "75%    8.400000e+01  3.004000e+01    1.000000e+01     1.040000e+01   \n",
       "max    1.000000e+02  5.804000e+01    1.400000e+02     9.840000e+02   \n",
       "\n",
       "       Precipitation(in)  \n",
       "count       1.005515e+06  \n",
       "mean        8.477855e-03  \n",
       "std         1.293168e-01  \n",
       "min         0.000000e+00  \n",
       "25%         0.000000e+00  \n",
       "50%         0.000000e+00  \n",
       "75%         0.000000e+00  \n",
       "max         2.400000e+01  "
      ]
     },
     "execution_count": 6,
     "metadata": {},
     "output_type": "execute_result"
    }
   ],
   "source": [
    "accidents_df.describe()"
   ]
  },
  {
   "cell_type": "code",
   "execution_count": 7,
   "id": "dfd7a1b8",
   "metadata": {
    "collapsed": false,
    "execution": {
     "iopub.execute_input": "2022-02-26T21:21:48.842151Z",
     "iopub.status.busy": "2022-02-26T21:21:48.841109Z",
     "iopub.status.idle": "2022-02-26T21:21:48.847506Z",
     "shell.execute_reply": "2022-02-26T21:21:48.848133Z",
     "shell.execute_reply.started": "2022-02-26T20:15:46.761051Z"
    },
    "jupyter": {
     "outputs_hidden": false
    },
    "papermill": {
     "duration": 0.13659,
     "end_time": "2022-02-26T21:21:48.848307",
     "exception": false,
     "start_time": "2022-02-26T21:21:48.711717",
     "status": "completed"
    },
    "pycharm": {
     "name": "#%%\n"
    },
    "tags": []
   },
   "outputs": [
    {
     "data": {
      "text/plain": [
       "Index(['Severity', 'Start_Time', 'End_Time', 'Start_Lat', 'Start_Lng',\n",
       "       'End_Lat', 'End_Lng', 'Distance(mi)', 'Description', 'Number', 'Street',\n",
       "       'Side', 'City', 'County', 'State', 'Zipcode', 'Country', 'Timezone',\n",
       "       'Airport_Code', 'Weather_Timestamp', 'Temperature(F)', 'Wind_Chill(F)',\n",
       "       'Humidity(%)', 'Pressure(in)', 'Visibility(mi)', 'Wind_Direction',\n",
       "       'Wind_Speed(mph)', 'Precipitation(in)', 'Weather_Condition', 'Amenity',\n",
       "       'Bump', 'Crossing', 'Give_Way', 'Junction', 'No_Exit', 'Railway',\n",
       "       'Roundabout', 'Station', 'Stop', 'Traffic_Calming', 'Traffic_Signal',\n",
       "       'Turning_Loop', 'Sunrise_Sunset', 'Civil_Twilight', 'Nautical_Twilight',\n",
       "       'Astronomical_Twilight'],\n",
       "      dtype='object')"
      ]
     },
     "execution_count": 7,
     "metadata": {},
     "output_type": "execute_result"
    }
   ],
   "source": [
    "accidents_df.columns"
   ]
  },
  {
   "cell_type": "code",
   "execution_count": 8,
   "id": "a4833ef9",
   "metadata": {
    "collapsed": false,
    "execution": {
     "iopub.execute_input": "2022-02-26T21:21:49.106387Z",
     "iopub.status.busy": "2022-02-26T21:21:49.105407Z",
     "iopub.status.idle": "2022-02-26T21:21:52.229673Z",
     "shell.execute_reply": "2022-02-26T21:21:52.228965Z",
     "shell.execute_reply.started": "2022-02-26T20:15:46.770835Z"
    },
    "jupyter": {
     "outputs_hidden": false
    },
    "papermill": {
     "duration": 3.254926,
     "end_time": "2022-02-26T21:21:52.229817",
     "exception": false,
     "start_time": "2022-02-26T21:21:48.974891",
     "status": "completed"
    },
    "pycharm": {
     "name": "#%%\n"
    },
    "tags": []
   },
   "outputs": [
    {
     "name": "stdout",
     "output_type": "stream",
     "text": [
      "<class 'pandas.core.frame.DataFrame'>\n",
      "RangeIndex: 1516064 entries, 0 to 1516063\n",
      "Data columns (total 46 columns):\n",
      " #   Column                 Non-Null Count    Dtype  \n",
      "---  ------                 --------------    -----  \n",
      " 0   Severity               1516064 non-null  int64  \n",
      " 1   Start_Time             1516064 non-null  object \n",
      " 2   End_Time               1516064 non-null  object \n",
      " 3   Start_Lat              1516064 non-null  float64\n",
      " 4   Start_Lng              1516064 non-null  float64\n",
      " 5   End_Lat                1516064 non-null  float64\n",
      " 6   End_Lng                1516064 non-null  float64\n",
      " 7   Distance(mi)           1516064 non-null  float64\n",
      " 8   Description            1516064 non-null  object \n",
      " 9   Number                 469969 non-null   float64\n",
      " 10  Street                 1516064 non-null  object \n",
      " 11  Side                   1516064 non-null  object \n",
      " 12  City                   1515981 non-null  object \n",
      " 13  County                 1516064 non-null  object \n",
      " 14  State                  1516064 non-null  object \n",
      " 15  Zipcode                1515129 non-null  object \n",
      " 16  Country                1516064 non-null  object \n",
      " 17  Timezone               1513762 non-null  object \n",
      " 18  Airport_Code           1511816 non-null  object \n",
      " 19  Weather_Timestamp      1485800 non-null  object \n",
      " 20  Temperature(F)         1473031 non-null  float64\n",
      " 21  Wind_Chill(F)          1066748 non-null  float64\n",
      " 22  Humidity(%)            1470555 non-null  float64\n",
      " 23  Pressure(in)           1479790 non-null  float64\n",
      " 24  Visibility(mi)         1471853 non-null  float64\n",
      " 25  Wind_Direction         1474206 non-null  object \n",
      " 26  Wind_Speed(mph)        1387202 non-null  float64\n",
      " 27  Precipitation(in)      1005515 non-null  float64\n",
      " 28  Weather_Condition      1472057 non-null  object \n",
      " 29  Amenity                1516064 non-null  bool   \n",
      " 30  Bump                   1516064 non-null  bool   \n",
      " 31  Crossing               1516064 non-null  bool   \n",
      " 32  Give_Way               1516064 non-null  bool   \n",
      " 33  Junction               1516064 non-null  bool   \n",
      " 34  No_Exit                1516064 non-null  bool   \n",
      " 35  Railway                1516064 non-null  bool   \n",
      " 36  Roundabout             1516064 non-null  bool   \n",
      " 37  Station                1516064 non-null  bool   \n",
      " 38  Stop                   1516064 non-null  bool   \n",
      " 39  Traffic_Calming        1516064 non-null  bool   \n",
      " 40  Traffic_Signal         1516064 non-null  bool   \n",
      " 41  Turning_Loop           1516064 non-null  bool   \n",
      " 42  Sunrise_Sunset         1515981 non-null  object \n",
      " 43  Civil_Twilight         1515981 non-null  object \n",
      " 44  Nautical_Twilight      1515981 non-null  object \n",
      " 45  Astronomical_Twilight  1515981 non-null  object \n",
      "dtypes: bool(13), float64(13), int64(1), object(19)\n",
      "memory usage: 400.5+ MB\n"
     ]
    }
   ],
   "source": [
    "accidents_df.info()"
   ]
  },
  {
   "cell_type": "code",
   "execution_count": 9,
   "id": "a631ca28",
   "metadata": {
    "collapsed": false,
    "execution": {
     "iopub.execute_input": "2022-02-26T21:21:52.489195Z",
     "iopub.status.busy": "2022-02-26T21:21:52.488471Z",
     "iopub.status.idle": "2022-02-26T21:21:52.494044Z",
     "shell.execute_reply": "2022-02-26T21:21:52.493474Z",
     "shell.execute_reply.started": "2022-02-26T20:15:50.098888Z"
    },
    "jupyter": {
     "outputs_hidden": false
    },
    "papermill": {
     "duration": 0.135879,
     "end_time": "2022-02-26T21:21:52.494197",
     "exception": false,
     "start_time": "2022-02-26T21:21:52.358318",
     "status": "completed"
    },
    "pycharm": {
     "name": "#%%\n"
    },
    "tags": []
   },
   "outputs": [],
   "source": [
    "def get_value_counts(df,start,finish):\n",
    "    return df.iloc[:,start:finish].apply(lambda col: col.value_counts() / len(col)*  100)"
   ]
  },
  {
   "cell_type": "markdown",
   "id": "6468dd0d",
   "metadata": {
    "papermill": {
     "duration": 0.150609,
     "end_time": "2022-02-26T21:21:52.772478",
     "exception": false,
     "start_time": "2022-02-26T21:21:52.621869",
     "status": "completed"
    },
    "tags": []
   },
   "source": [
    "<a id=road-conditions-vc> </a> "
   ]
  },
  {
   "cell_type": "code",
   "execution_count": 10,
   "id": "51fea374",
   "metadata": {
    "collapsed": false,
    "execution": {
     "iopub.execute_input": "2022-02-26T21:21:53.031284Z",
     "iopub.status.busy": "2022-02-26T21:21:53.030607Z",
     "iopub.status.idle": "2022-02-26T21:21:53.170187Z",
     "shell.execute_reply": "2022-02-26T21:21:53.170710Z",
     "shell.execute_reply.started": "2022-02-26T20:15:50.108601Z"
    },
    "jupyter": {
     "outputs_hidden": false
    },
    "papermill": {
     "duration": 0.271267,
     "end_time": "2022-02-26T21:21:53.170882",
     "exception": false,
     "start_time": "2022-02-26T21:21:52.899615",
     "status": "completed"
    },
    "pycharm": {
     "name": "#%%\n"
    },
    "tags": []
   },
   "outputs": [
    {
     "data": {
      "text/html": [
       "<div>\n",
       "<style scoped>\n",
       "    .dataframe tbody tr th:only-of-type {\n",
       "        vertical-align: middle;\n",
       "    }\n",
       "\n",
       "    .dataframe tbody tr th {\n",
       "        vertical-align: top;\n",
       "    }\n",
       "\n",
       "    .dataframe thead th {\n",
       "        text-align: right;\n",
       "    }\n",
       "</style>\n",
       "<table border=\"1\" class=\"dataframe\">\n",
       "  <thead>\n",
       "    <tr style=\"text-align: right;\">\n",
       "      <th></th>\n",
       "      <th>Amenity</th>\n",
       "      <th>Bump</th>\n",
       "      <th>Crossing</th>\n",
       "      <th>Give_Way</th>\n",
       "      <th>Junction</th>\n",
       "      <th>No_Exit</th>\n",
       "      <th>Railway</th>\n",
       "      <th>Roundabout</th>\n",
       "      <th>Station</th>\n",
       "      <th>Stop</th>\n",
       "      <th>Traffic_Calming</th>\n",
       "      <th>Traffic_Signal</th>\n",
       "      <th>Turning_Loop</th>\n",
       "    </tr>\n",
       "  </thead>\n",
       "  <tbody>\n",
       "    <tr>\n",
       "      <th>False</th>\n",
       "      <td>99.181895</td>\n",
       "      <td>99.982784</td>\n",
       "      <td>94.302153</td>\n",
       "      <td>99.785299</td>\n",
       "      <td>86.511255</td>\n",
       "      <td>99.885955</td>\n",
       "      <td>99.169956</td>\n",
       "      <td>99.996636</td>\n",
       "      <td>98.143416</td>\n",
       "      <td>98.832767</td>\n",
       "      <td>99.967745</td>\n",
       "      <td>88.788798</td>\n",
       "      <td>100.0</td>\n",
       "    </tr>\n",
       "    <tr>\n",
       "      <th>True</th>\n",
       "      <td>0.818105</td>\n",
       "      <td>0.017216</td>\n",
       "      <td>5.697847</td>\n",
       "      <td>0.214701</td>\n",
       "      <td>13.488745</td>\n",
       "      <td>0.114045</td>\n",
       "      <td>0.830044</td>\n",
       "      <td>0.003364</td>\n",
       "      <td>1.856584</td>\n",
       "      <td>1.167233</td>\n",
       "      <td>0.032255</td>\n",
       "      <td>11.211202</td>\n",
       "      <td>NaN</td>\n",
       "    </tr>\n",
       "  </tbody>\n",
       "</table>\n",
       "</div>"
      ],
      "text/plain": [
       "         Amenity       Bump   Crossing   Give_Way   Junction    No_Exit  \\\n",
       "False  99.181895  99.982784  94.302153  99.785299  86.511255  99.885955   \n",
       "True    0.818105   0.017216   5.697847   0.214701  13.488745   0.114045   \n",
       "\n",
       "         Railway  Roundabout    Station       Stop  Traffic_Calming  \\\n",
       "False  99.169956   99.996636  98.143416  98.832767        99.967745   \n",
       "True    0.830044    0.003364   1.856584   1.167233         0.032255   \n",
       "\n",
       "       Traffic_Signal  Turning_Loop  \n",
       "False       88.788798         100.0  \n",
       "True        11.211202           NaN  "
      ]
     },
     "execution_count": 10,
     "metadata": {},
     "output_type": "execute_result"
    }
   ],
   "source": [
    "get_value_counts(accidents_df,29,42) #Road conditions"
   ]
  },
  {
   "cell_type": "code",
   "execution_count": 11,
   "id": "ce889bc0",
   "metadata": {
    "collapsed": false,
    "execution": {
     "iopub.execute_input": "2022-02-26T21:21:53.428602Z",
     "iopub.status.busy": "2022-02-26T21:21:53.427895Z",
     "iopub.status.idle": "2022-02-26T21:21:54.200502Z",
     "shell.execute_reply": "2022-02-26T21:21:54.200998Z",
     "shell.execute_reply.started": "2022-02-26T20:15:50.267688Z"
    },
    "jupyter": {
     "outputs_hidden": false
    },
    "papermill": {
     "duration": 0.902783,
     "end_time": "2022-02-26T21:21:54.201199",
     "exception": false,
     "start_time": "2022-02-26T21:21:53.298416",
     "status": "completed"
    },
    "pycharm": {
     "name": "#%%\n"
    },
    "tags": []
   },
   "outputs": [
    {
     "data": {
      "text/html": [
       "<div>\n",
       "<style scoped>\n",
       "    .dataframe tbody tr th:only-of-type {\n",
       "        vertical-align: middle;\n",
       "    }\n",
       "\n",
       "    .dataframe tbody tr th {\n",
       "        vertical-align: top;\n",
       "    }\n",
       "\n",
       "    .dataframe thead th {\n",
       "        text-align: right;\n",
       "    }\n",
       "</style>\n",
       "<table border=\"1\" class=\"dataframe\">\n",
       "  <thead>\n",
       "    <tr style=\"text-align: right;\">\n",
       "      <th></th>\n",
       "      <th>Civil_Twilight</th>\n",
       "      <th>Nautical_Twilight</th>\n",
       "      <th>Astronomical_Twilight</th>\n",
       "    </tr>\n",
       "  </thead>\n",
       "  <tbody>\n",
       "    <tr>\n",
       "      <th>Day</th>\n",
       "      <td>63.920455</td>\n",
       "      <td>68.275680</td>\n",
       "      <td>71.959099</td>\n",
       "    </tr>\n",
       "    <tr>\n",
       "      <th>Night</th>\n",
       "      <td>36.074071</td>\n",
       "      <td>31.718846</td>\n",
       "      <td>28.035426</td>\n",
       "    </tr>\n",
       "  </tbody>\n",
       "</table>\n",
       "</div>"
      ],
      "text/plain": [
       "       Civil_Twilight  Nautical_Twilight  Astronomical_Twilight\n",
       "Day         63.920455          68.275680              71.959099\n",
       "Night       36.074071          31.718846              28.035426"
      ]
     },
     "execution_count": 11,
     "metadata": {},
     "output_type": "execute_result"
    }
   ],
   "source": [
    "get_value_counts(accidents_df,43,48) #Visibility conditions "
   ]
  },
  {
   "cell_type": "markdown",
   "id": "ee2a061e",
   "metadata": {
    "papermill": {
     "duration": 0.12661,
     "end_time": "2022-02-26T21:21:54.454329",
     "exception": false,
     "start_time": "2022-02-26T21:21:54.327719",
     "status": "completed"
    },
    "tags": []
   },
   "source": []
  },
  {
   "cell_type": "code",
   "execution_count": 12,
   "id": "96fd9cc8",
   "metadata": {
    "collapsed": false,
    "execution": {
     "iopub.execute_input": "2022-02-26T21:21:54.716375Z",
     "iopub.status.busy": "2022-02-26T21:21:54.715661Z",
     "iopub.status.idle": "2022-02-26T21:21:54.717400Z",
     "shell.execute_reply": "2022-02-26T21:21:54.717955Z",
     "shell.execute_reply.started": "2022-02-26T20:15:51.036756Z"
    },
    "jupyter": {
     "outputs_hidden": false
    },
    "papermill": {
     "duration": 0.13486,
     "end_time": "2022-02-26T21:21:54.718147",
     "exception": false,
     "start_time": "2022-02-26T21:21:54.583287",
     "status": "completed"
    },
    "pycharm": {
     "name": "#%%\n"
    },
    "tags": []
   },
   "outputs": [],
   "source": [
    "#Arbitrary params \n",
    "nAccident_prone_states = 10\n",
    "nAccident_prone_cities_in_states = 5\n",
    "nAccident_prone_cities = 10"
   ]
  },
  {
   "cell_type": "markdown",
   "id": "5bd2f4f5",
   "metadata": {
    "papermill": {
     "duration": 0.127909,
     "end_time": "2022-02-26T21:21:54.974286",
     "exception": false,
     "start_time": "2022-02-26T21:21:54.846377",
     "status": "completed"
    },
    "tags": []
   },
   "source": [
    "<a id=\"top-10-dang-states\"></a>\n",
    "# Top 10 states with the most accidents"
   ]
  },
  {
   "cell_type": "code",
   "execution_count": 13,
   "id": "9e300eeb",
   "metadata": {
    "collapsed": false,
    "execution": {
     "iopub.execute_input": "2022-02-26T21:21:55.233596Z",
     "iopub.status.busy": "2022-02-26T21:21:55.232806Z",
     "iopub.status.idle": "2022-02-26T21:21:55.727306Z",
     "shell.execute_reply": "2022-02-26T21:21:55.726605Z",
     "shell.execute_reply.started": "2022-02-26T20:15:51.044062Z"
    },
    "jupyter": {
     "outputs_hidden": false
    },
    "papermill": {
     "duration": 0.625028,
     "end_time": "2022-02-26T21:21:55.727462",
     "exception": false,
     "start_time": "2022-02-26T21:21:55.102434",
     "status": "completed"
    },
    "pycharm": {
     "name": "#%%\n"
    },
    "tags": []
   },
   "outputs": [
    {
     "data": {
      "image/png": "[encoded data removed]",
      "text/plain": [
       "<Figure size 720x612 with 1 Axes>"
      ]
     },
     "metadata": {
      "needs_background": "light"
     },
     "output_type": "display_data"
    }
   ],
   "source": [
    "#Accident prone states\n",
    "accident_prone_states_df = accidents_df['State'].value_counts()[:nAccident_prone_states]\n",
    "accident_prone_states_df.plot(kind='barh',figsize=(10, 8.5),color=([\"blue\"]+[\"red\"]*(nAccident_prone_states - 1)))\n",
    "plt.title(f\"Top {nAccident_prone_states} dangerous cities in U.S.A\")\n",
    "plt.xlabel(\"Accidents\")\n",
    "plt.show()"
   ]
  },
  {
   "cell_type": "markdown",
   "id": "15873bac",
   "metadata": {
    "papermill": {
     "duration": 0.12692,
     "end_time": "2022-02-26T21:21:55.982672",
     "exception": false,
     "start_time": "2022-02-26T21:21:55.855752",
     "status": "completed"
    },
    "tags": []
   },
   "source": [
    "<a id=\"top-10-dang-cities\"></a>\n",
    "# Top 10 cities with the most accidents"
   ]
  },
  {
   "cell_type": "code",
   "execution_count": 14,
   "id": "8723b48f",
   "metadata": {
    "collapsed": false,
    "execution": {
     "iopub.execute_input": "2022-02-26T21:21:56.520743Z",
     "iopub.status.busy": "2022-02-26T21:21:56.519949Z",
     "iopub.status.idle": "2022-02-26T21:21:56.753615Z",
     "shell.execute_reply": "2022-02-26T21:21:56.752967Z",
     "shell.execute_reply.started": "2022-02-26T20:15:51.525532Z"
    },
    "jupyter": {
     "outputs_hidden": false
    },
    "papermill": {
     "duration": 0.641399,
     "end_time": "2022-02-26T21:21:56.753756",
     "exception": false,
     "start_time": "2022-02-26T21:21:56.112357",
     "status": "completed"
    },
    "pycharm": {
     "name": "#%%\n"
    },
    "tags": []
   },
   "outputs": [
    {
     "data": {
      "image/png": "[encoded data removed]",
      "text/plain": [
       "<Figure size 720x612 with 1 Axes>"
      ]
     },
     "metadata": {
      "needs_background": "light"
     },
     "output_type": "display_data"
    }
   ],
   "source": [
    "#Accident prone cities\n",
    "accident_prone_cities_df = accidents_df['City'].value_counts()[:nAccident_prone_cities]\n",
    "accident_prone_cities_df.plot.barh(figsize=(10, 8.5),color=([\"blue\"]+[\"red\"]*(nAccident_prone_cities - 1)))\n",
    "plt.title(f\"Top {nAccident_prone_cities} dangerous cities in U.S.A\")\n",
    "plt.xlabel(\"Accidents\")\n",
    "plt.show()"
   ]
  },
  {
   "cell_type": "markdown",
   "id": "44cbeffd",
   "metadata": {
    "papermill": {
     "duration": 0.129698,
     "end_time": "2022-02-26T21:21:57.013450",
     "exception": false,
     "start_time": "2022-02-26T21:21:56.883752",
     "status": "completed"
    },
    "tags": []
   },
   "source": [
    "<a id=\"top-20-dang-roads\"></a>\n",
    "# Top 20 dangerous roads"
   ]
  },
  {
   "cell_type": "code",
   "execution_count": 15,
   "id": "8b54d636",
   "metadata": {
    "collapsed": false,
    "execution": {
     "iopub.execute_input": "2022-02-26T21:21:57.279912Z",
     "iopub.status.busy": "2022-02-26T21:21:57.279285Z",
     "iopub.status.idle": "2022-02-26T21:21:57.948209Z",
     "shell.execute_reply": "2022-02-26T21:21:57.947658Z",
     "shell.execute_reply.started": "2022-02-26T20:15:52.260566Z"
    },
    "jupyter": {
     "outputs_hidden": false
    },
    "papermill": {
     "duration": 0.803988,
     "end_time": "2022-02-26T21:21:57.948359",
     "exception": false,
     "start_time": "2022-02-26T21:21:57.144371",
     "status": "completed"
    },
    "pycharm": {
     "name": "#%%\n"
    },
    "tags": []
   },
   "outputs": [
    {
     "data": {
      "text/plain": [
       "<AxesSubplot:>"
      ]
     },
     "execution_count": 15,
     "metadata": {},
     "output_type": "execute_result"
    },
    {
     "data": {
      "image/png": "[encoded data removed]",
      "text/plain": [
       "<Figure size 432x288 with 1 Axes>"
      ]
     },
     "metadata": {
      "needs_background": "light"
     },
     "output_type": "display_data"
    }
   ],
   "source": [
    "nAccidents_per_street = accidents_df['Street'].value_counts()\n",
    "nAccidents_per_street.head(20).plot(kind='barh')"
   ]
  },
  {
   "cell_type": "code",
   "execution_count": 16,
   "id": "7ec1de4e",
   "metadata": {
    "collapsed": false,
    "execution": {
     "iopub.execute_input": "2022-02-26T21:21:58.219233Z",
     "iopub.status.busy": "2022-02-26T21:21:58.216284Z",
     "iopub.status.idle": "2022-02-26T21:21:58.225119Z",
     "shell.execute_reply": "2022-02-26T21:21:58.225621Z",
     "shell.execute_reply.started": "2022-02-26T20:15:53.043735Z"
    },
    "jupyter": {
     "outputs_hidden": false
    },
    "papermill": {
     "duration": 0.144455,
     "end_time": "2022-02-26T21:21:58.225793",
     "exception": false,
     "start_time": "2022-02-26T21:21:58.081338",
     "status": "completed"
    },
    "pycharm": {
     "name": "#%%\n"
    },
    "tags": []
   },
   "outputs": [
    {
     "data": {
      "text/plain": [
       "25.82781456953642"
      ]
     },
     "execution_count": 16,
     "metadata": {},
     "output_type": "execute_result"
    }
   ],
   "source": [
    "#percentage of number of streets with under ten accidents recorded\n",
    "nAccidents_per_street = nAccidents_per_street.value_counts()\n",
    "len(nAccidents_per_street.loc[nAccidents_per_street > 4]) / len(nAccidents_per_street) * 100 "
   ]
  },
  {
   "cell_type": "markdown",
   "id": "7359e107",
   "metadata": {
    "papermill": {
     "duration": 0.130169,
     "end_time": "2022-02-26T21:21:58.488211",
     "exception": false,
     "start_time": "2022-02-26T21:21:58.358042",
     "status": "completed"
    },
    "tags": []
   },
   "source": [
    "<a id=\"top-5-dang-st-city\"></a>\n",
    "# Which cities in the most accident prone states have the most accidents?\n",
    "- What is the overlap between accident prone cities in general and in accident prone states? "
   ]
  },
  {
   "cell_type": "code",
   "execution_count": 17,
   "id": "2ee36f83",
   "metadata": {
    "collapsed": false,
    "execution": {
     "iopub.execute_input": "2022-02-26T21:21:58.759876Z",
     "iopub.status.busy": "2022-02-26T21:21:58.759239Z",
     "iopub.status.idle": "2022-02-26T21:22:00.571419Z",
     "shell.execute_reply": "2022-02-26T21:22:00.571918Z",
     "shell.execute_reply.started": "2022-02-26T20:15:53.059299Z"
    },
    "jupyter": {
     "outputs_hidden": false
    },
    "papermill": {
     "duration": 1.949968,
     "end_time": "2022-02-26T21:22:00.572106",
     "exception": false,
     "start_time": "2022-02-26T21:21:58.622138",
     "status": "completed"
    },
    "pycharm": {
     "name": "#%%\n"
    },
    "tags": []
   },
   "outputs": [
    {
     "data": {
      "image/png": "[encoded data removed]",
      "text/plain": [
       "<Figure size 1080x1080 with 1 Axes>"
      ]
     },
     "metadata": {
      "needs_background": "light"
     },
     "output_type": "display_data"
    },
    {
     "data": {
      "text/html": [
       "<div>\n",
       "<style scoped>\n",
       "    .dataframe tbody tr th:only-of-type {\n",
       "        vertical-align: middle;\n",
       "    }\n",
       "\n",
       "    .dataframe tbody tr th {\n",
       "        vertical-align: top;\n",
       "    }\n",
       "\n",
       "    .dataframe thead th {\n",
       "        text-align: right;\n",
       "    }\n",
       "</style>\n",
       "<table border=\"1\" class=\"dataframe\">\n",
       "  <thead>\n",
       "    <tr style=\"text-align: right;\">\n",
       "      <th></th>\n",
       "      <th>City</th>\n",
       "      <th>state_city_count</th>\n",
       "    </tr>\n",
       "    <tr>\n",
       "      <th>State</th>\n",
       "      <th></th>\n",
       "      <th></th>\n",
       "    </tr>\n",
       "  </thead>\n",
       "  <tbody>\n",
       "    <tr>\n",
       "      <th>CA</th>\n",
       "      <td>Los Angeles</td>\n",
       "      <td>39984</td>\n",
       "    </tr>\n",
       "    <tr>\n",
       "      <th>CA</th>\n",
       "      <td>Sacramento</td>\n",
       "      <td>18431</td>\n",
       "    </tr>\n",
       "    <tr>\n",
       "      <th>CA</th>\n",
       "      <td>San Diego</td>\n",
       "      <td>14090</td>\n",
       "    </tr>\n",
       "    <tr>\n",
       "      <th>CA</th>\n",
       "      <td>San Jose</td>\n",
       "      <td>9361</td>\n",
       "    </tr>\n",
       "    <tr>\n",
       "      <th>CA</th>\n",
       "      <td>Riverside</td>\n",
       "      <td>7963</td>\n",
       "    </tr>\n",
       "    <tr>\n",
       "      <th>FL</th>\n",
       "      <td>Miami</td>\n",
       "      <td>36199</td>\n",
       "    </tr>\n",
       "    <tr>\n",
       "      <th>FL</th>\n",
       "      <td>Orlando</td>\n",
       "      <td>16160</td>\n",
       "    </tr>\n",
       "    <tr>\n",
       "      <th>FL</th>\n",
       "      <td>Jacksonville</td>\n",
       "      <td>7542</td>\n",
       "    </tr>\n",
       "    <tr>\n",
       "      <th>FL</th>\n",
       "      <td>Fort Lauderdale</td>\n",
       "      <td>6103</td>\n",
       "    </tr>\n",
       "    <tr>\n",
       "      <th>FL</th>\n",
       "      <td>Tampa</td>\n",
       "      <td>5987</td>\n",
       "    </tr>\n",
       "    <tr>\n",
       "      <th>IL</th>\n",
       "      <td>Chicago</td>\n",
       "      <td>11507</td>\n",
       "    </tr>\n",
       "    <tr>\n",
       "      <th>IL</th>\n",
       "      <td>Gurnee</td>\n",
       "      <td>967</td>\n",
       "    </tr>\n",
       "    <tr>\n",
       "      <th>IL</th>\n",
       "      <td>Waukegan</td>\n",
       "      <td>910</td>\n",
       "    </tr>\n",
       "    <tr>\n",
       "      <th>IL</th>\n",
       "      <td>Libertyville</td>\n",
       "      <td>889</td>\n",
       "    </tr>\n",
       "    <tr>\n",
       "      <th>IL</th>\n",
       "      <td>Lake Zurich</td>\n",
       "      <td>857</td>\n",
       "    </tr>\n",
       "    <tr>\n",
       "      <th>MN</th>\n",
       "      <td>Minneapolis</td>\n",
       "      <td>12653</td>\n",
       "    </tr>\n",
       "    <tr>\n",
       "      <th>MN</th>\n",
       "      <td>Saint Paul</td>\n",
       "      <td>9991</td>\n",
       "    </tr>\n",
       "    <tr>\n",
       "      <th>MN</th>\n",
       "      <td>Burnsville</td>\n",
       "      <td>730</td>\n",
       "    </tr>\n",
       "    <tr>\n",
       "      <th>MN</th>\n",
       "      <td>Monticello</td>\n",
       "      <td>648</td>\n",
       "    </tr>\n",
       "    <tr>\n",
       "      <th>MN</th>\n",
       "      <td>Forest Lake</td>\n",
       "      <td>644</td>\n",
       "    </tr>\n",
       "    <tr>\n",
       "      <th>NC</th>\n",
       "      <td>Charlotte</td>\n",
       "      <td>22093</td>\n",
       "    </tr>\n",
       "    <tr>\n",
       "      <th>NC</th>\n",
       "      <td>Raleigh</td>\n",
       "      <td>9512</td>\n",
       "    </tr>\n",
       "    <tr>\n",
       "      <th>NC</th>\n",
       "      <td>Garner</td>\n",
       "      <td>1192</td>\n",
       "    </tr>\n",
       "    <tr>\n",
       "      <th>NC</th>\n",
       "      <td>Winston Salem</td>\n",
       "      <td>1023</td>\n",
       "    </tr>\n",
       "    <tr>\n",
       "      <th>NC</th>\n",
       "      <td>Durham</td>\n",
       "      <td>1006</td>\n",
       "    </tr>\n",
       "    <tr>\n",
       "      <th>NY</th>\n",
       "      <td>Bronx</td>\n",
       "      <td>5563</td>\n",
       "    </tr>\n",
       "    <tr>\n",
       "      <th>NY</th>\n",
       "      <td>Rochester</td>\n",
       "      <td>4836</td>\n",
       "    </tr>\n",
       "    <tr>\n",
       "      <th>NY</th>\n",
       "      <td>New York</td>\n",
       "      <td>4220</td>\n",
       "    </tr>\n",
       "    <tr>\n",
       "      <th>NY</th>\n",
       "      <td>Brooklyn</td>\n",
       "      <td>3429</td>\n",
       "    </tr>\n",
       "    <tr>\n",
       "      <th>NY</th>\n",
       "      <td>Buffalo</td>\n",
       "      <td>1745</td>\n",
       "    </tr>\n",
       "    <tr>\n",
       "      <th>OR</th>\n",
       "      <td>Portland</td>\n",
       "      <td>14526</td>\n",
       "    </tr>\n",
       "    <tr>\n",
       "      <th>OR</th>\n",
       "      <td>Salem</td>\n",
       "      <td>2826</td>\n",
       "    </tr>\n",
       "    <tr>\n",
       "      <th>OR</th>\n",
       "      <td>Bend</td>\n",
       "      <td>2520</td>\n",
       "    </tr>\n",
       "    <tr>\n",
       "      <th>OR</th>\n",
       "      <td>Eugene</td>\n",
       "      <td>2109</td>\n",
       "    </tr>\n",
       "    <tr>\n",
       "      <th>OR</th>\n",
       "      <td>Pendleton</td>\n",
       "      <td>1639</td>\n",
       "    </tr>\n",
       "    <tr>\n",
       "      <th>PA</th>\n",
       "      <td>Philadelphia</td>\n",
       "      <td>4167</td>\n",
       "    </tr>\n",
       "    <tr>\n",
       "      <th>PA</th>\n",
       "      <td>Pittsburgh</td>\n",
       "      <td>1964</td>\n",
       "    </tr>\n",
       "    <tr>\n",
       "      <th>PA</th>\n",
       "      <td>York</td>\n",
       "      <td>1719</td>\n",
       "    </tr>\n",
       "    <tr>\n",
       "      <th>PA</th>\n",
       "      <td>Lancaster</td>\n",
       "      <td>1540</td>\n",
       "    </tr>\n",
       "    <tr>\n",
       "      <th>PA</th>\n",
       "      <td>Norristown</td>\n",
       "      <td>808</td>\n",
       "    </tr>\n",
       "    <tr>\n",
       "      <th>TX</th>\n",
       "      <td>Houston</td>\n",
       "      <td>20793</td>\n",
       "    </tr>\n",
       "    <tr>\n",
       "      <th>TX</th>\n",
       "      <td>Dallas</td>\n",
       "      <td>19282</td>\n",
       "    </tr>\n",
       "    <tr>\n",
       "      <th>TX</th>\n",
       "      <td>Austin</td>\n",
       "      <td>6870</td>\n",
       "    </tr>\n",
       "    <tr>\n",
       "      <th>TX</th>\n",
       "      <td>Fort Worth</td>\n",
       "      <td>3848</td>\n",
       "    </tr>\n",
       "    <tr>\n",
       "      <th>TX</th>\n",
       "      <td>San Antonio</td>\n",
       "      <td>3823</td>\n",
       "    </tr>\n",
       "    <tr>\n",
       "      <th>VA</th>\n",
       "      <td>Richmond</td>\n",
       "      <td>6974</td>\n",
       "    </tr>\n",
       "    <tr>\n",
       "      <th>VA</th>\n",
       "      <td>Norfolk</td>\n",
       "      <td>2202</td>\n",
       "    </tr>\n",
       "    <tr>\n",
       "      <th>VA</th>\n",
       "      <td>Fairfax</td>\n",
       "      <td>1794</td>\n",
       "    </tr>\n",
       "    <tr>\n",
       "      <th>VA</th>\n",
       "      <td>Henrico</td>\n",
       "      <td>1756</td>\n",
       "    </tr>\n",
       "    <tr>\n",
       "      <th>VA</th>\n",
       "      <td>Alexandria</td>\n",
       "      <td>1506</td>\n",
       "    </tr>\n",
       "  </tbody>\n",
       "</table>\n",
       "</div>"
      ],
      "text/plain": [
       "                  City  state_city_count\n",
       "State                                   \n",
       "CA         Los Angeles             39984\n",
       "CA          Sacramento             18431\n",
       "CA           San Diego             14090\n",
       "CA            San Jose              9361\n",
       "CA           Riverside              7963\n",
       "FL               Miami             36199\n",
       "FL             Orlando             16160\n",
       "FL        Jacksonville              7542\n",
       "FL     Fort Lauderdale              6103\n",
       "FL               Tampa              5987\n",
       "IL             Chicago             11507\n",
       "IL              Gurnee               967\n",
       "IL            Waukegan               910\n",
       "IL        Libertyville               889\n",
       "IL         Lake Zurich               857\n",
       "MN         Minneapolis             12653\n",
       "MN          Saint Paul              9991\n",
       "MN          Burnsville               730\n",
       "MN          Monticello               648\n",
       "MN         Forest Lake               644\n",
       "NC           Charlotte             22093\n",
       "NC             Raleigh              9512\n",
       "NC              Garner              1192\n",
       "NC       Winston Salem              1023\n",
       "NC              Durham              1006\n",
       "NY               Bronx              5563\n",
       "NY           Rochester              4836\n",
       "NY            New York              4220\n",
       "NY            Brooklyn              3429\n",
       "NY             Buffalo              1745\n",
       "OR            Portland             14526\n",
       "OR               Salem              2826\n",
       "OR                Bend              2520\n",
       "OR              Eugene              2109\n",
       "OR           Pendleton              1639\n",
       "PA        Philadelphia              4167\n",
       "PA          Pittsburgh              1964\n",
       "PA                York              1719\n",
       "PA           Lancaster              1540\n",
       "PA          Norristown               808\n",
       "TX             Houston             20793\n",
       "TX              Dallas             19282\n",
       "TX              Austin              6870\n",
       "TX          Fort Worth              3848\n",
       "TX         San Antonio              3823\n",
       "VA            Richmond              6974\n",
       "VA             Norfolk              2202\n",
       "VA             Fairfax              1794\n",
       "VA             Henrico              1756\n",
       "VA          Alexandria              1506"
      ]
     },
     "execution_count": 17,
     "metadata": {},
     "output_type": "execute_result"
    }
   ],
   "source": [
    "#Accident prone cities in most accident prone states\n",
    "accident_prone_states = accident_prone_states_df.index.to_list()\n",
    "df_accident_prone_states = accidents_df[accidents_df['State'].isin(accident_prone_states)]\n",
    "df_accident_prone_cities_in_states = df_accident_prone_states.groupby(['State','City'])['Severity'].count().rename('state_city_count')\n",
    "df_accident_prone_cities_in_states = df_accident_prone_cities_in_states.reset_index().groupby(['State'],as_index=False).apply(lambda x: x.nlargest(nAccident_prone_cities_in_states,'state_city_count'))\n",
    "\n",
    "df_accident_prone_cities_in_states.set_index(keys=['State', 'City']).plot.barh(color=(\"tab:blue\"), figsize=(15, 15))\n",
    "plt.title(\"Number of accidents per state & city\")\n",
    "plt.show()\n",
    "df_accident_prone_cities_in_states = df_accident_prone_cities_in_states.set_index('State')\n",
    "df_accident_prone_cities_in_states"
   ]
  },
  {
   "cell_type": "code",
   "execution_count": 18,
   "id": "692687c6",
   "metadata": {
    "collapsed": false,
    "execution": {
     "iopub.execute_input": "2022-02-26T21:22:00.851171Z",
     "iopub.status.busy": "2022-02-26T21:22:00.850522Z",
     "iopub.status.idle": "2022-02-26T21:22:00.857134Z",
     "shell.execute_reply": "2022-02-26T21:22:00.857669Z",
     "shell.execute_reply.started": "2022-02-26T20:15:55.079194Z"
    },
    "jupyter": {
     "outputs_hidden": false
    },
    "papermill": {
     "duration": 0.14996,
     "end_time": "2022-02-26T21:22:00.857856",
     "exception": false,
     "start_time": "2022-02-26T21:22:00.707896",
     "status": "completed"
    },
    "pycharm": {
     "name": "#%%\n"
    },
    "tags": []
   },
   "outputs": [
    {
     "data": {
      "text/plain": [
       "{'Charlotte',\n",
       " 'Dallas',\n",
       " 'Houston',\n",
       " 'Los Angeles',\n",
       " 'Miami',\n",
       " 'Minneapolis',\n",
       " 'Orlando',\n",
       " 'Portland',\n",
       " 'Sacramento',\n",
       " 'San Diego'}"
      ]
     },
     "execution_count": 18,
     "metadata": {},
     "output_type": "execute_result"
    }
   ],
   "source": [
    "# The most accident prone cities which also reside in the most accident prone states\n",
    "accident_prone_cities = accident_prone_cities_df.index.to_list()\n",
    "accident_prone_cities_in_states = df_accident_prone_cities_in_states['City'].to_list()\n",
    "accident_prone_cities_in_both = set(accident_prone_cities).intersection(accident_prone_cities_in_states)\n",
    "accident_prone_cities_in_both"
   ]
  },
  {
   "cell_type": "code",
   "execution_count": 19,
   "id": "655ed08f",
   "metadata": {
    "collapsed": false,
    "execution": {
     "iopub.execute_input": "2022-02-26T21:22:01.137051Z",
     "iopub.status.busy": "2022-02-26T21:22:01.132655Z",
     "iopub.status.idle": "2022-02-26T21:22:01.139816Z",
     "shell.execute_reply": "2022-02-26T21:22:01.140377Z",
     "shell.execute_reply.started": "2022-02-26T20:15:55.089967Z"
    },
    "jupyter": {
     "outputs_hidden": false
    },
    "papermill": {
     "duration": 0.146641,
     "end_time": "2022-02-26T21:22:01.140544",
     "exception": false,
     "start_time": "2022-02-26T21:22:00.993903",
     "status": "completed"
    },
    "pycharm": {
     "name": "#%%\n"
    },
    "tags": []
   },
   "outputs": [
    {
     "data": {
      "text/plain": [
       "Counter({'CA': 3, 'FL': 2, 'MN': 1, 'NC': 1, 'OR': 1, 'TX': 2})"
      ]
     },
     "execution_count": 19,
     "metadata": {},
     "output_type": "execute_result"
    }
   ],
   "source": [
    "# Out of the most accident prone states which also reside in the most accident prone states, what is the distribution over said states? \n",
    "overall_accident_prone_cities_df = df_accident_prone_cities_in_states[df_accident_prone_cities_in_states['City'].isin(accident_prone_cities_in_both)]\n",
    "accident_prone_states_counter = Counter(overall_accident_prone_cities_df.index.to_list())\n",
    "accident_prone_states_counter"
   ]
  },
  {
   "cell_type": "markdown",
   "id": "9627e9a4",
   "metadata": {
    "papermill": {
     "duration": 0.134897,
     "end_time": "2022-02-26T21:22:01.412510",
     "exception": false,
     "start_time": "2022-02-26T21:22:01.277613",
     "status": "completed"
    },
    "tags": []
   },
   "source": [
    "# Missing Values analysis\n",
    "focusing on most accident prone cities and on most accident prone states for further analysis"
   ]
  },
  {
   "cell_type": "code",
   "execution_count": 20,
   "id": "0328b433",
   "metadata": {
    "collapsed": false,
    "execution": {
     "iopub.execute_input": "2022-02-26T21:22:01.685636Z",
     "iopub.status.busy": "2022-02-26T21:22:01.684938Z",
     "iopub.status.idle": "2022-02-26T21:22:01.688699Z",
     "shell.execute_reply": "2022-02-26T21:22:01.689284Z",
     "shell.execute_reply.started": "2022-02-26T20:15:55.112274Z"
    },
    "jupyter": {
     "outputs_hidden": false
    },
    "papermill": {
     "duration": 0.142408,
     "end_time": "2022-02-26T21:22:01.689478",
     "exception": false,
     "start_time": "2022-02-26T21:22:01.547070",
     "status": "completed"
    },
    "pycharm": {
     "name": "#%%\n"
    },
    "tags": []
   },
   "outputs": [],
   "source": [
    "def get_missing_percentages(col):\n",
    "    return 1 / len(col) * 100 * (col.isna().sum().sort_values(ascending=False))"
   ]
  },
  {
   "cell_type": "code",
   "execution_count": 21,
   "id": "4de9b803",
   "metadata": {
    "collapsed": false,
    "execution": {
     "iopub.execute_input": "2022-02-26T21:22:01.965934Z",
     "iopub.status.busy": "2022-02-26T21:22:01.965262Z",
     "iopub.status.idle": "2022-02-26T21:22:01.970713Z",
     "shell.execute_reply": "2022-02-26T21:22:01.971284Z",
     "shell.execute_reply.started": "2022-02-26T20:15:55.129234Z"
    },
    "jupyter": {
     "outputs_hidden": false
    },
    "papermill": {
     "duration": 0.144688,
     "end_time": "2022-02-26T21:22:01.971460",
     "exception": false,
     "start_time": "2022-02-26T21:22:01.826772",
     "status": "completed"
    },
    "pycharm": {
     "name": "#%%\n"
    },
    "tags": []
   },
   "outputs": [
    {
     "data": {
      "text/plain": [
       "['CA', 'FL', 'TX']"
      ]
     },
     "execution_count": 21,
     "metadata": {},
     "output_type": "execute_result"
    }
   ],
   "source": [
    "#We choose to focus on states which have accident prone cities\n",
    "accident_prone_states = [state for state,cities_count in accident_prone_states_counter.items() if cities_count > 1]\n",
    "accident_prone_states"
   ]
  },
  {
   "cell_type": "code",
   "execution_count": 22,
   "id": "e4309816",
   "metadata": {
    "collapsed": false,
    "execution": {
     "iopub.execute_input": "2022-02-26T21:22:02.253670Z",
     "iopub.status.busy": "2022-02-26T21:22:02.252970Z",
     "iopub.status.idle": "2022-02-26T21:22:05.374234Z",
     "shell.execute_reply": "2022-02-26T21:22:05.373672Z",
     "shell.execute_reply.started": "2022-02-26T20:15:55.147898Z"
    },
    "jupyter": {
     "outputs_hidden": false
    },
    "papermill": {
     "duration": 3.262742,
     "end_time": "2022-02-26T21:22:05.374391",
     "exception": false,
     "start_time": "2022-02-26T21:22:02.111649",
     "status": "completed"
    },
    "pycharm": {
     "name": "#%%\n"
    },
    "tags": []
   },
   "outputs": [
    {
     "data": {
      "text/plain": [
       "Number                   69.000715\n",
       "Precipitation(in)        33.675953\n",
       "Wind_Chill(F)            29.637007\n",
       "Wind_Speed(mph)           8.499773\n",
       "Humidity(%)               3.001786\n",
       "Visibility(mi)            2.916170\n",
       "Weather_Condition         2.902714\n",
       "Temperature(F)            2.838469\n",
       "Wind_Direction            2.760965\n",
       "Pressure(in)              2.392643\n",
       "Weather_Timestamp         1.996222\n",
       "Airport_Code              0.280199\n",
       "Timezone                  0.151841\n",
       "Zipcode                   0.061673\n",
       "Sunrise_Sunset            0.005475\n",
       "Civil_Twilight            0.005475\n",
       "Nautical_Twilight         0.005475\n",
       "Astronomical_Twilight     0.005475\n",
       "City                      0.005475\n",
       "dtype: float64"
      ]
     },
     "execution_count": 22,
     "metadata": {},
     "output_type": "execute_result"
    }
   ],
   "source": [
    "#Overall missing values for comparison\n",
    "total_missing_percentage = get_missing_percentages(accidents_df)\n",
    "total_missing_percentage[total_missing_percentage > 0]"
   ]
  },
  {
   "cell_type": "code",
   "execution_count": 23,
   "id": "db3d65a3",
   "metadata": {
    "collapsed": false,
    "execution": {
     "iopub.execute_input": "2022-02-26T21:22:05.898548Z",
     "iopub.status.busy": "2022-02-26T21:22:05.897793Z",
     "iopub.status.idle": "2022-02-26T21:22:06.496165Z",
     "shell.execute_reply": "2022-02-26T21:22:06.495522Z",
     "shell.execute_reply.started": "2022-02-26T20:15:58.422097Z"
    },
    "jupyter": {
     "outputs_hidden": false
    },
    "papermill": {
     "duration": 0.98241,
     "end_time": "2022-02-26T21:22:06.496311",
     "exception": false,
     "start_time": "2022-02-26T21:22:05.513901",
     "status": "completed"
    },
    "pycharm": {
     "name": "#%%\n"
    },
    "tags": []
   },
   "outputs": [
    {
     "data": {
      "text/plain": [
       "State                   \n",
       "CA     Number               78.578029\n",
       "       Precipitation(in)    35.953383\n",
       "       Wind_Chill(F)        28.031170\n",
       "       Wind_Speed(mph)       9.054548\n",
       "       Wind_Direction        1.587477\n",
       "       Humidity(%)           1.128198\n",
       "       Temperature(F)        1.021998\n",
       "       Pressure(in)          0.791670\n",
       "       Visibility(mi)        0.766844\n",
       "       Weather_Condition     0.733743\n",
       "       Weather_Timestamp     0.622026\n",
       "FL     Number               49.364961\n",
       "       Wind_Chill(F)        27.515804\n",
       "       Precipitation(in)    21.952291\n",
       "       Wind_Speed(mph)       3.386237\n",
       "       Humidity(%)           3.002349\n",
       "       Temperature(F)        2.754063\n",
       "       Visibility(mi)        1.550832\n",
       "       Wind_Direction        1.124926\n",
       "       Weather_Condition     1.103917\n",
       "       Pressure(in)          0.639814\n",
       "       Weather_Timestamp     0.590156\n",
       "TX     Number               74.946974\n",
       "       Wind_Chill(F)        46.245789\n",
       "       Precipitation(in)    45.437305\n",
       "       Wind_Speed(mph)       6.642545\n",
       "       Weather_Condition     1.040549\n",
       "       Humidity(%)           0.965689\n",
       "       Temperature(F)        0.958203\n",
       "       Visibility(mi)        0.945727\n",
       "       Wind_Direction        0.933250\n",
       "       Pressure(in)          0.903306\n",
       "       Weather_Timestamp     0.843419\n",
       "       Airport_Code          0.012477\n",
       "dtype: float64"
      ]
     },
     "execution_count": 23,
     "metadata": {},
     "output_type": "execute_result"
    }
   ],
   "source": [
    "accident_prone_cities_df = accidents_df[(accidents_df['City'].isin(accident_prone_cities_in_both)) & (accidents_df['State'].isin(accident_prone_states))]\n",
    "missing_percentages = accident_prone_cities_df.groupby('State').apply(lambda col : get_missing_percentages(col))\n",
    "missing_percentages = missing_percentages[ missing_percentages > 0]\n",
    "missing_percentages"
   ]
  },
  {
   "cell_type": "code",
   "execution_count": 24,
   "id": "0b160a29",
   "metadata": {
    "collapsed": false,
    "execution": {
     "iopub.execute_input": "2022-02-26T21:22:06.788922Z",
     "iopub.status.busy": "2022-02-26T21:22:06.788275Z",
     "iopub.status.idle": "2022-02-26T21:22:07.081543Z",
     "shell.execute_reply": "2022-02-26T21:22:07.080790Z",
     "shell.execute_reply.started": "2022-02-26T20:15:59.495552Z"
    },
    "jupyter": {
     "outputs_hidden": false
    },
    "papermill": {
     "duration": 0.448328,
     "end_time": "2022-02-26T21:22:07.081712",
     "exception": false,
     "start_time": "2022-02-26T21:22:06.633384",
     "status": "completed"
    },
    "pycharm": {
     "name": "#%%\n"
    },
    "tags": []
   },
   "outputs": [
    {
     "data": {
      "text/plain": [
       "State\n",
       "CA    AxesSubplot(0.125,0.125;0.775x0.755)\n",
       "FL    AxesSubplot(0.125,0.125;0.775x0.755)\n",
       "TX    AxesSubplot(0.125,0.125;0.775x0.755)\n",
       "Name: Missing Percentage, dtype: object"
      ]
     },
     "execution_count": 24,
     "metadata": {},
     "output_type": "execute_result"
    },
    {
     "data": {
      "image/png": "[encoded data removed]",
      "text/plain": [
       "<Figure size 1200x480 with 1 Axes>"
      ]
     },
     "metadata": {
      "needs_background": "light"
     },
     "output_type": "display_data"
    }
   ],
   "source": [
    "#Displaying meaningful missing values \n",
    "plt.figure(figsize=(15, 6), dpi=80)\n",
    "missing_percentages = missing_percentages.reset_index().set_index('level_1').rename(columns={0: 'Missing Percentage'})\n",
    "missing_percentages.index\n",
    "missing_percentages.groupby('State')['Missing Percentage'].plot(legend=True)"
   ]
  },
  {
   "cell_type": "markdown",
   "id": "e30fe735",
   "metadata": {
    "papermill": {
     "duration": 0.139096,
     "end_time": "2022-02-26T21:22:07.359212",
     "exception": false,
     "start_time": "2022-02-26T21:22:07.220116",
     "status": "completed"
    },
    "tags": []
   },
   "source": [
    "# Duplications"
   ]
  },
  {
   "cell_type": "code",
   "execution_count": 25,
   "id": "70447329",
   "metadata": {
    "collapsed": false,
    "execution": {
     "iopub.execute_input": "2022-02-26T21:22:07.643624Z",
     "iopub.status.busy": "2022-02-26T21:22:07.642875Z",
     "iopub.status.idle": "2022-02-26T21:22:14.492877Z",
     "shell.execute_reply": "2022-02-26T21:22:14.492325Z",
     "shell.execute_reply.started": "2022-02-26T20:15:59.816673Z"
    },
    "jupyter": {
     "outputs_hidden": false
    },
    "papermill": {
     "duration": 6.993728,
     "end_time": "2022-02-26T21:22:14.493068",
     "exception": false,
     "start_time": "2022-02-26T21:22:07.499340",
     "status": "completed"
    },
    "pycharm": {
     "name": "#%%\n"
    },
    "tags": []
   },
   "outputs": [
    {
     "data": {
      "text/plain": [
       "False    1405628\n",
       "True      110436\n",
       "dtype: int64"
      ]
     },
     "execution_count": 25,
     "metadata": {},
     "output_type": "execute_result"
    }
   ],
   "source": [
    "accidents_df.duplicated().value_counts()"
   ]
  },
  {
   "cell_type": "markdown",
   "id": "c6e09c49",
   "metadata": {
    "papermill": {
     "duration": 0.166654,
     "end_time": "2022-02-26T21:22:14.801273",
     "exception": false,
     "start_time": "2022-02-26T21:22:14.634619",
     "status": "completed"
    },
    "tags": []
   },
   "source": [
    "<a id=\"data-preparation\"></a>\n",
    "# Data Preparation"
   ]
  },
  {
   "cell_type": "markdown",
   "id": "8a9adcd5",
   "metadata": {
    "papermill": {
     "duration": 0.14024,
     "end_time": "2022-02-26T21:22:15.079682",
     "exception": false,
     "start_time": "2022-02-26T21:22:14.939442",
     "status": "completed"
    },
    "tags": []
   },
   "source": [
    "<a id=\"data-selection\"></a>\n",
    "# At this point, we choose to focus on the state of California\n",
    "- California is an accident prone state. \n",
    "- California has 3 of the most accident prone cities overall.\n",
    "- Most of the missing values in California's data are a part of 'Number' and 'Precipitation', which will be dealt with in the Data Preparation phase."
   ]
  },
  {
   "cell_type": "code",
   "execution_count": 26,
   "id": "f6db0685",
   "metadata": {
    "collapsed": false,
    "execution": {
     "iopub.execute_input": "2022-02-26T21:22:15.614736Z",
     "iopub.status.busy": "2022-02-26T21:22:15.613659Z",
     "iopub.status.idle": "2022-02-26T21:22:15.740888Z",
     "shell.execute_reply": "2022-02-26T21:22:15.740331Z",
     "shell.execute_reply.started": "2022-02-26T20:16:07.888734Z"
    },
    "jupyter": {
     "outputs_hidden": false
    },
    "papermill": {
     "duration": 0.523714,
     "end_time": "2022-02-26T21:22:15.741066",
     "exception": false,
     "start_time": "2022-02-26T21:22:15.217352",
     "status": "completed"
    },
    "pycharm": {
     "name": "#%%\n"
    },
    "tags": []
   },
   "outputs": [],
   "source": [
    "CA_accidents_df = accidents_df[accidents_df['State'] == 'CA']"
   ]
  },
  {
   "cell_type": "markdown",
   "id": "5ed11a58",
   "metadata": {
    "papermill": {
     "duration": 0.153526,
     "end_time": "2022-02-26T21:22:16.046252",
     "exception": false,
     "start_time": "2022-02-26T21:22:15.892726",
     "status": "completed"
    },
    "tags": []
   },
   "source": [
    "<a id=\"accidents-dist-years\"> </a>\n",
    "# Assessing distribution of records over the years"
   ]
  },
  {
   "cell_type": "code",
   "execution_count": 27,
   "id": "e66a34ed",
   "metadata": {
    "collapsed": false,
    "execution": {
     "iopub.execute_input": "2022-02-26T21:22:16.419490Z",
     "iopub.status.busy": "2022-02-26T21:22:16.418611Z",
     "iopub.status.idle": "2022-02-26T21:22:16.917183Z",
     "shell.execute_reply": "2022-02-26T21:22:16.917795Z",
     "shell.execute_reply.started": "2022-02-26T20:16:08.342787Z"
    },
    "jupyter": {
     "outputs_hidden": false
    },
    "papermill": {
     "duration": 0.694551,
     "end_time": "2022-02-26T21:22:16.918035",
     "exception": false,
     "start_time": "2022-02-26T21:22:16.223484",
     "status": "completed"
    },
    "pycharm": {
     "name": "#%%\n"
    },
    "tags": []
   },
   "outputs": [
    {
     "data": {
      "image/png": "[encoded data removed]",
      "text/plain": [
       "<Figure size 432x288 with 1 Axes>"
      ]
     },
     "metadata": {
      "needs_background": "light"
     },
     "output_type": "display_data"
    }
   ],
   "source": [
    "CA_accidents_df['Year'] = CA_accidents_df.Start_Time.str[:4]\n",
    "years = CA_accidents_df.groupby('Year').size()\n",
    "years.plot.bar(x='Year', y='Count', color=\"blue\")\n",
    "plt.title(\"Distribution of yearly accidents in California's accident prone cities\")\n",
    "plt.xlabel(\"Year\")\n",
    "plt.ylabel(\"Number of Accidents\")\n",
    "# plt.yscale('log')\n",
    "plt.show()"
   ]
  },
  {
   "cell_type": "code",
   "execution_count": 28,
   "id": "99c2fb38",
   "metadata": {
    "collapsed": false,
    "execution": {
     "iopub.execute_input": "2022-02-26T21:22:17.217661Z",
     "iopub.status.busy": "2022-02-26T21:22:17.216782Z",
     "iopub.status.idle": "2022-02-26T21:22:17.220133Z",
     "shell.execute_reply": "2022-02-26T21:22:17.220702Z",
     "shell.execute_reply.started": "2022-02-26T20:16:08.940279Z"
    },
    "jupyter": {
     "outputs_hidden": false
    },
    "papermill": {
     "duration": 0.152607,
     "end_time": "2022-02-26T21:22:17.220883",
     "exception": false,
     "start_time": "2022-02-26T21:22:17.068276",
     "status": "completed"
    },
    "pycharm": {
     "name": "#%%\n"
    },
    "tags": []
   },
   "outputs": [
    {
     "name": "stdout",
     "output_type": "stream",
     "text": [
      "The 2 most accident packed years are ['2020', '2019']\n",
      "The 2 most accident packed years make a total of 76.46407461126967% of accidents in California\n"
     ]
    }
   ],
   "source": [
    "nPrevalent_years = 2\n",
    "prevalent_years = years.nlargest(nPrevalent_years).index.to_list()\n",
    "percentage_accidents_prevalent_years = years.nlargest(2).sum() / years.sum() * 100\n",
    "print(f'The {nPrevalent_years} most accident packed years are {prevalent_years}')\n",
    "print(f'The {nPrevalent_years} most accident packed years make a total of {percentage_accidents_prevalent_years}% of accidents in California')"
   ]
  },
  {
   "cell_type": "markdown",
   "id": "b9e67ce2",
   "metadata": {
    "papermill": {
     "duration": 0.140963,
     "end_time": "2022-02-26T21:22:17.503743",
     "exception": false,
     "start_time": "2022-02-26T21:22:17.362780",
     "status": "completed"
    },
    "tags": []
   },
   "source": [
    "### We sample the top 5 most accident prone cities in California."
   ]
  },
  {
   "cell_type": "code",
   "execution_count": 29,
   "id": "884fa2f6",
   "metadata": {
    "collapsed": false,
    "execution": {
     "iopub.execute_input": "2022-02-26T21:22:17.880283Z",
     "iopub.status.busy": "2022-02-26T21:22:17.879532Z",
     "iopub.status.idle": "2022-02-26T21:22:18.256237Z",
     "shell.execute_reply": "2022-02-26T21:22:18.255627Z",
     "shell.execute_reply.started": "2022-02-26T20:16:08.952158Z"
    },
    "jupyter": {
     "outputs_hidden": false
    },
    "papermill": {
     "duration": 0.608644,
     "end_time": "2022-02-26T21:22:18.256393",
     "exception": false,
     "start_time": "2022-02-26T21:22:17.647749",
     "status": "completed"
    },
    "pycharm": {
     "name": "#%%\n"
    },
    "tags": []
   },
   "outputs": [
    {
     "name": "stdout",
     "output_type": "stream",
     "text": [
      "In this dataset, there are 1139 cities in California\n",
      "We choose to focus on the top 5 most accident prone, which are:\n",
      "\n",
      " ['Los Angeles', 'Sacramento', 'San Diego', 'San Jose', 'Riverside']\n"
     ]
    }
   ],
   "source": [
    "#We narrow down our focus to most accident prone cities\n",
    "nCities = len(CA_accidents_df['City'].unique()) #cities in California in the dataset \n",
    "CA_accident_prone_cities = df_accident_prone_cities_in_states[df_accident_prone_cities_in_states.index == 'CA']['City'].to_list()\n",
    "CA_accidents_df = CA_accidents_df[CA_accidents_df['City'].isin(CA_accident_prone_cities)]\n",
    "\n",
    "print(f'In this dataset, there are {nCities} cities in California')\n",
    "print(f'We choose to focus on the top {nAccident_prone_cities_in_states} most accident prone, which are:\\n\\n {CA_accident_prone_cities}')"
   ]
  },
  {
   "cell_type": "markdown",
   "id": "df1c4932",
   "metadata": {
    "papermill": {
     "duration": 0.140999,
     "end_time": "2022-02-26T21:22:18.539069",
     "exception": false,
     "start_time": "2022-02-26T21:22:18.398070",
     "status": "completed"
    },
    "tags": []
   },
   "source": [
    "# Severity distribution by percent \n",
    "<a id=\"severity-dist\"></a>"
   ]
  },
  {
   "cell_type": "code",
   "execution_count": 30,
   "id": "c0d07252",
   "metadata": {
    "collapsed": false,
    "execution": {
     "iopub.execute_input": "2022-02-26T21:22:18.827619Z",
     "iopub.status.busy": "2022-02-26T21:22:18.825800Z",
     "iopub.status.idle": "2022-02-26T21:22:18.829407Z",
     "shell.execute_reply": "2022-02-26T21:22:18.830064Z",
     "shell.execute_reply.started": "2022-02-26T20:16:09.628199Z"
    },
    "jupyter": {
     "outputs_hidden": false
    },
    "papermill": {
     "duration": 0.148427,
     "end_time": "2022-02-26T21:22:18.830250",
     "exception": false,
     "start_time": "2022-02-26T21:22:18.681823",
     "status": "completed"
    },
    "pycharm": {
     "name": "#%%\n"
    },
    "tags": []
   },
   "outputs": [],
   "source": [
    "def values_dist_by_percent(col):\n",
    "    return col.value_counts() / len(col) * 100"
   ]
  },
  {
   "cell_type": "code",
   "execution_count": 31,
   "id": "e6f6f2e9",
   "metadata": {
    "collapsed": false,
    "execution": {
     "iopub.execute_input": "2022-02-26T21:22:19.114804Z",
     "iopub.status.busy": "2022-02-26T21:22:19.114113Z",
     "iopub.status.idle": "2022-02-26T21:22:19.395825Z",
     "shell.execute_reply": "2022-02-26T21:22:19.396509Z",
     "shell.execute_reply.started": "2022-02-26T20:16:09.640916Z"
    },
    "jupyter": {
     "outputs_hidden": false
    },
    "papermill": {
     "duration": 0.426247,
     "end_time": "2022-02-26T21:22:19.396689",
     "exception": false,
     "start_time": "2022-02-26T21:22:18.970442",
     "status": "completed"
    },
    "pycharm": {
     "name": "#%%\n"
    },
    "tags": []
   },
   "outputs": [
    {
     "data": {
      "image/png": "[encoded data removed]",
      "text/plain": [
       "<Figure size 432x288 with 1 Axes>"
      ]
     },
     "metadata": {
      "needs_background": "light"
     },
     "output_type": "display_data"
    }
   ],
   "source": [
    "Severity_dist = CA_accidents_df.groupby('City')['Severity'].apply(values_dist_by_percent) \n",
    "Severity_dist.plot.barh()\n",
    "plt.title('Severity distribution by precent in CA')\n",
    "plt.xlabel('Precent')\n",
    "plt.show()"
   ]
  },
  {
   "cell_type": "markdown",
   "id": "466662f5",
   "metadata": {
    "papermill": {
     "duration": 0.143993,
     "end_time": "2022-02-26T21:22:19.683543",
     "exception": false,
     "start_time": "2022-02-26T21:22:19.539550",
     "status": "completed"
    },
    "tags": []
   },
   "source": []
  },
  {
   "cell_type": "code",
   "execution_count": 32,
   "id": "00c6b9d6",
   "metadata": {
    "collapsed": false,
    "execution": {
     "iopub.execute_input": "2022-02-26T21:22:19.968635Z",
     "iopub.status.busy": "2022-02-26T21:22:19.967938Z",
     "iopub.status.idle": "2022-02-26T21:22:19.995265Z",
     "shell.execute_reply": "2022-02-26T21:22:19.995756Z",
     "shell.execute_reply.started": "2022-02-26T20:16:09.946147Z"
    },
    "jupyter": {
     "outputs_hidden": false
    },
    "papermill": {
     "duration": 0.171364,
     "end_time": "2022-02-26T21:22:19.995937",
     "exception": false,
     "start_time": "2022-02-26T21:22:19.824573",
     "status": "completed"
    },
    "pycharm": {
     "name": "#%%\n"
    },
    "tags": []
   },
   "outputs": [
    {
     "data": {
      "text/plain": [
       "2    88.601645\n",
       "3     5.576327\n",
       "1     4.358509\n",
       "4     1.463519\n",
       "Name: Severity, dtype: float64"
      ]
     },
     "execution_count": 32,
     "metadata": {},
     "output_type": "execute_result"
    }
   ],
   "source": [
    "san_jose = CA_accidents_df[CA_accidents_df['City'] == 'San Jose']\n",
    "values_dist_by_percent(san_jose['Severity'])"
   ]
  },
  {
   "cell_type": "markdown",
   "id": "becda4c3",
   "metadata": {
    "papermill": {
     "duration": 0.142406,
     "end_time": "2022-02-26T21:22:20.280724",
     "exception": false,
     "start_time": "2022-02-26T21:22:20.138318",
     "status": "completed"
    },
    "tags": []
   },
   "source": [
    "# Accidents duration distribution in hours \n",
    "<a id=\"accidents-per-hour\"></a>"
   ]
  },
  {
   "cell_type": "code",
   "execution_count": 33,
   "id": "1a830926",
   "metadata": {
    "collapsed": false,
    "execution": {
     "iopub.execute_input": "2022-02-26T21:22:20.730762Z",
     "iopub.status.busy": "2022-02-26T21:22:20.566038Z",
     "iopub.status.idle": "2022-02-26T21:22:30.323842Z",
     "shell.execute_reply": "2022-02-26T21:22:30.323193Z",
     "shell.execute_reply.started": "2022-02-26T20:16:09.993016Z"
    },
    "jupyter": {
     "outputs_hidden": false
    },
    "papermill": {
     "duration": 9.901877,
     "end_time": "2022-02-26T21:22:30.323993",
     "exception": false,
     "start_time": "2022-02-26T21:22:20.422116",
     "status": "completed"
    },
    "pycharm": {
     "name": "#%%\n"
    },
    "tags": []
   },
   "outputs": [
    {
     "data": {
      "text/plain": [
       "count    89829.000000\n",
       "mean         2.660901\n",
       "std          2.676879\n",
       "min          0.100000\n",
       "25%          0.583889\n",
       "50%          1.493889\n",
       "75%          6.000000\n",
       "max         23.994444\n",
       "Name: Accident_Duration_Hours, dtype: float64"
      ]
     },
     "execution_count": 33,
     "metadata": {},
     "output_type": "execute_result"
    }
   ],
   "source": [
    "#2. Accidents duration in hours in California State \n",
    "hourly_accidents_df = pd.DataFrame({})\n",
    "hourly_accidents_df['Year'] = accidents_df.Start_Time.str[:4]\n",
    "hourly_accidents_df['Start_Time'] = pd.to_datetime(CA_accidents_df['Start_Time'])\n",
    "hourly_accidents_df['End_Time'] = pd.to_datetime(CA_accidents_df['End_Time'])\n",
    "hourly_accidents_df['Accident_Duration_Hours'] = (hourly_accidents_df['End_Time'] - hourly_accidents_df['Start_Time']).apply(lambda x : x.seconds / 3600)\n",
    "hourly_accidents_df = hourly_accidents_df.loc[hourly_accidents_df['Accident_Duration_Hours'] > 0,:]\n",
    "hourly_accidents_df['Accident_Duration_Hours'].describe()"
   ]
  },
  {
   "cell_type": "markdown",
   "id": "ee27f11f",
   "metadata": {
    "papermill": {
     "duration": 0.141447,
     "end_time": "2022-02-26T21:22:30.608068",
     "exception": false,
     "start_time": "2022-02-26T21:22:30.466621",
     "status": "completed"
    },
    "tags": []
   },
   "source": [
    "### We attempt to focus on the most accident prone hours for further analysis."
   ]
  },
  {
   "cell_type": "code",
   "execution_count": 34,
   "id": "e732a8a0",
   "metadata": {
    "collapsed": false,
    "execution": {
     "iopub.execute_input": "2022-02-26T21:22:30.898965Z",
     "iopub.status.busy": "2022-02-26T21:22:30.898314Z",
     "iopub.status.idle": "2022-02-26T21:22:30.901594Z",
     "shell.execute_reply": "2022-02-26T21:22:30.902165Z",
     "shell.execute_reply.started": "2022-02-26T20:16:19.626273Z"
    },
    "jupyter": {
     "outputs_hidden": false
    },
    "papermill": {
     "duration": 0.152554,
     "end_time": "2022-02-26T21:22:30.902338",
     "exception": false,
     "start_time": "2022-02-26T21:22:30.749784",
     "status": "completed"
    },
    "pycharm": {
     "name": "#%%\n"
    },
    "tags": []
   },
   "outputs": [],
   "source": [
    "nAccident_prone_hours = 5\n",
    "nImpactful_weather_features = 10"
   ]
  },
  {
   "cell_type": "code",
   "execution_count": 35,
   "id": "cb0fefd2",
   "metadata": {
    "collapsed": false,
    "execution": {
     "iopub.execute_input": "2022-02-26T21:22:31.190993Z",
     "iopub.status.busy": "2022-02-26T21:22:31.190316Z",
     "iopub.status.idle": "2022-02-26T21:22:31.216443Z",
     "shell.execute_reply": "2022-02-26T21:22:31.216993Z",
     "shell.execute_reply.started": "2022-02-26T20:16:19.634706Z"
    },
    "jupyter": {
     "outputs_hidden": false
    },
    "papermill": {
     "duration": 0.172513,
     "end_time": "2022-02-26T21:22:31.217186",
     "exception": false,
     "start_time": "2022-02-26T21:22:31.044673",
     "status": "completed"
    },
    "pycharm": {
     "name": "#%%\n"
    },
    "tags": []
   },
   "outputs": [
    {
     "data": {
      "text/plain": [
       "(0.5, 1.0]    23775\n",
       "(5.5, 6.0]    19591\n",
       "(1.0, 1.5]    10637\n",
       "(0.0, 0.5]    10526\n",
       "(1.5, 2.0]     8137\n",
       "Name: Duration_Equal_Width_Bins, dtype: int64"
      ]
     },
     "execution_count": 35,
     "metadata": {},
     "output_type": "execute_result"
    }
   ],
   "source": [
    "min_bin = math.floor(hourly_accidents_df['Accident_Duration_Hours'].min())\n",
    "max_bin = math.ceil(hourly_accidents_df['Accident_Duration_Hours'].max())\n",
    "step = 0.5\n",
    "hourly_bins = np.arange(start=min_bin,stop=max_bin + step,step=step)\n",
    "\n",
    "hourly_accidents_df['Duration_Equal_Width_Bins'] = pd.cut(x=hourly_accidents_df['Accident_Duration_Hours'],bins=hourly_bins)\n",
    "hourly_accidents_df['Duration_Equal_Width_Bins'].value_counts()[:nAccident_prone_hours] "
   ]
  },
  {
   "cell_type": "markdown",
   "id": "714ae0ae",
   "metadata": {
    "papermill": {
     "duration": 0.141722,
     "end_time": "2022-02-26T21:22:31.502202",
     "exception": false,
     "start_time": "2022-02-26T21:22:31.360480",
     "status": "completed"
    },
    "tags": []
   },
   "source": [
    "# We notice that the number of accidents is in reverse ratio to the duration of the accident\n",
    "- We choose to categorize the duration of accident to get a more convenient look at the distributions.\n",
    "- We propose three categories: slow, medium and fast evacuation times for future analysis.\n",
    "- We notice that there is an irregular number of accidents with 5.5 to 6 hours. "
   ]
  },
  {
   "cell_type": "code",
   "execution_count": 36,
   "id": "aca9f2df",
   "metadata": {
    "collapsed": false,
    "execution": {
     "iopub.execute_input": "2022-02-26T21:22:31.789998Z",
     "iopub.status.busy": "2022-02-26T21:22:31.789344Z",
     "iopub.status.idle": "2022-02-26T21:22:31.804933Z",
     "shell.execute_reply": "2022-02-26T21:22:31.805667Z",
     "shell.execute_reply.started": "2022-02-26T20:16:19.672568Z"
    },
    "jupyter": {
     "outputs_hidden": false
    },
    "papermill": {
     "duration": 0.161266,
     "end_time": "2022-02-26T21:22:31.805896",
     "exception": false,
     "start_time": "2022-02-26T21:22:31.644630",
     "status": "completed"
    },
    "pycharm": {
     "name": "#%%\n"
    },
    "tags": []
   },
   "outputs": [
    {
     "name": "stdout",
     "output_type": "stream",
     "text": [
      "<bound method NDFrame.head of      Accident_Duration_Hours  Duration_Record_Count\n",
      "0                   6.000000                  19243\n",
      "1                   6.000278                      2\n",
      "2                   6.000556                      4\n",
      "3                   6.000833                      1\n",
      "4                   6.001389                      1\n",
      "..                       ...                    ...\n",
      "464                 6.978889                      1\n",
      "465                 6.983333                      3\n",
      "466                 6.988889                      2\n",
      "467                 6.991667                      3\n",
      "468                 6.994444                      1\n",
      "\n",
      "[469 rows x 2 columns]>\n"
     ]
    }
   ],
   "source": [
    "#Trying to further understand the anomaly in hours lasting 5.5 to 6 hours. \n",
    "start = 6.0\n",
    "end = 7.0\n",
    "single_hour_distribution_df =  hourly_accidents_df[(hourly_accidents_df['Accident_Duration_Hours'] >= start) & (hourly_accidents_df['Accident_Duration_Hours'] < end)]\n",
    "single_hour_distribution_df = single_hour_distribution_df.groupby(['Accident_Duration_Hours']).size().reset_index().rename(columns={0 : 'Duration_Record_Count'})\n",
    "print(single_hour_distribution_df.head)"
   ]
  },
  {
   "cell_type": "code",
   "execution_count": 37,
   "id": "32714b73",
   "metadata": {
    "collapsed": false,
    "execution": {
     "iopub.execute_input": "2022-02-26T21:22:32.099671Z",
     "iopub.status.busy": "2022-02-26T21:22:32.098959Z",
     "iopub.status.idle": "2022-02-26T21:22:32.113428Z",
     "shell.execute_reply": "2022-02-26T21:22:32.113984Z",
     "shell.execute_reply.started": "2022-02-26T20:16:19.704451Z"
    },
    "jupyter": {
     "outputs_hidden": false
    },
    "papermill": {
     "duration": 0.162518,
     "end_time": "2022-02-26T21:22:32.114180",
     "exception": false,
     "start_time": "2022-02-26T21:22:31.951662",
     "status": "completed"
    },
    "pycharm": {
     "name": "#%%\n"
    },
    "tags": []
   },
   "outputs": [
    {
     "data": {
      "text/html": [
       "<div>\n",
       "<style scoped>\n",
       "    .dataframe tbody tr th:only-of-type {\n",
       "        vertical-align: middle;\n",
       "    }\n",
       "\n",
       "    .dataframe tbody tr th {\n",
       "        vertical-align: top;\n",
       "    }\n",
       "\n",
       "    .dataframe thead th {\n",
       "        text-align: right;\n",
       "    }\n",
       "</style>\n",
       "<table border=\"1\" class=\"dataframe\">\n",
       "  <thead>\n",
       "    <tr style=\"text-align: right;\">\n",
       "      <th></th>\n",
       "      <th>Accident_Duration_Hours</th>\n",
       "      <th>Duration_Record_Count</th>\n",
       "    </tr>\n",
       "  </thead>\n",
       "  <tbody>\n",
       "    <tr>\n",
       "      <th>0</th>\n",
       "      <td>6.0</td>\n",
       "      <td>19243</td>\n",
       "    </tr>\n",
       "    <tr>\n",
       "      <th>1</th>\n",
       "      <td>6 &lt; x &lt;= 7</td>\n",
       "      <td>727</td>\n",
       "    </tr>\n",
       "  </tbody>\n",
       "</table>\n",
       "</div>"
      ],
      "text/plain": [
       "  Accident_Duration_Hours  Duration_Record_Count\n",
       "0                     6.0                  19243\n",
       "1              6 < x <= 7                    727"
      ]
     },
     "execution_count": 37,
     "metadata": {},
     "output_type": "execute_result"
    }
   ],
   "source": [
    "#Displaying how most values concentrate to excatly 6.0 hours.  \n",
    "accidents_six_to_seven_hours = single_hour_distribution_df['Duration_Record_Count'][1:].sum()\n",
    "single_hour_distribution_df.drop(single_hour_distribution_df[1:].index,inplace=True)\n",
    "single_hour_distribution_df['Accident_Duration_Hours'] = single_hour_distribution_df['Accident_Duration_Hours'].apply(str)\n",
    "single_hour_distribution_df.loc[1] = ['6 < x <= 7',accidents_six_to_seven_hours]\n",
    "single_hour_distribution_df"
   ]
  },
  {
   "cell_type": "markdown",
   "id": "6d7c3672",
   "metadata": {
    "papermill": {
     "duration": 0.143021,
     "end_time": "2022-02-26T21:22:32.400944",
     "exception": false,
     "start_time": "2022-02-26T21:22:32.257923",
     "status": "completed"
    },
    "tags": []
   },
   "source": [
    "<a id=\"outliers-adh\"></a>\n",
    "<a id=\"noise\"></a>\n",
    "# We have found that there is an irregular amount of accidents lasting exactly 6 hours.  \n",
    "- We have thoroughly read the data description and discussions over the dataset - this anomaly was not referred to.\n",
    "- The data description refers to cases in which certain databases that data was gathered from were missing values for certain columns and were filled with default values, and we assume that the chance for this many accidents to have taken exactly 6 hours is miniscule.\n",
    "- Therefore we believe the phenomena is due to default values, **and therefore choose to ignore all accidents lasting exactly 6 hours.** "
   ]
  },
  {
   "cell_type": "code",
   "execution_count": 38,
   "id": "6947f97e",
   "metadata": {
    "execution": {
     "iopub.execute_input": "2022-02-26T21:22:32.695765Z",
     "iopub.status.busy": "2022-02-26T21:22:32.695123Z",
     "iopub.status.idle": "2022-02-26T21:22:32.706239Z",
     "shell.execute_reply": "2022-02-26T21:22:32.706739Z",
     "shell.execute_reply.started": "2022-02-26T20:16:19.731569Z"
    },
    "papermill": {
     "duration": 0.157496,
     "end_time": "2022-02-26T21:22:32.706907",
     "exception": false,
     "start_time": "2022-02-26T21:22:32.549411",
     "status": "completed"
    },
    "tags": []
   },
   "outputs": [],
   "source": [
    "#We understand that 6 hours is an irregular value and therefore choose to ignore it. \n",
    "hourly_accidents_df = hourly_accidents_df.loc[hourly_accidents_df['Accident_Duration_Hours'] != 6.0]"
   ]
  },
  {
   "cell_type": "code",
   "execution_count": 39,
   "id": "819f6ea5",
   "metadata": {
    "collapsed": false,
    "execution": {
     "iopub.execute_input": "2022-02-26T21:22:32.997371Z",
     "iopub.status.busy": "2022-02-26T21:22:32.996680Z",
     "iopub.status.idle": "2022-02-26T21:22:33.013328Z",
     "shell.execute_reply": "2022-02-26T21:22:33.013882Z",
     "shell.execute_reply.started": "2022-02-26T20:16:19.763848Z"
    },
    "jupyter": {
     "outputs_hidden": false
    },
    "papermill": {
     "duration": 0.164189,
     "end_time": "2022-02-26T21:22:33.014074",
     "exception": false,
     "start_time": "2022-02-26T21:22:32.849885",
     "status": "completed"
    },
    "pycharm": {
     "name": "#%%\n"
    },
    "tags": []
   },
   "outputs": [
    {
     "data": {
      "text/plain": [
       "array([ 0.1       ,  0.61527778,  1.56194444, 23.99444444])"
      ]
     },
     "execution_count": 39,
     "metadata": {},
     "output_type": "execute_result"
    }
   ],
   "source": [
    "#Since equal width bins are decreasing in size, we choose to discretize based on equal freq bins and determine levels of \n",
    "#evacuation speeds. \n",
    "hourly_accidents_df['Duration_Equal_Freq_Bins'],binning = pd.qcut(x=hourly_accidents_df['Accident_Duration_Hours'],q=3,labels=['Fast Evacuation', 'Moderate Evacuation ', 'Slow Evacuation'],retbins=True) \n",
    "binning"
   ]
  },
  {
   "cell_type": "code",
   "execution_count": 40,
   "id": "197f1b07",
   "metadata": {
    "collapsed": false,
    "execution": {
     "iopub.execute_input": "2022-02-26T21:22:33.310911Z",
     "iopub.status.busy": "2022-02-26T21:22:33.310212Z",
     "iopub.status.idle": "2022-02-26T21:22:33.343623Z",
     "shell.execute_reply": "2022-02-26T21:22:33.344281Z",
     "shell.execute_reply.started": "2022-02-26T20:16:19.787928Z"
    },
    "jupyter": {
     "outputs_hidden": false
    },
    "papermill": {
     "duration": 0.184715,
     "end_time": "2022-02-26T21:22:33.344490",
     "exception": false,
     "start_time": "2022-02-26T21:22:33.159775",
     "status": "completed"
    },
    "pycharm": {
     "name": "#%%\n"
    },
    "tags": []
   },
   "outputs": [
    {
     "name": "stdout",
     "output_type": "stream",
     "text": [
      "The number of weather conditions available in the dataset is 45\n",
      "\n",
      "The top 10 most impactful are:\n",
      "\n",
      "Fair                38469\n",
      "Clear               13144\n",
      "Mostly Cloudy        8559\n",
      "Partly Cloudy        8048\n",
      "Cloudy               7160\n",
      "Light Rain           3139\n",
      "Overcast             2904\n",
      "Haze                 2646\n",
      "Scattered Clouds     1774\n",
      "Fog                  1010\n",
      "Name: Weather_Condition, dtype: int64\n",
      "\n",
      "Fair weather accounts for 80% of accidents\n"
     ]
    }
   ],
   "source": [
    "#Weather condition information - focusing on Weather Condition feature\n",
    "num_conditions = len(CA_accidents_df[\"Weather_Condition\"].unique())\n",
    "impactful_weather_features = CA_accidents_df[\"Weather_Condition\"].value_counts()[:nImpactful_weather_features]\n",
    "prevalent_weather_percentage = impactful_weather_features.iloc[0] / impactful_weather_features.iloc[1:].sum() * 100\n",
    "\n",
    "print(f'The number of weather conditions available in the dataset is {num_conditions}\\n')\n",
    "print(f'The top {nImpactful_weather_features} most impactful are:\\n\\n{impactful_weather_features}\\n')\n",
    "print(f'{impactful_weather_features.index.values[0]} weather accounts for {math.ceil(prevalent_weather_percentage)}% of accidents')"
   ]
  },
  {
   "cell_type": "markdown",
   "id": "6a64e90f",
   "metadata": {
    "papermill": {
     "duration": 0.144807,
     "end_time": "2022-02-26T21:22:33.635718",
     "exception": false,
     "start_time": "2022-02-26T21:22:33.490911",
     "status": "completed"
    },
    "tags": []
   },
   "source": [
    "# Weather conditions across accident durations\n",
    "<a id=\"weather-conditions\"></a>"
   ]
  },
  {
   "cell_type": "code",
   "execution_count": 41,
   "id": "cab02a9e",
   "metadata": {
    "collapsed": false,
    "execution": {
     "iopub.execute_input": "2022-02-26T21:22:33.931851Z",
     "iopub.status.busy": "2022-02-26T21:22:33.931039Z",
     "iopub.status.idle": "2022-02-26T21:22:34.244582Z",
     "shell.execute_reply": "2022-02-26T21:22:34.243859Z",
     "shell.execute_reply.started": "2022-02-26T20:16:19.837599Z"
    },
    "jupyter": {
     "outputs_hidden": false
    },
    "papermill": {
     "duration": 0.464202,
     "end_time": "2022-02-26T21:22:34.244730",
     "exception": false,
     "start_time": "2022-02-26T21:22:33.780528",
     "status": "completed"
    },
    "pycharm": {
     "name": "#%%\n"
    },
    "tags": []
   },
   "outputs": [
    {
     "data": {
      "text/plain": [
       "Duration_Equal_Freq_Bins\n",
       "Fast Evacuation         AxesSubplot(0.125,0.125;0.775x0.755)\n",
       "Moderate Evacuation     AxesSubplot(0.125,0.125;0.775x0.755)\n",
       "Slow Evacuation         AxesSubplot(0.125,0.125;0.775x0.755)\n",
       "Name: Weather Condition Count, dtype: object"
      ]
     },
     "execution_count": 41,
     "metadata": {},
     "output_type": "execute_result"
    },
    {
     "data": {
      "image/png": "[encoded data removed]",
      "text/plain": [
       "<Figure size 1200x480 with 1 Axes>"
      ]
     },
     "metadata": {
      "needs_background": "light"
     },
     "output_type": "display_data"
    }
   ],
   "source": [
    "#showing connection between weather conditions and duration - choose busiest hours and show weather condition distribution graph. \n",
    "plt.figure(figsize=(15, 6), dpi=80)\n",
    "CA_accidents_df['Duration_Equal_Freq_Bins'] = hourly_accidents_df['Duration_Equal_Freq_Bins']\n",
    "weather_conditions = CA_accidents_df.groupby('Duration_Equal_Freq_Bins')[\"Weather_Condition\"].value_counts()\n",
    "weather_conditions = weather_conditions.groupby('Duration_Equal_Freq_Bins').apply(lambda x: x.nlargest(10))\n",
    "weather_conditions = weather_conditions.droplevel(level=0).rename('Weather Condition Count').reset_index().set_index('Weather_Condition')\n",
    "\n",
    "weather_conditions.groupby('Duration_Equal_Freq_Bins')['Weather Condition Count'].plot(legend=True)"
   ]
  },
  {
   "cell_type": "markdown",
   "id": "6a2c2e54",
   "metadata": {
    "papermill": {
     "duration": 0.148069,
     "end_time": "2022-02-26T21:22:34.539456",
     "exception": false,
     "start_time": "2022-02-26T21:22:34.391387",
     "status": "completed"
    },
    "tags": []
   },
   "source": [
    "<a id=\"road-conditions\"> </a>\n",
    "# Road conditions on dangerous hours\n",
    "- Was based on [road conditions value distribution](#road-conditions-vc)"
   ]
  },
  {
   "cell_type": "code",
   "execution_count": 42,
   "id": "963acda7",
   "metadata": {
    "collapsed": false,
    "execution": {
     "iopub.execute_input": "2022-02-26T21:22:34.903764Z",
     "iopub.status.busy": "2022-02-26T21:22:34.903084Z",
     "iopub.status.idle": "2022-02-26T21:22:35.727435Z",
     "shell.execute_reply": "2022-02-26T21:22:35.727924Z",
     "shell.execute_reply.started": "2022-02-26T20:16:20.200103Z"
    },
    "jupyter": {
     "outputs_hidden": false
    },
    "papermill": {
     "duration": 0.974437,
     "end_time": "2022-02-26T21:22:35.728169",
     "exception": false,
     "start_time": "2022-02-26T21:22:34.753732",
     "status": "completed"
    },
    "pycharm": {
     "name": "#%%\n"
    },
    "tags": []
   },
   "outputs": [
    {
     "data": {
      "image/png": "[encoded data removed]",
      "text/plain": [
       "<Figure size 432x288 with 1 Axes>"
      ]
     },
     "metadata": {
      "needs_background": "light"
     },
     "output_type": "display_data"
    },
    {
     "data": {
      "image/png": "[encoded data removed]",
      "text/plain": [
       "<Figure size 432x288 with 1 Axes>"
      ]
     },
     "metadata": {
      "needs_background": "light"
     },
     "output_type": "display_data"
    },
    {
     "data": {
      "image/png": "[encoded data removed]",
      "text/plain": [
       "<Figure size 432x288 with 1 Axes>"
      ]
     },
     "metadata": {
      "needs_background": "light"
     },
     "output_type": "display_data"
    }
   ],
   "source": [
    "#showing connection between road condition and duration\n",
    "road_conditions = ['Junction','Crossing','Traffic_Signal'] #with enough data to plot\n",
    "for road_cond in road_conditions:\n",
    "        road_conditions_df = pd.DataFrame({})\n",
    "        road_conditions_df[road_cond] = CA_accidents_df.groupby('Duration_Equal_Freq_Bins')[road_cond].apply(lambda cond: cond.value_counts() / len(cond) * 100)\n",
    "        road_conditions_df = road_conditions_df.reset_index().rename(columns={'Duration_Equal_Freq_Bins': 'Evacuation','level_1' : road_cond, road_cond : f'{road_cond}_count_percentage'})\n",
    "        sns.scatterplot(x=road_cond, y=f'{road_cond}_count_percentage', hue='Evacuation', data=road_conditions_df,s=30)     \n",
    "        plt.xticks([1.0, 0.0], [\"True\",\"False\"])\n",
    "        plt.title(f'{road_cond} Distribution Based On Evacuation Speed')\n",
    "        plt.show()"
   ]
  },
  {
   "cell_type": "markdown",
   "id": "e8352878",
   "metadata": {
    "papermill": {
     "duration": 0.151697,
     "end_time": "2022-02-26T21:22:36.030116",
     "exception": false,
     "start_time": "2022-02-26T21:22:35.878419",
     "status": "completed"
    },
    "tags": []
   },
   "source": [
    "<a id=\"corr\"></a> \n",
    "# Checking for correlation between features"
   ]
  },
  {
   "cell_type": "code",
   "execution_count": 43,
   "id": "a9989a2c",
   "metadata": {
    "collapsed": false,
    "execution": {
     "iopub.execute_input": "2022-02-26T21:22:36.335971Z",
     "iopub.status.busy": "2022-02-26T21:22:36.335307Z",
     "iopub.status.idle": "2022-02-26T21:22:40.358956Z",
     "shell.execute_reply": "2022-02-26T21:22:40.359526Z",
     "shell.execute_reply.started": "2022-02-26T20:16:21.110515Z"
    },
    "jupyter": {
     "outputs_hidden": false
    },
    "papermill": {
     "duration": 4.1768,
     "end_time": "2022-02-26T21:22:40.359717",
     "exception": false,
     "start_time": "2022-02-26T21:22:36.182917",
     "status": "completed"
    },
    "pycharm": {
     "name": "#%%\n"
    },
    "tags": []
   },
   "outputs": [
    {
     "data": {
      "text/plain": [
       "<AxesSubplot:>"
      ]
     },
     "execution_count": 43,
     "metadata": {},
     "output_type": "execute_result"
    },
    {
     "data": {
      "image/png": "[encoded data removed]",
      "text/plain": [
       "<Figure size 1584x1584 with 2 Axes>"
      ]
     },
     "metadata": {
      "needs_background": "light"
     },
     "output_type": "display_data"
    }
   ],
   "source": [
    "# check for correlation between features\n",
    "CA_accidents_df.drop(['Duration_Equal_Freq_Bins','Roundabout','Turning_Loop'],axis=1,inplace=True) #meaningless axis\n",
    "CA_accidents_df['Accident_Duration_Hours'] = hourly_accidents_df['Accident_Duration_Hours']\n",
    "corr = CA_accidents_df.corr(method='pearson')\n",
    "fig, ax = plt.subplots(figsize=(22,22))\n",
    "sns.heatmap(corr,xticklabels=corr.columns,yticklabels=corr.columns,annot=True,ax=ax,fmt='.2f')"
   ]
  },
  {
   "cell_type": "markdown",
   "id": "b8d37c15",
   "metadata": {
    "papermill": {
     "duration": 0.156134,
     "end_time": "2022-02-26T21:22:40.672117",
     "exception": false,
     "start_time": "2022-02-26T21:22:40.515983",
     "status": "completed"
    },
    "tags": []
   },
   "source": [
    "<a id=\"data-cleaning\"></a>\n",
    "# Data Cleaning\n",
    "- Important to note the first step of removing noisy data was [removing accidents lasting exactly 6 hours](#outliers-adh)"
   ]
  },
  {
   "cell_type": "markdown",
   "id": "473f822b",
   "metadata": {
    "papermill": {
     "duration": 0.160116,
     "end_time": "2022-02-26T21:22:40.988416",
     "exception": false,
     "start_time": "2022-02-26T21:22:40.828300",
     "status": "completed"
    },
    "tags": []
   },
   "source": [
    "<a id=\"missing-values\"></a>"
   ]
  },
  {
   "cell_type": "code",
   "execution_count": 44,
   "id": "5f172a48",
   "metadata": {
    "collapsed": false,
    "execution": {
     "iopub.execute_input": "2022-02-26T21:22:41.524915Z",
     "iopub.status.busy": "2022-02-26T21:22:41.524181Z",
     "iopub.status.idle": "2022-02-26T21:22:41.545023Z",
     "shell.execute_reply": "2022-02-26T21:22:41.544421Z",
     "shell.execute_reply.started": "2022-02-26T20:16:25.219025Z"
    },
    "jupyter": {
     "outputs_hidden": false
    },
    "papermill": {
     "duration": 0.399943,
     "end_time": "2022-02-26T21:22:41.545177",
     "exception": false,
     "start_time": "2022-02-26T21:22:41.145234",
     "status": "completed"
    },
    "pycharm": {
     "name": "#%%\n"
    },
    "tags": []
   },
   "outputs": [],
   "source": [
    "#finally narrowing down to a single city\n",
    "accidents_df_sj = accidents_df[accidents_df['City'] == 'San Jose']"
   ]
  },
  {
   "cell_type": "code",
   "execution_count": 45,
   "id": "7b531c45",
   "metadata": {
    "execution": {
     "iopub.execute_input": "2022-02-26T21:22:41.861211Z",
     "iopub.status.busy": "2022-02-26T21:22:41.860214Z",
     "iopub.status.idle": "2022-02-26T21:22:41.948250Z",
     "shell.execute_reply": "2022-02-26T21:22:41.948803Z",
     "shell.execute_reply.started": "2022-02-26T20:16:25.478341Z"
    },
    "papermill": {
     "duration": 0.2477,
     "end_time": "2022-02-26T21:22:41.949048",
     "exception": false,
     "start_time": "2022-02-26T21:22:41.701348",
     "status": "completed"
    },
    "tags": []
   },
   "outputs": [
    {
     "name": "stdout",
     "output_type": "stream",
     "text": [
      "The columns dropped are: ['Number', 'Precipitation(in)', 'Wind_Chill(F)', 'Wind_Speed(mph)']\n",
      "Current number of rows with null values: 0\n"
     ]
    }
   ],
   "source": [
    "# Dropping rows with missing values\n",
    "missing_percentages = get_missing_percentages(accidents_df_sj)\n",
    "\n",
    "cols_to_drop = missing_percentages[missing_percentages > 1].index.to_list()\n",
    "print(f'The columns dropped are: {cols_to_drop}')\n",
    "\n",
    "accidents_df_sj = accidents_df_sj.drop(cols_to_drop, axis=1).dropna()\n",
    "print(f'Current number of rows with null values: {accidents_df_sj.isna().sum().sum()}')"
   ]
  },
  {
   "cell_type": "markdown",
   "id": "26596c6f",
   "metadata": {
    "papermill": {
     "duration": 0.159569,
     "end_time": "2022-02-26T21:22:42.266949",
     "exception": false,
     "start_time": "2022-02-26T21:22:42.107380",
     "status": "completed"
    },
    "tags": []
   },
   "source": [
    "<a id=\"outliers\"></a>"
   ]
  },
  {
   "cell_type": "code",
   "execution_count": 46,
   "id": "87a5cdc2",
   "metadata": {
    "execution": {
     "iopub.execute_input": "2022-02-26T21:22:42.587772Z",
     "iopub.status.busy": "2022-02-26T21:22:42.587093Z",
     "iopub.status.idle": "2022-02-26T21:22:42.589501Z",
     "shell.execute_reply": "2022-02-26T21:22:42.590112Z",
     "shell.execute_reply.started": "2022-02-26T20:16:25.587776Z"
    },
    "papermill": {
     "duration": 0.165733,
     "end_time": "2022-02-26T21:22:42.590294",
     "exception": false,
     "start_time": "2022-02-26T21:22:42.424561",
     "status": "completed"
    },
    "tags": []
   },
   "outputs": [],
   "source": [
    "# origin_len = len(accidents_df_sj)\n",
    "\n",
    "# iso = IsolationForest(contamination=0.01) #default is 0.1 but too sensitive\n",
    "# # lof = LocalOutlierFactor() #didn't impact results\n",
    "\n",
    "# preds = iso.fit_predict(duration_col)\n",
    "\n",
    "# accidents_df_sj = accidents_df_sj.loc[preds == 1].reset_index(drop=True)\n",
    "\n",
    "# percent_accidents_removed = math.ceil(100 - (len(accidents_df_sj) / origin_len * 100))\n",
    "# print(f'Up to {percent_accidents_removed}% of accidents were considered outliers and were removed')"
   ]
  },
  {
   "cell_type": "markdown",
   "id": "47190363",
   "metadata": {
    "papermill": {
     "duration": 0.156396,
     "end_time": "2022-02-26T21:22:42.902705",
     "exception": false,
     "start_time": "2022-02-26T21:22:42.746309",
     "status": "completed"
    },
    "tags": []
   },
   "source": [
    "<a id=\"data-construction\"></a>\n",
    "# Data Construction"
   ]
  },
  {
   "cell_type": "markdown",
   "id": "f7703a0d",
   "metadata": {
    "papermill": {
     "duration": 0.155694,
     "end_time": "2022-02-26T21:22:43.219033",
     "exception": false,
     "start_time": "2022-02-26T21:22:43.063339",
     "status": "completed"
    },
    "tags": []
   },
   "source": [
    "<a id=\"construction\"></a>\n",
    "### Feature Construction"
   ]
  },
  {
   "cell_type": "code",
   "execution_count": 47,
   "id": "6e756dcd",
   "metadata": {
    "collapsed": false,
    "execution": {
     "iopub.execute_input": "2022-02-26T21:22:43.536204Z",
     "iopub.status.busy": "2022-02-26T21:22:43.535523Z",
     "iopub.status.idle": "2022-02-26T21:22:43.542070Z",
     "shell.execute_reply": "2022-02-26T21:22:43.541515Z",
     "shell.execute_reply.started": "2022-02-26T20:16:25.594785Z"
    },
    "jupyter": {
     "outputs_hidden": false
    },
    "papermill": {
     "duration": 0.166419,
     "end_time": "2022-02-26T21:22:43.542221",
     "exception": false,
     "start_time": "2022-02-26T21:22:43.375802",
     "status": "completed"
    },
    "pycharm": {
     "name": "#%%\n"
    },
    "tags": []
   },
   "outputs": [],
   "source": [
    "def get_season(day):\n",
    "    spring = range(80, 172)\n",
    "    summer = range(172, 264)\n",
    "    fall = range(264, 355)\n",
    "    # winter = everything else\n",
    "    if day in spring:\n",
    "        season = 'spring'\n",
    "    elif day in summer:\n",
    "        season = 'summer'\n",
    "    elif day in fall:\n",
    "        season = 'fall'\n",
    "    else:\n",
    "        season = 'winter'\n",
    "    return season"
   ]
  },
  {
   "cell_type": "code",
   "execution_count": 48,
   "id": "12094955",
   "metadata": {
    "collapsed": false,
    "execution": {
     "iopub.execute_input": "2022-02-26T21:22:43.871935Z",
     "iopub.status.busy": "2022-02-26T21:22:43.862384Z",
     "iopub.status.idle": "2022-02-26T21:22:43.956918Z",
     "shell.execute_reply": "2022-02-26T21:22:43.957525Z",
     "shell.execute_reply.started": "2022-02-26T20:16:25.620843Z"
    },
    "jupyter": {
     "outputs_hidden": false
    },
    "papermill": {
     "duration": 0.256879,
     "end_time": "2022-02-26T21:22:43.957703",
     "exception": false,
     "start_time": "2022-02-26T21:22:43.700824",
     "status": "completed"
    },
    "pycharm": {
     "name": "#%%\n"
    },
    "tags": []
   },
   "outputs": [],
   "source": [
    "accidents_df_sj['Start_Time'] = pd.to_datetime(accidents_df_sj['Start_Time'])\n",
    "accidents_df_sj['Date'] = accidents_df_sj['Start_Time'].dt.date\n",
    "accidents_df_sj['Year'] = accidents_df_sj['Start_Time'].dt.year\n",
    "accidents_df_sj['Month'] = accidents_df_sj['Start_Time'].dt.month\n",
    "accidents_df_sj['Hour'] = accidents_df_sj['Start_Time'].dt.hour \n",
    "accidents_df_sj['Day_of_Year'] = accidents_df_sj['Start_Time'].dt.dayofyear\n",
    "accidents_df_sj['Season'] = accidents_df_sj['Day_of_Year'].apply(lambda x: get_season(x))\n",
    "accidents_df_sj['Weekday'] = accidents_df_sj['Start_Time'].apply(lambda x: x.weekday())\n",
    "accidents_df_sj['Is_Holiday'] = accidents_df_sj['Date'].apply(lambda x: x in holidays_dates) "
   ]
  },
  {
   "cell_type": "code",
   "execution_count": 49,
   "id": "3efe8981",
   "metadata": {
    "collapsed": false,
    "execution": {
     "iopub.execute_input": "2022-02-26T21:22:44.284939Z",
     "iopub.status.busy": "2022-02-26T21:22:44.284271Z",
     "iopub.status.idle": "2022-02-26T21:22:44.404037Z",
     "shell.execute_reply": "2022-02-26T21:22:44.403423Z",
     "shell.execute_reply.started": "2022-02-26T20:16:25.739685Z"
    },
    "jupyter": {
     "outputs_hidden": false
    },
    "papermill": {
     "duration": 0.288949,
     "end_time": "2022-02-26T21:22:44.404197",
     "exception": false,
     "start_time": "2022-02-26T21:22:44.115248",
     "status": "completed"
    },
    "pycharm": {
     "name": "#%%\n"
    },
    "tags": []
   },
   "outputs": [
    {
     "data": {
      "text/plain": [
       "count    9211.000000\n",
       "mean       12.510005\n",
       "std        11.545917\n",
       "min         0.000556\n",
       "25%         0.266667\n",
       "50%        20.713333\n",
       "75%        23.729444\n",
       "max        23.999722\n",
       "Name: Weather_Measurement_Proximity_Hours, dtype: float64"
      ]
     },
     "execution_count": 49,
     "metadata": {},
     "output_type": "execute_result"
    }
   ],
   "source": [
    "#Adding a feature to count the hours between the accident and when the weather was measured to approximate the relevance of weather conditions\n",
    "accidents_df_sj['Weather_Timestamp'] = pd.to_datetime(accidents_df_sj['Weather_Timestamp'])\n",
    "accidents_df_sj['Weather_Measurement_Proximity_Hours'] = (accidents_df_sj['Start_Time'] - accidents_df_sj['Weather_Timestamp']).apply(lambda x : x.seconds / 3600)\n",
    "accidents_df_sj = accidents_df_sj.loc[accidents_df_sj['Weather_Measurement_Proximity_Hours'] > 0,:]\n",
    "accidents_df_sj['Weather_Measurement_Proximity_Hours'].describe()"
   ]
  },
  {
   "cell_type": "code",
   "execution_count": 50,
   "id": "292e78a8",
   "metadata": {
    "collapsed": false,
    "execution": {
     "iopub.execute_input": "2022-02-26T21:22:44.736935Z",
     "iopub.status.busy": "2022-02-26T21:22:44.736228Z",
     "iopub.status.idle": "2022-02-26T21:22:44.740588Z",
     "shell.execute_reply": "2022-02-26T21:22:44.740058Z",
     "shell.execute_reply.started": "2022-02-26T20:16:25.8803Z"
    },
    "jupyter": {
     "outputs_hidden": false
    },
    "papermill": {
     "duration": 0.17897,
     "end_time": "2022-02-26T21:22:44.740740",
     "exception": false,
     "start_time": "2022-02-26T21:22:44.561770",
     "status": "completed"
    },
    "pycharm": {
     "name": "#%%\n"
    },
    "tags": []
   },
   "outputs": [
    {
     "data": {
      "text/plain": [
       "Not_Peak        6556\n",
       "Evening_Peak    1665\n",
       "Morning_Peak     990\n",
       "Name: Traffic_Peak_Status, dtype: int64"
      ]
     },
     "execution_count": 50,
     "metadata": {},
     "output_type": "execute_result"
    }
   ],
   "source": [
    "def hours_to_peak(accident_hour):\n",
    "    if 7 <= accident_hour < 9:\n",
    "        return 'Morning_Peak'\n",
    "    elif 17 <= accident_hour < 19:\n",
    "        return 'Evening_Peak'\n",
    "    else:\n",
    "        return 'Not_Peak'\n",
    "    \n",
    "accidents_df_sj['Traffic_Peak_Status'] = accidents_df_sj['Hour'].apply(lambda h :hours_to_peak(h))\n",
    "accidents_df_sj['Traffic_Peak_Status'].value_counts()"
   ]
  },
  {
   "cell_type": "code",
   "execution_count": 51,
   "id": "c0896d6a",
   "metadata": {
    "collapsed": false,
    "execution": {
     "iopub.execute_input": "2022-02-26T21:22:45.066463Z",
     "iopub.status.busy": "2022-02-26T21:22:45.065243Z",
     "iopub.status.idle": "2022-02-26T21:22:45.076826Z",
     "shell.execute_reply": "2022-02-26T21:22:45.077366Z",
     "shell.execute_reply.started": "2022-02-26T20:16:25.903843Z"
    },
    "jupyter": {
     "outputs_hidden": false
    },
    "papermill": {
     "duration": 0.179597,
     "end_time": "2022-02-26T21:22:45.077542",
     "exception": false,
     "start_time": "2022-02-26T21:22:44.897945",
     "status": "completed"
    },
    "pycharm": {
     "name": "#%%\n"
    },
    "tags": []
   },
   "outputs": [
    {
     "data": {
      "text/plain": [
       "False    6746\n",
       "True     2465\n",
       "Name: Are_Dangerous_Hours, dtype: int64"
      ]
     },
     "execution_count": 51,
     "metadata": {},
     "output_type": "execute_result"
    }
   ],
   "source": [
    "accident_prone_hours = accidents_df_sj.groupby('Hour').size().nlargest(3).index.to_list()\n",
    "accidents_df_sj['Are_Dangerous_Hours'] = accidents_df_sj['Hour'].apply(lambda h: h in accident_prone_hours)\n",
    "accidents_df_sj['Are_Dangerous_Hours'].value_counts()"
   ]
  },
  {
   "cell_type": "code",
   "execution_count": 52,
   "id": "d52584db",
   "metadata": {
    "collapsed": false,
    "execution": {
     "iopub.execute_input": "2022-02-26T21:22:45.399220Z",
     "iopub.status.busy": "2022-02-26T21:22:45.398405Z",
     "iopub.status.idle": "2022-02-26T21:22:45.433905Z",
     "shell.execute_reply": "2022-02-26T21:22:45.434433Z",
     "shell.execute_reply.started": "2022-02-26T20:16:25.922622Z"
    },
    "jupyter": {
     "outputs_hidden": false
    },
    "papermill": {
     "duration": 0.198845,
     "end_time": "2022-02-26T21:22:45.434609",
     "exception": false,
     "start_time": "2022-02-26T21:22:45.235764",
     "status": "completed"
    },
    "pycharm": {
     "name": "#%%\n"
    },
    "tags": []
   },
   "outputs": [
    {
     "name": "stdout",
     "output_type": "stream",
     "text": [
      "<class 'pandas.core.frame.DataFrame'>\n",
      "Int64Index: 9211 entries, 1021 to 1516016\n",
      "Data columns (total 53 columns):\n",
      " #   Column                               Non-Null Count  Dtype         \n",
      "---  ------                               --------------  -----         \n",
      " 0   Severity                             9211 non-null   int64         \n",
      " 1   Start_Time                           9211 non-null   datetime64[ns]\n",
      " 2   End_Time                             9211 non-null   object        \n",
      " 3   Start_Lat                            9211 non-null   float64       \n",
      " 4   Start_Lng                            9211 non-null   float64       \n",
      " 5   End_Lat                              9211 non-null   float64       \n",
      " 6   End_Lng                              9211 non-null   float64       \n",
      " 7   Distance(mi)                         9211 non-null   float64       \n",
      " 8   Description                          9211 non-null   object        \n",
      " 9   Street                               9211 non-null   object        \n",
      " 10  Side                                 9211 non-null   object        \n",
      " 11  City                                 9211 non-null   object        \n",
      " 12  County                               9211 non-null   object        \n",
      " 13  State                                9211 non-null   object        \n",
      " 14  Zipcode                              9211 non-null   object        \n",
      " 15  Country                              9211 non-null   object        \n",
      " 16  Timezone                             9211 non-null   object        \n",
      " 17  Airport_Code                         9211 non-null   object        \n",
      " 18  Weather_Timestamp                    9211 non-null   datetime64[ns]\n",
      " 19  Temperature(F)                       9211 non-null   float64       \n",
      " 20  Humidity(%)                          9211 non-null   float64       \n",
      " 21  Pressure(in)                         9211 non-null   float64       \n",
      " 22  Visibility(mi)                       9211 non-null   float64       \n",
      " 23  Wind_Direction                       9211 non-null   object        \n",
      " 24  Weather_Condition                    9211 non-null   object        \n",
      " 25  Amenity                              9211 non-null   bool          \n",
      " 26  Bump                                 9211 non-null   bool          \n",
      " 27  Crossing                             9211 non-null   bool          \n",
      " 28  Give_Way                             9211 non-null   bool          \n",
      " 29  Junction                             9211 non-null   bool          \n",
      " 30  No_Exit                              9211 non-null   bool          \n",
      " 31  Railway                              9211 non-null   bool          \n",
      " 32  Roundabout                           9211 non-null   bool          \n",
      " 33  Station                              9211 non-null   bool          \n",
      " 34  Stop                                 9211 non-null   bool          \n",
      " 35  Traffic_Calming                      9211 non-null   bool          \n",
      " 36  Traffic_Signal                       9211 non-null   bool          \n",
      " 37  Turning_Loop                         9211 non-null   bool          \n",
      " 38  Sunrise_Sunset                       9211 non-null   object        \n",
      " 39  Civil_Twilight                       9211 non-null   object        \n",
      " 40  Nautical_Twilight                    9211 non-null   object        \n",
      " 41  Astronomical_Twilight                9211 non-null   object        \n",
      " 42  Date                                 9211 non-null   object        \n",
      " 43  Year                                 9211 non-null   int64         \n",
      " 44  Month                                9211 non-null   int64         \n",
      " 45  Hour                                 9211 non-null   int64         \n",
      " 46  Day_of_Year                          9211 non-null   int64         \n",
      " 47  Season                               9211 non-null   object        \n",
      " 48  Weekday                              9211 non-null   int64         \n",
      " 49  Is_Holiday                           9211 non-null   bool          \n",
      " 50  Weather_Measurement_Proximity_Hours  9211 non-null   float64       \n",
      " 51  Traffic_Peak_Status                  9211 non-null   object        \n",
      " 52  Are_Dangerous_Hours                  9211 non-null   bool          \n",
      "dtypes: bool(15), datetime64[ns](2), float64(10), int64(6), object(20)\n",
      "memory usage: 2.9+ MB\n"
     ]
    }
   ],
   "source": [
    "accidents_df_sj.info()"
   ]
  },
  {
   "cell_type": "code",
   "execution_count": 53,
   "id": "dd19dd4e",
   "metadata": {
    "collapsed": false,
    "execution": {
     "iopub.execute_input": "2022-02-26T21:22:45.755938Z",
     "iopub.status.busy": "2022-02-26T21:22:45.755293Z",
     "iopub.status.idle": "2022-02-26T21:22:45.783364Z",
     "shell.execute_reply": "2022-02-26T21:22:45.783872Z",
     "shell.execute_reply.started": "2022-02-26T20:16:25.971202Z"
    },
    "jupyter": {
     "outputs_hidden": false
    },
    "papermill": {
     "duration": 0.189245,
     "end_time": "2022-02-26T21:22:45.784070",
     "exception": false,
     "start_time": "2022-02-26T21:22:45.594825",
     "status": "completed"
    },
    "pycharm": {
     "name": "#%%\n"
    },
    "tags": []
   },
   "outputs": [
    {
     "data": {
      "text/plain": [
       "False    6079\n",
       "True     3132\n",
       "Name: Has_Road_Conditions_Info, dtype: int64"
      ]
     },
     "execution_count": 53,
     "metadata": {},
     "output_type": "execute_result"
    }
   ],
   "source": [
    "#Instead of losing all information on many road conditions, we attempt to create a new feature out of all of them.  \n",
    "road_conds_with_info = accidents_df_sj.iloc[:,25:38].apply(lambda col: col.value_counts() / len(col) * 100).dropna(axis=1).columns.to_list() \n",
    "accidents_df_sj['Has_Road_Conditions_Info'] = accidents_df_sj[road_conds_with_info].any(axis=1)\n",
    "accidents_df_sj['Has_Road_Conditions_Info'].value_counts()"
   ]
  },
  {
   "cell_type": "code",
   "execution_count": 54,
   "id": "0d5599b6",
   "metadata": {
    "execution": {
     "iopub.execute_input": "2022-02-26T21:22:46.109275Z",
     "iopub.status.busy": "2022-02-26T21:22:46.108437Z",
     "iopub.status.idle": "2022-02-26T21:22:46.998058Z",
     "shell.execute_reply": "2022-02-26T21:22:46.997218Z",
     "shell.execute_reply.started": "2022-02-26T20:16:26.014901Z"
    },
    "papermill": {
     "duration": 1.054184,
     "end_time": "2022-02-26T21:22:46.998225",
     "exception": false,
     "start_time": "2022-02-26T21:22:45.944041",
     "status": "completed"
    },
    "tags": []
   },
   "outputs": [],
   "source": [
    "#Extract info from lng and ltd \n",
    "def create_geo_hash(start_series_name,end_series_name):\n",
    "    return accidents_df_sj.apply(lambda x: pgh.encode(x[start_series_name], x[end_series_name], 5), axis=1)\n",
    "    \n",
    "accidents_df_sj['Geohash_Start'] = create_geo_hash('Start_Lat','Start_Lng')\n",
    "accidents_df_sj['Geohash_End'] = create_geo_hash('End_Lat','End_Lng')"
   ]
  },
  {
   "cell_type": "markdown",
   "id": "5d71feef",
   "metadata": {
    "papermill": {
     "duration": 0.17515,
     "end_time": "2022-02-26T21:22:47.351145",
     "exception": false,
     "start_time": "2022-02-26T21:22:47.175995",
     "status": "completed"
    },
    "tags": []
   },
   "source": [
    "<a id=\"data-reduction\"></a>\n",
    "# Data Dimensionality Reduction\n",
    "### Performed right after Data Construction since it was more convenient and efficient to focus only on the data required for further stages \n",
    "- Nearby road conditions with over 95% False values\n",
    "- State, City, County, Country, Timezone,Lng and Lat aren't required since we focus on Los Angeles  \n",
    "- Description refers mostly to street and required parsing, therefore it has limited value. \n",
    "- Accident Duration Hours will only be determined after the accident and so we can't use it. \n",
    "- Day of year and Date were mediatiors to get other features. "
   ]
  },
  {
   "cell_type": "code",
   "execution_count": 55,
   "id": "66ec5204",
   "metadata": {
    "execution": {
     "iopub.execute_input": "2022-02-26T21:22:47.701254Z",
     "iopub.status.busy": "2022-02-26T21:22:47.700313Z",
     "iopub.status.idle": "2022-02-26T21:22:47.723352Z",
     "shell.execute_reply": "2022-02-26T21:22:47.724251Z",
     "shell.execute_reply.started": "2022-02-26T20:16:26.925528Z"
    },
    "papermill": {
     "duration": 0.20177,
     "end_time": "2022-02-26T21:22:47.724526",
     "exception": false,
     "start_time": "2022-02-26T21:22:47.522756",
     "status": "completed"
    },
    "tags": []
   },
   "outputs": [],
   "source": [
    "#setting cols aside for later manipulations\n",
    "start_time_col = accidents_df_sj['Start_Time']\n",
    "date_col = accidents_df_sj['Date']\n",
    "\n",
    "nearby_road_conditions = ['Amenity', 'Bump', 'Crossing', 'Give_Way', 'No_Exit', 'Railway', 'Roundabout', 'Station', 'Stop', 'Railway','Traffic_Calming', 'Turning_Loop']\n",
    "geo_location = ['City', 'Timezone', 'County', 'State', 'Country','Start_Lng','Start_Lat','End_Lat','End_Lng']\n",
    "redundant_after_data_prep = ['Day_of_Year','Date','Start_Time','End_Time']\n",
    "other = ['Description','Weather_Timestamp']\n",
    "\n",
    "accidents_df_sj.drop(nearby_road_conditions + geo_location +  redundant_after_data_prep + other, axis=1,inplace=True)"
   ]
  },
  {
   "cell_type": "markdown",
   "id": "d707714d",
   "metadata": {
    "papermill": {
     "duration": 0.184199,
     "end_time": "2022-02-26T21:22:48.083865",
     "exception": false,
     "start_time": "2022-02-26T21:22:47.899666",
     "status": "completed"
    },
    "tags": []
   },
   "source": [
    "<a id=\"target-encoding\"></a>"
   ]
  },
  {
   "cell_type": "code",
   "execution_count": 56,
   "id": "36dcce54",
   "metadata": {
    "execution": {
     "iopub.execute_input": "2022-02-26T21:22:48.459475Z",
     "iopub.status.busy": "2022-02-26T21:22:48.458765Z",
     "iopub.status.idle": "2022-02-26T21:22:48.464120Z",
     "shell.execute_reply": "2022-02-26T21:22:48.464833Z",
     "shell.execute_reply.started": "2022-02-26T20:16:26.952656Z"
    },
    "papermill": {
     "duration": 0.203958,
     "end_time": "2022-02-26T21:22:48.465094",
     "exception": false,
     "start_time": "2022-02-26T21:22:48.261136",
     "status": "completed"
    },
    "tags": []
   },
   "outputs": [],
   "source": [
    "def target_encode(series_to_encode):\n",
    "    return te.TargetEncoder().fit_transform(series_to_encode,accidents_df_sj['Severity'])"
   ]
  },
  {
   "cell_type": "markdown",
   "id": "2006db0d",
   "metadata": {
    "papermill": {
     "duration": 0.160501,
     "end_time": "2022-02-26T21:22:48.793656",
     "exception": false,
     "start_time": "2022-02-26T21:22:48.633155",
     "status": "completed"
    },
    "tags": []
   },
   "source": [
    "<a id=\"aggregation\"></a>\n",
    "# Feature Aggregation"
   ]
  },
  {
   "cell_type": "code",
   "execution_count": 57,
   "id": "9b866dd1",
   "metadata": {
    "execution": {
     "iopub.execute_input": "2022-02-26T21:22:49.120485Z",
     "iopub.status.busy": "2022-02-26T21:22:49.119804Z",
     "iopub.status.idle": "2022-02-26T21:22:49.125222Z",
     "shell.execute_reply": "2022-02-26T21:22:49.125779Z",
     "shell.execute_reply.started": "2022-02-26T20:16:26.965601Z"
    },
    "papermill": {
     "duration": 0.170785,
     "end_time": "2022-02-26T21:22:49.125979",
     "exception": false,
     "start_time": "2022-02-26T21:22:48.955194",
     "status": "completed"
    },
    "tags": []
   },
   "outputs": [],
   "source": [
    "# Adding aggregation functions based on recent time window\n",
    "def agg_based_on_time_window(series,window_in_days=30,agg_funcs = ['sum','min','max','median','mean']):\n",
    "    agg_funcs =  series.rolling(window=f'{window_in_days}D',min_periods=1).agg(agg_funcs)\n",
    "    agg_funcs.columns =  map(str.capitalize, agg_funcs.columns)\n",
    "    return agg_funcs"
   ]
  },
  {
   "cell_type": "code",
   "execution_count": 58,
   "id": "9b1425c2",
   "metadata": {
    "execution": {
     "iopub.execute_input": "2022-02-26T21:22:49.453381Z",
     "iopub.status.busy": "2022-02-26T21:22:49.452704Z",
     "iopub.status.idle": "2022-02-26T21:22:49.505753Z",
     "shell.execute_reply": "2022-02-26T21:22:49.506322Z",
     "shell.execute_reply.started": "2022-02-26T20:16:26.982656Z"
    },
    "papermill": {
     "duration": 0.220386,
     "end_time": "2022-02-26T21:22:49.506528",
     "exception": false,
     "start_time": "2022-02-26T21:22:49.286142",
     "status": "completed"
    },
    "tags": []
   },
   "outputs": [],
   "source": [
    "#for feature aggregation only\n",
    "accidents_df_sj['Encoded_Zipcode'] = target_encode(accidents_df_sj['Zipcode'])\n",
    "accidents_df_sj['Encoded_Street'] = target_encode(accidents_df_sj['Street'])"
   ]
  },
  {
   "cell_type": "code",
   "execution_count": 59,
   "id": "3c3ab056",
   "metadata": {
    "execution": {
     "iopub.execute_input": "2022-02-26T21:22:49.833948Z",
     "iopub.status.busy": "2022-02-26T21:22:49.832966Z",
     "iopub.status.idle": "2022-02-26T21:22:49.847891Z",
     "shell.execute_reply": "2022-02-26T21:22:49.848405Z",
     "shell.execute_reply.started": "2022-02-26T20:16:27.075974Z"
    },
    "papermill": {
     "duration": 0.182309,
     "end_time": "2022-02-26T21:22:49.848612",
     "exception": false,
     "start_time": "2022-02-26T21:22:49.666303",
     "status": "completed"
    },
    "tags": []
   },
   "outputs": [],
   "source": [
    "accidents_df_sj['cumcount_per_Street'] = accidents_df_sj.groupby('Encoded_Street').cumcount() + 1\n",
    "accidents_df_sj['cumcount_per_Zipcode'] =accidents_df_sj.groupby('Encoded_Zipcode').cumcount() + 1\n",
    "accidents_df_sj[['cumcount_per_Street','cumcount_per_Zipcode']] = accidents_df_sj[['cumcount_per_Street','cumcount_per_Zipcode']].astype('float64')"
   ]
  },
  {
   "cell_type": "code",
   "execution_count": 60,
   "id": "fbde0e1c",
   "metadata": {
    "execution": {
     "iopub.execute_input": "2022-02-26T21:22:50.176394Z",
     "iopub.status.busy": "2022-02-26T21:22:50.175231Z",
     "iopub.status.idle": "2022-02-26T21:22:50.222808Z",
     "shell.execute_reply": "2022-02-26T21:22:50.222068Z",
     "shell.execute_reply.started": "2022-02-26T20:16:27.107568Z"
    },
    "papermill": {
     "duration": 0.213462,
     "end_time": "2022-02-26T21:22:50.223040",
     "exception": false,
     "start_time": "2022-02-26T21:22:50.009578",
     "status": "completed"
    },
    "tags": []
   },
   "outputs": [],
   "source": [
    "accidents_df_sj = accidents_df_sj.set_index(start_time_col).sort_index()\n",
    "\n",
    "street_agg : pd.DataFrame = agg_based_on_time_window(accidents_df_sj['Encoded_Street']).add_prefix('Street_Monthly_')\n",
    "zipcode_agg : pd.DataFrame = agg_based_on_time_window(accidents_df_sj['Encoded_Zipcode']).add_prefix('Zipcode_Monthly_')\n",
    "\n",
    "accidents_df_sj = pd.concat([accidents_df_sj, street_agg,zipcode_agg], axis=1)\n",
    "\n",
    "accidents_df_sj.reset_index(inplace=True,drop=True)"
   ]
  },
  {
   "cell_type": "code",
   "execution_count": 61,
   "id": "8144a6b2",
   "metadata": {
    "execution": {
     "iopub.execute_input": "2022-02-26T21:22:50.543748Z",
     "iopub.status.busy": "2022-02-26T21:22:50.543056Z",
     "iopub.status.idle": "2022-02-26T21:22:50.699802Z",
     "shell.execute_reply": "2022-02-26T21:22:50.700337Z",
     "shell.execute_reply.started": "2022-02-26T20:16:27.167708Z"
    },
    "papermill": {
     "duration": 0.318805,
     "end_time": "2022-02-26T21:22:50.700517",
     "exception": false,
     "start_time": "2022-02-26T21:22:50.381712",
     "status": "completed"
    },
    "tags": []
   },
   "outputs": [
    {
     "data": {
      "text/plain": [
       "42"
      ]
     },
     "execution_count": 61,
     "metadata": {},
     "output_type": "execute_result"
    }
   ],
   "source": [
    "#cleanup\n",
    "accidents_df_sj.drop(['Encoded_Zipcode','Encoded_Street'],axis=1,inplace=True)\n",
    "del street_agg\n",
    "del zipcode_agg\n",
    "gc.collect()"
   ]
  },
  {
   "cell_type": "markdown",
   "id": "0bd470b4",
   "metadata": {
    "papermill": {
     "duration": 0.159425,
     "end_time": "2022-02-26T21:22:51.018698",
     "exception": false,
     "start_time": "2022-02-26T21:22:50.859273",
     "status": "completed"
    },
    "tags": []
   },
   "source": [
    "<a id=\"generalization\"></a>\n",
    "# Generalization"
   ]
  },
  {
   "cell_type": "code",
   "execution_count": 62,
   "id": "8565438c",
   "metadata": {
    "collapsed": false,
    "execution": {
     "iopub.execute_input": "2022-02-26T21:22:51.349742Z",
     "iopub.status.busy": "2022-02-26T21:22:51.349059Z",
     "iopub.status.idle": "2022-02-26T21:22:51.357139Z",
     "shell.execute_reply": "2022-02-26T21:22:51.357693Z",
     "shell.execute_reply.started": "2022-02-26T20:16:28.621615Z"
    },
    "jupyter": {
     "outputs_hidden": false
    },
    "papermill": {
     "duration": 0.178242,
     "end_time": "2022-02-26T21:22:51.357862",
     "exception": false,
     "start_time": "2022-02-26T21:22:51.179620",
     "status": "completed"
    },
    "pycharm": {
     "name": "#%%\n"
    },
    "tags": []
   },
   "outputs": [],
   "source": [
    "#Uniting zipcodes through generalization\n",
    "accidents_df_sj['Zipcode'] = accidents_df_sj['Zipcode'].astype(str).apply(lambda zipcode: zipcode[:5])"
   ]
  },
  {
   "cell_type": "markdown",
   "id": "9e179e5f",
   "metadata": {
    "papermill": {
     "duration": 0.158154,
     "end_time": "2022-02-26T21:22:51.674567",
     "exception": false,
     "start_time": "2022-02-26T21:22:51.516413",
     "status": "completed"
    },
    "tags": []
   },
   "source": [
    "### Unifying low frequency categories to single category to extract information and narrow number of categories."
   ]
  },
  {
   "cell_type": "code",
   "execution_count": 63,
   "id": "c829f87c",
   "metadata": {
    "collapsed": false,
    "execution": {
     "iopub.execute_input": "2022-02-26T21:22:51.999159Z",
     "iopub.status.busy": "2022-02-26T21:22:51.998428Z",
     "iopub.status.idle": "2022-02-26T21:22:52.000208Z",
     "shell.execute_reply": "2022-02-26T21:22:52.000781Z",
     "shell.execute_reply.started": "2022-02-26T20:16:28.633914Z"
    },
    "jupyter": {
     "outputs_hidden": false
    },
    "papermill": {
     "duration": 0.167021,
     "end_time": "2022-02-26T21:22:52.000961",
     "exception": false,
     "start_time": "2022-02-26T21:22:51.833940",
     "status": "completed"
    },
    "pycharm": {
     "name": "#%%\n"
    },
    "tags": []
   },
   "outputs": [],
   "source": [
    "#turn multiple low freq categories to one category named 'other'\n",
    "def unify_low_freq_categories(series,vc_series=None,cut_threshold=500):\n",
    "    if vc_series is None:\n",
    "        vc_series = series.value_counts()\n",
    "    return series.mask(series.map(vc_series) < cut_threshold,'Other')  "
   ]
  },
  {
   "cell_type": "code",
   "execution_count": 64,
   "id": "2cc5062a",
   "metadata": {
    "collapsed": false,
    "execution": {
     "iopub.execute_input": "2022-02-26T21:22:52.325668Z",
     "iopub.status.busy": "2022-02-26T21:22:52.324936Z",
     "iopub.status.idle": "2022-02-26T21:22:52.522432Z",
     "shell.execute_reply": "2022-02-26T21:22:52.521750Z",
     "shell.execute_reply.started": "2022-02-26T20:16:28.651761Z"
    },
    "jupyter": {
     "outputs_hidden": false
    },
    "papermill": {
     "duration": 0.359915,
     "end_time": "2022-02-26T21:22:52.522582",
     "exception": false,
     "start_time": "2022-02-26T21:22:52.162667",
     "status": "completed"
    },
    "pycharm": {
     "name": "#%%\n"
    },
    "tags": []
   },
   "outputs": [
    {
     "data": {
      "text/plain": [
       "<AxesSubplot:>"
      ]
     },
     "execution_count": 64,
     "metadata": {},
     "output_type": "execute_result"
    },
    {
     "data": {
      "image/png": "[encoded data removed]",
      "text/plain": [
       "<Figure size 432x288 with 1 Axes>"
      ]
     },
     "metadata": {
      "needs_background": "light"
     },
     "output_type": "display_data"
    }
   ],
   "source": [
    "accidents_df_sj['Zipcode'] = unify_low_freq_categories(accidents_df_sj['Zipcode'],cut_threshold=200)\n",
    "accidents_df_sj['Zipcode'].value_counts(ascending=True).plot()"
   ]
  },
  {
   "cell_type": "code",
   "execution_count": 65,
   "id": "d66184fa",
   "metadata": {
    "collapsed": false,
    "execution": {
     "iopub.execute_input": "2022-02-26T21:22:52.848233Z",
     "iopub.status.busy": "2022-02-26T21:22:52.847516Z",
     "iopub.status.idle": "2022-02-26T21:22:53.015911Z",
     "shell.execute_reply": "2022-02-26T21:22:53.015302Z",
     "shell.execute_reply.started": "2022-02-26T20:16:28.873001Z"
    },
    "jupyter": {
     "outputs_hidden": false
    },
    "papermill": {
     "duration": 0.332501,
     "end_time": "2022-02-26T21:22:53.016079",
     "exception": false,
     "start_time": "2022-02-26T21:22:52.683578",
     "status": "completed"
    },
    "pycharm": {
     "name": "#%%\n"
    },
    "tags": []
   },
   "outputs": [
    {
     "data": {
      "text/plain": [
       "<AxesSubplot:>"
      ]
     },
     "execution_count": 65,
     "metadata": {},
     "output_type": "execute_result"
    },
    {
     "data": {
      "image/png": "[encoded data removed]",
      "text/plain": [
       "<Figure size 432x288 with 1 Axes>"
      ]
     },
     "metadata": {
      "needs_background": "light"
     },
     "output_type": "display_data"
    }
   ],
   "source": [
    "accidents_df_sj['Street'] = unify_low_freq_categories(accidents_df_sj['Street'],cut_threshold=50)\n",
    "accidents_df_sj['Street'].value_counts(ascending=True).plot() #long tail, smaller cut threshold"
   ]
  },
  {
   "cell_type": "code",
   "execution_count": 66,
   "id": "61cc6526",
   "metadata": {
    "collapsed": false,
    "execution": {
     "iopub.execute_input": "2022-02-26T21:22:53.356946Z",
     "iopub.status.busy": "2022-02-26T21:22:53.356238Z",
     "iopub.status.idle": "2022-02-26T21:22:53.435907Z",
     "shell.execute_reply": "2022-02-26T21:22:53.436477Z",
     "shell.execute_reply.started": "2022-02-26T20:16:29.089864Z"
    },
    "jupyter": {
     "outputs_hidden": false
    },
    "papermill": {
     "duration": 0.253819,
     "end_time": "2022-02-26T21:22:53.436657",
     "exception": false,
     "start_time": "2022-02-26T21:22:53.182838",
     "status": "completed"
    },
    "pycharm": {
     "name": "#%%\n"
    },
    "tags": []
   },
   "outputs": [],
   "source": [
    "accidents_df_sj['Geohash_Start'] = unify_low_freq_categories(accidents_df_sj['Geohash_Start'],cut_threshold=200)\n",
    "accidents_df_sj['Geohash_End'] = unify_low_freq_categories(accidents_df_sj['Geohash_End'],cut_threshold=200)\n",
    "\n",
    "#Dropping one of the Geohashes if they are similar (using Kolmogorov-Smirnov test) \n",
    "Kolmogorov_Smirnov_res = ks_2samp(accidents_df_sj['Geohash_Start'].values,accidents_df_sj['Geohash_End'].values)\n",
    "if Kolmogorov_Smirnov_res.pvalue <= 0.05:\n",
    "    accidents_df_sj.drop(['Geohash_End'],inplace=True,axis=1) "
   ]
  },
  {
   "cell_type": "code",
   "execution_count": 67,
   "id": "a01d4af4",
   "metadata": {
    "collapsed": false,
    "execution": {
     "iopub.execute_input": "2022-02-26T21:22:53.769307Z",
     "iopub.status.busy": "2022-02-26T21:22:53.768571Z",
     "iopub.status.idle": "2022-02-26T21:22:53.780650Z",
     "shell.execute_reply": "2022-02-26T21:22:53.781218Z",
     "shell.execute_reply.started": "2022-02-26T20:16:29.182083Z"
    },
    "jupyter": {
     "outputs_hidden": false
    },
    "papermill": {
     "duration": 0.178887,
     "end_time": "2022-02-26T21:22:53.781398",
     "exception": false,
     "start_time": "2022-02-26T21:22:53.602511",
     "status": "completed"
    },
    "pycharm": {
     "name": "#%%\n"
    },
    "tags": []
   },
   "outputs": [],
   "source": [
    "accidents_df_sj['Weather_Condition'].value_counts(ascending=True)\n",
    "accidents_df_sj['Weather_Condition'] = unify_low_freq_categories(accidents_df_sj['Weather_Condition'],cut_threshold=200)"
   ]
  },
  {
   "cell_type": "markdown",
   "id": "79834188",
   "metadata": {
    "papermill": {
     "duration": 0.163179,
     "end_time": "2022-02-26T21:22:54.105974",
     "exception": false,
     "start_time": "2022-02-26T21:22:53.942795",
     "status": "completed"
    },
    "tags": []
   },
   "source": [
    "<a id=\"encoding\"></a>\n",
    "# Encoding \n",
    "- [target encoding was defined here](#target-encoding)"
   ]
  },
  {
   "cell_type": "code",
   "execution_count": 68,
   "id": "c41cf90e",
   "metadata": {
    "execution": {
     "iopub.execute_input": "2022-02-26T21:22:54.433776Z",
     "iopub.status.busy": "2022-02-26T21:22:54.433098Z",
     "iopub.status.idle": "2022-02-26T21:22:54.785545Z",
     "shell.execute_reply": "2022-02-26T21:22:54.786149Z",
     "shell.execute_reply.started": "2022-02-26T20:16:29.198762Z"
    },
    "papermill": {
     "duration": 0.517935,
     "end_time": "2022-02-26T21:22:54.786338",
     "exception": false,
     "start_time": "2022-02-26T21:22:54.268403",
     "status": "completed"
    },
    "tags": []
   },
   "outputs": [],
   "source": [
    "categorical_cols = accidents_df_sj.select_dtypes(include=['object']).astype('category')\n",
    "cat_cols_names = categorical_cols.columns.to_list()\n",
    "for col in cat_cols_names:\n",
    "    accidents_df_sj[col] = target_encode(categorical_cols[col])"
   ]
  },
  {
   "cell_type": "code",
   "execution_count": 69,
   "id": "8615d07e",
   "metadata": {
    "execution": {
     "iopub.execute_input": "2022-02-26T21:22:55.116902Z",
     "iopub.status.busy": "2022-02-26T21:22:55.116166Z",
     "iopub.status.idle": "2022-02-26T21:22:55.170508Z",
     "shell.execute_reply": "2022-02-26T21:22:55.169927Z",
     "shell.execute_reply.started": "2022-02-26T20:16:29.655063Z"
    },
    "papermill": {
     "duration": 0.221906,
     "end_time": "2022-02-26T21:22:55.170672",
     "exception": false,
     "start_time": "2022-02-26T21:22:54.948766",
     "status": "completed"
    },
    "tags": []
   },
   "outputs": [],
   "source": [
    "day_night_to_bool = {'Day' : True, 'Night' : False}\n",
    "accidents_df_sj[['Sunrise_Sunset','Civil_Twilight','Nautical_Twilight','Astronomical_Twilight']] = accidents_df_sj[['Sunrise_Sunset','Civil_Twilight','Nautical_Twilight','Astronomical_Twilight']].apply(lambda x: x.map(day_night_to_bool).astype('bool'))\n",
    "\n",
    "bool_cols = accidents_df_sj.select_dtypes(include=['bool']).astype('category')\n",
    "accidents_df_sj = accidents_df_sj.join(pd.get_dummies(bool_cols,dtype='float64'),rsuffix='_ohe')\n",
    "accidents_df_sj.drop(bool_cols.columns.to_list(),axis=1,inplace=True)"
   ]
  },
  {
   "cell_type": "code",
   "execution_count": 70,
   "id": "34948faa",
   "metadata": {
    "execution": {
     "iopub.execute_input": "2022-02-26T21:22:55.500216Z",
     "iopub.status.busy": "2022-02-26T21:22:55.499532Z",
     "iopub.status.idle": "2022-02-26T21:22:55.506692Z",
     "shell.execute_reply": "2022-02-26T21:22:55.507225Z",
     "shell.execute_reply.started": "2022-02-26T20:16:29.721704Z"
    },
    "papermill": {
     "duration": 0.172901,
     "end_time": "2022-02-26T21:22:55.507400",
     "exception": false,
     "start_time": "2022-02-26T21:22:55.334499",
     "status": "completed"
    },
    "tags": []
   },
   "outputs": [
    {
     "data": {
      "text/plain": [
       "Severity                                 int64\n",
       "Distance(mi)                           float64\n",
       "Street                                 float64\n",
       "Side                                   float64\n",
       "Zipcode                                float64\n",
       "Airport_Code                           float64\n",
       "Temperature(F)                         float64\n",
       "Humidity(%)                            float64\n",
       "Pressure(in)                           float64\n",
       "Visibility(mi)                         float64\n",
       "Wind_Direction                         float64\n",
       "Weather_Condition                      float64\n",
       "Year                                     int64\n",
       "Month                                    int64\n",
       "Hour                                     int64\n",
       "Season                                 float64\n",
       "Weekday                                  int64\n",
       "Weather_Measurement_Proximity_Hours    float64\n",
       "Traffic_Peak_Status                    float64\n",
       "Geohash_Start                          float64\n",
       "Geohash_End                            float64\n",
       "cumcount_per_Street                    float64\n",
       "cumcount_per_Zipcode                   float64\n",
       "Street_Monthly_Sum                     float64\n",
       "Street_Monthly_Min                     float64\n",
       "Street_Monthly_Max                     float64\n",
       "Street_Monthly_Median                  float64\n",
       "Street_Monthly_Mean                    float64\n",
       "Zipcode_Monthly_Sum                    float64\n",
       "Zipcode_Monthly_Min                    float64\n",
       "Zipcode_Monthly_Max                    float64\n",
       "Zipcode_Monthly_Median                 float64\n",
       "Zipcode_Monthly_Mean                   float64\n",
       "Junction_False                         float64\n",
       "Junction_True                          float64\n",
       "Traffic_Signal_False                   float64\n",
       "Traffic_Signal_True                    float64\n",
       "Sunrise_Sunset_True                    float64\n",
       "Civil_Twilight_True                    float64\n",
       "Nautical_Twilight_True                 float64\n",
       "Astronomical_Twilight_True             float64\n",
       "Is_Holiday_False                       float64\n",
       "Are_Dangerous_Hours_False              float64\n",
       "Are_Dangerous_Hours_True               float64\n",
       "Has_Road_Conditions_Info_False         float64\n",
       "Has_Road_Conditions_Info_True          float64\n",
       "dtype: object"
      ]
     },
     "execution_count": 70,
     "metadata": {},
     "output_type": "execute_result"
    }
   ],
   "source": [
    "accidents_df_sj.dtypes"
   ]
  },
  {
   "cell_type": "markdown",
   "id": "6abc3d57",
   "metadata": {
    "papermill": {
     "duration": 0.16339,
     "end_time": "2022-02-26T21:22:55.837299",
     "exception": false,
     "start_time": "2022-02-26T21:22:55.673909",
     "status": "completed"
    },
    "tags": []
   },
   "source": [
    "<a id=\"normalization\"></a>\n",
    "# Normalization"
   ]
  },
  {
   "cell_type": "code",
   "execution_count": 71,
   "id": "4fca5fda",
   "metadata": {
    "collapsed": false,
    "execution": {
     "iopub.execute_input": "2022-02-26T21:22:56.170451Z",
     "iopub.status.busy": "2022-02-26T21:22:56.169791Z",
     "iopub.status.idle": "2022-02-26T21:22:56.267386Z",
     "shell.execute_reply": "2022-02-26T21:22:56.266815Z",
     "shell.execute_reply.started": "2022-02-26T20:16:29.733894Z"
    },
    "jupyter": {
     "outputs_hidden": false
    },
    "papermill": {
     "duration": 0.265762,
     "end_time": "2022-02-26T21:22:56.267531",
     "exception": false,
     "start_time": "2022-02-26T21:22:56.001769",
     "status": "completed"
    },
    "pycharm": {
     "name": "#%%\n"
    },
    "tags": []
   },
   "outputs": [
    {
     "data": {
      "text/html": [
       "<div>\n",
       "<style scoped>\n",
       "    .dataframe tbody tr th:only-of-type {\n",
       "        vertical-align: middle;\n",
       "    }\n",
       "\n",
       "    .dataframe tbody tr th {\n",
       "        vertical-align: top;\n",
       "    }\n",
       "\n",
       "    .dataframe thead th {\n",
       "        text-align: right;\n",
       "    }\n",
       "</style>\n",
       "<table border=\"1\" class=\"dataframe\">\n",
       "  <thead>\n",
       "    <tr style=\"text-align: right;\">\n",
       "      <th></th>\n",
       "      <th>Distance(mi)</th>\n",
       "      <th>Street</th>\n",
       "      <th>Side</th>\n",
       "      <th>Zipcode</th>\n",
       "      <th>Airport_Code</th>\n",
       "      <th>Temperature(F)</th>\n",
       "      <th>Humidity(%)</th>\n",
       "      <th>Pressure(in)</th>\n",
       "      <th>Visibility(mi)</th>\n",
       "      <th>Wind_Direction</th>\n",
       "      <th>...</th>\n",
       "      <th>Street_Monthly_Sum</th>\n",
       "      <th>Street_Monthly_Min</th>\n",
       "      <th>Street_Monthly_Max</th>\n",
       "      <th>Street_Monthly_Median</th>\n",
       "      <th>Street_Monthly_Mean</th>\n",
       "      <th>Zipcode_Monthly_Sum</th>\n",
       "      <th>Zipcode_Monthly_Min</th>\n",
       "      <th>Zipcode_Monthly_Max</th>\n",
       "      <th>Zipcode_Monthly_Median</th>\n",
       "      <th>Zipcode_Monthly_Mean</th>\n",
       "    </tr>\n",
       "  </thead>\n",
       "  <tbody>\n",
       "    <tr>\n",
       "      <th>min</th>\n",
       "      <td>0.00</td>\n",
       "      <td>1.95</td>\n",
       "      <td>2.04</td>\n",
       "      <td>2.00</td>\n",
       "      <td>2.03</td>\n",
       "      <td>28.00</td>\n",
       "      <td>10.00</td>\n",
       "      <td>19.91</td>\n",
       "      <td>0.06</td>\n",
       "      <td>1.92</td>\n",
       "      <td>...</td>\n",
       "      <td>2.00</td>\n",
       "      <td>1.28</td>\n",
       "      <td>2.00</td>\n",
       "      <td>2.00</td>\n",
       "      <td>1.96</td>\n",
       "      <td>2.01</td>\n",
       "      <td>1.28</td>\n",
       "      <td>2.01</td>\n",
       "      <td>2.01</td>\n",
       "      <td>2.01</td>\n",
       "    </tr>\n",
       "    <tr>\n",
       "      <th>max</th>\n",
       "      <td>5.07</td>\n",
       "      <td>2.19</td>\n",
       "      <td>2.06</td>\n",
       "      <td>2.08</td>\n",
       "      <td>2.05</td>\n",
       "      <td>107.60</td>\n",
       "      <td>100.00</td>\n",
       "      <td>30.55</td>\n",
       "      <td>10.00</td>\n",
       "      <td>2.31</td>\n",
       "      <td>...</td>\n",
       "      <td>1122.37</td>\n",
       "      <td>2.08</td>\n",
       "      <td>3.47</td>\n",
       "      <td>2.11</td>\n",
       "      <td>2.26</td>\n",
       "      <td>1128.43</td>\n",
       "      <td>2.07</td>\n",
       "      <td>3.47</td>\n",
       "      <td>2.07</td>\n",
       "      <td>2.11</td>\n",
       "    </tr>\n",
       "  </tbody>\n",
       "</table>\n",
       "<p>2 rows × 31 columns</p>\n",
       "</div>"
      ],
      "text/plain": [
       "    Distance(mi) Street  Side Zipcode Airport_Code Temperature(F) Humidity(%)  \\\n",
       "min         0.00   1.95  2.04    2.00         2.03          28.00       10.00   \n",
       "max         5.07   2.19  2.06    2.08         2.05         107.60      100.00   \n",
       "\n",
       "    Pressure(in) Visibility(mi) Wind_Direction  ... Street_Monthly_Sum  \\\n",
       "min        19.91           0.06           1.92  ...               2.00   \n",
       "max        30.55          10.00           2.31  ...            1122.37   \n",
       "\n",
       "    Street_Monthly_Min Street_Monthly_Max Street_Monthly_Median  \\\n",
       "min               1.28               2.00                  2.00   \n",
       "max               2.08               3.47                  2.11   \n",
       "\n",
       "    Street_Monthly_Mean Zipcode_Monthly_Sum Zipcode_Monthly_Min  \\\n",
       "min                1.96                2.01                1.28   \n",
       "max                2.26             1128.43                2.07   \n",
       "\n",
       "    Zipcode_Monthly_Max Zipcode_Monthly_Median Zipcode_Monthly_Mean  \n",
       "min                2.01                   2.01                 2.01  \n",
       "max                3.47                   2.07                 2.11  \n",
       "\n",
       "[2 rows x 31 columns]"
      ]
     },
     "execution_count": 71,
     "metadata": {},
     "output_type": "execute_result"
    }
   ],
   "source": [
    "#We observe min and max values to verify none of the other processes already normalized the values.\n",
    "numeric_cols = [col for col in accidents_df_sj.columns.to_list() if not col.endswith(('_True','_False','Year'))]\n",
    "numeric_cols.remove('Severity')\n",
    "accidents_df_sj[numeric_cols].describe().loc[['min','max']].apply(lambda s: s.apply('{0:.2f}'.format))"
   ]
  },
  {
   "cell_type": "code",
   "execution_count": 72,
   "id": "668e7c58",
   "metadata": {
    "collapsed": false,
    "execution": {
     "iopub.execute_input": "2022-02-26T21:22:56.600806Z",
     "iopub.status.busy": "2022-02-26T21:22:56.600060Z",
     "iopub.status.idle": "2022-02-26T21:22:56.613897Z",
     "shell.execute_reply": "2022-02-26T21:22:56.614492Z",
     "shell.execute_reply.started": "2022-02-26T20:16:29.850325Z"
    },
    "jupyter": {
     "outputs_hidden": false
    },
    "papermill": {
     "duration": 0.181964,
     "end_time": "2022-02-26T21:22:56.614675",
     "exception": false,
     "start_time": "2022-02-26T21:22:56.432711",
     "status": "completed"
    },
    "pycharm": {
     "name": "#%%\n"
    },
    "tags": []
   },
   "outputs": [],
   "source": [
    "#Actual normalization using sklearn - Preferred over Standardization because of different distributions.\n",
    "def normalize(df):\n",
    "    x = df.values #returns a numpy array\n",
    "    min_max_scaler = preprocessing.MinMaxScaler()\n",
    "    x_scaled = min_max_scaler.fit_transform(x)\n",
    "    return pd.DataFrame(x_scaled,dtype='float64')\n",
    "\n",
    "accidents_df_sj[numeric_cols] = normalize(accidents_df_sj[numeric_cols])"
   ]
  },
  {
   "cell_type": "code",
   "execution_count": 73,
   "id": "68ab4ef7",
   "metadata": {
    "collapsed": false,
    "execution": {
     "iopub.execute_input": "2022-02-26T21:22:56.949465Z",
     "iopub.status.busy": "2022-02-26T21:22:56.948712Z",
     "iopub.status.idle": "2022-02-26T21:22:57.073424Z",
     "shell.execute_reply": "2022-02-26T21:22:57.072845Z",
     "shell.execute_reply.started": "2022-02-26T20:16:29.868212Z"
    },
    "jupyter": {
     "outputs_hidden": false
    },
    "papermill": {
     "duration": 0.291182,
     "end_time": "2022-02-26T21:22:57.073574",
     "exception": false,
     "start_time": "2022-02-26T21:22:56.782392",
     "status": "completed"
    },
    "pycharm": {
     "name": "#%%\n"
    },
    "tags": []
   },
   "outputs": [
    {
     "data": {
      "text/html": [
       "<div>\n",
       "<style scoped>\n",
       "    .dataframe tbody tr th:only-of-type {\n",
       "        vertical-align: middle;\n",
       "    }\n",
       "\n",
       "    .dataframe tbody tr th {\n",
       "        vertical-align: top;\n",
       "    }\n",
       "\n",
       "    .dataframe thead th {\n",
       "        text-align: right;\n",
       "    }\n",
       "</style>\n",
       "<table border=\"1\" class=\"dataframe\">\n",
       "  <thead>\n",
       "    <tr style=\"text-align: right;\">\n",
       "      <th></th>\n",
       "      <th>Severity</th>\n",
       "      <th>Distance(mi)</th>\n",
       "      <th>Street</th>\n",
       "      <th>Side</th>\n",
       "      <th>Zipcode</th>\n",
       "      <th>Airport_Code</th>\n",
       "      <th>Temperature(F)</th>\n",
       "      <th>Humidity(%)</th>\n",
       "      <th>Pressure(in)</th>\n",
       "      <th>Visibility(mi)</th>\n",
       "      <th>...</th>\n",
       "      <th>Traffic_Signal_True</th>\n",
       "      <th>Sunrise_Sunset_True</th>\n",
       "      <th>Civil_Twilight_True</th>\n",
       "      <th>Nautical_Twilight_True</th>\n",
       "      <th>Astronomical_Twilight_True</th>\n",
       "      <th>Is_Holiday_False</th>\n",
       "      <th>Are_Dangerous_Hours_False</th>\n",
       "      <th>Are_Dangerous_Hours_True</th>\n",
       "      <th>Has_Road_Conditions_Info_False</th>\n",
       "      <th>Has_Road_Conditions_Info_True</th>\n",
       "    </tr>\n",
       "  </thead>\n",
       "  <tbody>\n",
       "    <tr>\n",
       "      <th>count</th>\n",
       "      <td>9211.000000</td>\n",
       "      <td>9211.000000</td>\n",
       "      <td>9211.000000</td>\n",
       "      <td>9211.000000</td>\n",
       "      <td>9211.000000</td>\n",
       "      <td>9211.000000</td>\n",
       "      <td>9211.000000</td>\n",
       "      <td>9211.000000</td>\n",
       "      <td>9211.000000</td>\n",
       "      <td>9211.000000</td>\n",
       "      <td>...</td>\n",
       "      <td>9211.000000</td>\n",
       "      <td>9211.0</td>\n",
       "      <td>9211.0</td>\n",
       "      <td>9211.0</td>\n",
       "      <td>9211.0</td>\n",
       "      <td>9211.0</td>\n",
       "      <td>9211.000000</td>\n",
       "      <td>9211.000000</td>\n",
       "      <td>9211.000000</td>\n",
       "      <td>9211.000000</td>\n",
       "    </tr>\n",
       "    <tr>\n",
       "      <th>mean</th>\n",
       "      <td>2.041581</td>\n",
       "      <td>0.043888</td>\n",
       "      <td>0.394995</td>\n",
       "      <td>0.025404</td>\n",
       "      <td>0.542797</td>\n",
       "      <td>0.645385</td>\n",
       "      <td>0.421632</td>\n",
       "      <td>0.575190</td>\n",
       "      <td>0.945232</td>\n",
       "      <td>0.946576</td>\n",
       "      <td>...</td>\n",
       "      <td>0.046358</td>\n",
       "      <td>1.0</td>\n",
       "      <td>1.0</td>\n",
       "      <td>1.0</td>\n",
       "      <td>1.0</td>\n",
       "      <td>1.0</td>\n",
       "      <td>0.732385</td>\n",
       "      <td>0.267615</td>\n",
       "      <td>0.659972</td>\n",
       "      <td>0.340028</td>\n",
       "    </tr>\n",
       "    <tr>\n",
       "      <th>std</th>\n",
       "      <td>0.397204</td>\n",
       "      <td>0.064827</td>\n",
       "      <td>0.188608</td>\n",
       "      <td>0.157359</td>\n",
       "      <td>0.311673</td>\n",
       "      <td>0.478396</td>\n",
       "      <td>0.147044</td>\n",
       "      <td>0.228091</td>\n",
       "      <td>0.023214</td>\n",
       "      <td>0.156736</td>\n",
       "      <td>...</td>\n",
       "      <td>0.210270</td>\n",
       "      <td>0.0</td>\n",
       "      <td>0.0</td>\n",
       "      <td>0.0</td>\n",
       "      <td>0.0</td>\n",
       "      <td>0.0</td>\n",
       "      <td>0.442740</td>\n",
       "      <td>0.442740</td>\n",
       "      <td>0.473744</td>\n",
       "      <td>0.473744</td>\n",
       "    </tr>\n",
       "    <tr>\n",
       "      <th>min</th>\n",
       "      <td>1.000000</td>\n",
       "      <td>0.000000</td>\n",
       "      <td>0.000000</td>\n",
       "      <td>0.000000</td>\n",
       "      <td>0.000000</td>\n",
       "      <td>0.000000</td>\n",
       "      <td>0.000000</td>\n",
       "      <td>0.000000</td>\n",
       "      <td>0.000000</td>\n",
       "      <td>0.000000</td>\n",
       "      <td>...</td>\n",
       "      <td>0.000000</td>\n",
       "      <td>1.0</td>\n",
       "      <td>1.0</td>\n",
       "      <td>1.0</td>\n",
       "      <td>1.0</td>\n",
       "      <td>1.0</td>\n",
       "      <td>0.000000</td>\n",
       "      <td>0.000000</td>\n",
       "      <td>0.000000</td>\n",
       "      <td>0.000000</td>\n",
       "    </tr>\n",
       "    <tr>\n",
       "      <th>25%</th>\n",
       "      <td>2.000000</td>\n",
       "      <td>0.000000</td>\n",
       "      <td>0.258618</td>\n",
       "      <td>0.000000</td>\n",
       "      <td>0.286022</td>\n",
       "      <td>0.000000</td>\n",
       "      <td>0.315327</td>\n",
       "      <td>0.400000</td>\n",
       "      <td>0.936090</td>\n",
       "      <td>1.000000</td>\n",
       "      <td>...</td>\n",
       "      <td>0.000000</td>\n",
       "      <td>1.0</td>\n",
       "      <td>1.0</td>\n",
       "      <td>1.0</td>\n",
       "      <td>1.0</td>\n",
       "      <td>1.0</td>\n",
       "      <td>0.000000</td>\n",
       "      <td>0.000000</td>\n",
       "      <td>0.000000</td>\n",
       "      <td>0.000000</td>\n",
       "    </tr>\n",
       "    <tr>\n",
       "      <th>50%</th>\n",
       "      <td>2.000000</td>\n",
       "      <td>0.009082</td>\n",
       "      <td>0.404292</td>\n",
       "      <td>0.000000</td>\n",
       "      <td>0.654792</td>\n",
       "      <td>1.000000</td>\n",
       "      <td>0.403266</td>\n",
       "      <td>0.600000</td>\n",
       "      <td>0.945489</td>\n",
       "      <td>1.000000</td>\n",
       "      <td>...</td>\n",
       "      <td>0.000000</td>\n",
       "      <td>1.0</td>\n",
       "      <td>1.0</td>\n",
       "      <td>1.0</td>\n",
       "      <td>1.0</td>\n",
       "      <td>1.0</td>\n",
       "      <td>1.000000</td>\n",
       "      <td>0.000000</td>\n",
       "      <td>1.000000</td>\n",
       "      <td>0.000000</td>\n",
       "    </tr>\n",
       "    <tr>\n",
       "      <th>75%</th>\n",
       "      <td>2.000000</td>\n",
       "      <td>0.074038</td>\n",
       "      <td>0.514023</td>\n",
       "      <td>0.000000</td>\n",
       "      <td>0.759434</td>\n",
       "      <td>1.000000</td>\n",
       "      <td>0.525126</td>\n",
       "      <td>0.755556</td>\n",
       "      <td>0.954887</td>\n",
       "      <td>1.000000</td>\n",
       "      <td>...</td>\n",
       "      <td>0.000000</td>\n",
       "      <td>1.0</td>\n",
       "      <td>1.0</td>\n",
       "      <td>1.0</td>\n",
       "      <td>1.0</td>\n",
       "      <td>1.0</td>\n",
       "      <td>1.000000</td>\n",
       "      <td>1.000000</td>\n",
       "      <td>1.000000</td>\n",
       "      <td>1.000000</td>\n",
       "    </tr>\n",
       "    <tr>\n",
       "      <th>max</th>\n",
       "      <td>4.000000</td>\n",
       "      <td>1.000000</td>\n",
       "      <td>1.000000</td>\n",
       "      <td>1.000000</td>\n",
       "      <td>1.000000</td>\n",
       "      <td>1.000000</td>\n",
       "      <td>1.000000</td>\n",
       "      <td>1.000000</td>\n",
       "      <td>1.000000</td>\n",
       "      <td>1.000000</td>\n",
       "      <td>...</td>\n",
       "      <td>1.000000</td>\n",
       "      <td>1.0</td>\n",
       "      <td>1.0</td>\n",
       "      <td>1.0</td>\n",
       "      <td>1.0</td>\n",
       "      <td>1.0</td>\n",
       "      <td>1.000000</td>\n",
       "      <td>1.000000</td>\n",
       "      <td>1.000000</td>\n",
       "      <td>1.000000</td>\n",
       "    </tr>\n",
       "  </tbody>\n",
       "</table>\n",
       "<p>8 rows × 46 columns</p>\n",
       "</div>"
      ],
      "text/plain": [
       "          Severity  Distance(mi)       Street         Side      Zipcode  \\\n",
       "count  9211.000000   9211.000000  9211.000000  9211.000000  9211.000000   \n",
       "mean      2.041581      0.043888     0.394995     0.025404     0.542797   \n",
       "std       0.397204      0.064827     0.188608     0.157359     0.311673   \n",
       "min       1.000000      0.000000     0.000000     0.000000     0.000000   \n",
       "25%       2.000000      0.000000     0.258618     0.000000     0.286022   \n",
       "50%       2.000000      0.009082     0.404292     0.000000     0.654792   \n",
       "75%       2.000000      0.074038     0.514023     0.000000     0.759434   \n",
       "max       4.000000      1.000000     1.000000     1.000000     1.000000   \n",
       "\n",
       "       Airport_Code  Temperature(F)  Humidity(%)  Pressure(in)  \\\n",
       "count   9211.000000     9211.000000  9211.000000   9211.000000   \n",
       "mean       0.645385        0.421632     0.575190      0.945232   \n",
       "std        0.478396        0.147044     0.228091      0.023214   \n",
       "min        0.000000        0.000000     0.000000      0.000000   \n",
       "25%        0.000000        0.315327     0.400000      0.936090   \n",
       "50%        1.000000        0.403266     0.600000      0.945489   \n",
       "75%        1.000000        0.525126     0.755556      0.954887   \n",
       "max        1.000000        1.000000     1.000000      1.000000   \n",
       "\n",
       "       Visibility(mi)  ...  Traffic_Signal_True  Sunrise_Sunset_True  \\\n",
       "count     9211.000000  ...          9211.000000               9211.0   \n",
       "mean         0.946576  ...             0.046358                  1.0   \n",
       "std          0.156736  ...             0.210270                  0.0   \n",
       "min          0.000000  ...             0.000000                  1.0   \n",
       "25%          1.000000  ...             0.000000                  1.0   \n",
       "50%          1.000000  ...             0.000000                  1.0   \n",
       "75%          1.000000  ...             0.000000                  1.0   \n",
       "max          1.000000  ...             1.000000                  1.0   \n",
       "\n",
       "       Civil_Twilight_True  Nautical_Twilight_True  \\\n",
       "count               9211.0                  9211.0   \n",
       "mean                   1.0                     1.0   \n",
       "std                    0.0                     0.0   \n",
       "min                    1.0                     1.0   \n",
       "25%                    1.0                     1.0   \n",
       "50%                    1.0                     1.0   \n",
       "75%                    1.0                     1.0   \n",
       "max                    1.0                     1.0   \n",
       "\n",
       "       Astronomical_Twilight_True  Is_Holiday_False  \\\n",
       "count                      9211.0            9211.0   \n",
       "mean                          1.0               1.0   \n",
       "std                           0.0               0.0   \n",
       "min                           1.0               1.0   \n",
       "25%                           1.0               1.0   \n",
       "50%                           1.0               1.0   \n",
       "75%                           1.0               1.0   \n",
       "max                           1.0               1.0   \n",
       "\n",
       "       Are_Dangerous_Hours_False  Are_Dangerous_Hours_True  \\\n",
       "count                9211.000000               9211.000000   \n",
       "mean                    0.732385                  0.267615   \n",
       "std                     0.442740                  0.442740   \n",
       "min                     0.000000                  0.000000   \n",
       "25%                     0.000000                  0.000000   \n",
       "50%                     1.000000                  0.000000   \n",
       "75%                     1.000000                  1.000000   \n",
       "max                     1.000000                  1.000000   \n",
       "\n",
       "       Has_Road_Conditions_Info_False  Has_Road_Conditions_Info_True  \n",
       "count                     9211.000000                    9211.000000  \n",
       "mean                         0.659972                       0.340028  \n",
       "std                          0.473744                       0.473744  \n",
       "min                          0.000000                       0.000000  \n",
       "25%                          0.000000                       0.000000  \n",
       "50%                          1.000000                       0.000000  \n",
       "75%                          1.000000                       1.000000  \n",
       "max                          1.000000                       1.000000  \n",
       "\n",
       "[8 rows x 46 columns]"
      ]
     },
     "execution_count": 73,
     "metadata": {},
     "output_type": "execute_result"
    }
   ],
   "source": [
    "accidents_df_sj.describe() #final validation before applying models"
   ]
  },
  {
   "cell_type": "code",
   "execution_count": 74,
   "id": "e11102e3",
   "metadata": {
    "collapsed": false,
    "execution": {
     "iopub.execute_input": "2022-02-26T21:22:57.408669Z",
     "iopub.status.busy": "2022-02-26T21:22:57.407643Z",
     "iopub.status.idle": "2022-02-26T21:22:57.424084Z",
     "shell.execute_reply": "2022-02-26T21:22:57.423101Z",
     "shell.execute_reply.started": "2022-02-26T20:16:30.015735Z"
    },
    "jupyter": {
     "outputs_hidden": false
    },
    "papermill": {
     "duration": 0.18602,
     "end_time": "2022-02-26T21:22:57.424290",
     "exception": false,
     "start_time": "2022-02-26T21:22:57.238270",
     "status": "completed"
    },
    "pycharm": {
     "name": "#%%\n"
    },
    "tags": []
   },
   "outputs": [
    {
     "name": "stdout",
     "output_type": "stream",
     "text": [
      "<class 'pandas.core.frame.DataFrame'>\n",
      "RangeIndex: 9211 entries, 0 to 9210\n",
      "Data columns (total 46 columns):\n",
      " #   Column                               Non-Null Count  Dtype  \n",
      "---  ------                               --------------  -----  \n",
      " 0   Severity                             9211 non-null   int64  \n",
      " 1   Distance(mi)                         9211 non-null   float64\n",
      " 2   Street                               9211 non-null   float64\n",
      " 3   Side                                 9211 non-null   float64\n",
      " 4   Zipcode                              9211 non-null   float64\n",
      " 5   Airport_Code                         9211 non-null   float64\n",
      " 6   Temperature(F)                       9211 non-null   float64\n",
      " 7   Humidity(%)                          9211 non-null   float64\n",
      " 8   Pressure(in)                         9211 non-null   float64\n",
      " 9   Visibility(mi)                       9211 non-null   float64\n",
      " 10  Wind_Direction                       9211 non-null   float64\n",
      " 11  Weather_Condition                    9211 non-null   float64\n",
      " 12  Year                                 9211 non-null   int64  \n",
      " 13  Month                                9211 non-null   float64\n",
      " 14  Hour                                 9211 non-null   float64\n",
      " 15  Season                               9211 non-null   float64\n",
      " 16  Weekday                              9211 non-null   float64\n",
      " 17  Weather_Measurement_Proximity_Hours  9211 non-null   float64\n",
      " 18  Traffic_Peak_Status                  9211 non-null   float64\n",
      " 19  Geohash_Start                        9211 non-null   float64\n",
      " 20  Geohash_End                          9211 non-null   float64\n",
      " 21  cumcount_per_Street                  9211 non-null   float64\n",
      " 22  cumcount_per_Zipcode                 9211 non-null   float64\n",
      " 23  Street_Monthly_Sum                   9211 non-null   float64\n",
      " 24  Street_Monthly_Min                   9211 non-null   float64\n",
      " 25  Street_Monthly_Max                   9211 non-null   float64\n",
      " 26  Street_Monthly_Median                9211 non-null   float64\n",
      " 27  Street_Monthly_Mean                  9211 non-null   float64\n",
      " 28  Zipcode_Monthly_Sum                  9211 non-null   float64\n",
      " 29  Zipcode_Monthly_Min                  9211 non-null   float64\n",
      " 30  Zipcode_Monthly_Max                  9211 non-null   float64\n",
      " 31  Zipcode_Monthly_Median               9211 non-null   float64\n",
      " 32  Zipcode_Monthly_Mean                 9211 non-null   float64\n",
      " 33  Junction_False                       9211 non-null   float64\n",
      " 34  Junction_True                        9211 non-null   float64\n",
      " 35  Traffic_Signal_False                 9211 non-null   float64\n",
      " 36  Traffic_Signal_True                  9211 non-null   float64\n",
      " 37  Sunrise_Sunset_True                  9211 non-null   float64\n",
      " 38  Civil_Twilight_True                  9211 non-null   float64\n",
      " 39  Nautical_Twilight_True               9211 non-null   float64\n",
      " 40  Astronomical_Twilight_True           9211 non-null   float64\n",
      " 41  Is_Holiday_False                     9211 non-null   float64\n",
      " 42  Are_Dangerous_Hours_False            9211 non-null   float64\n",
      " 43  Are_Dangerous_Hours_True             9211 non-null   float64\n",
      " 44  Has_Road_Conditions_Info_False       9211 non-null   float64\n",
      " 45  Has_Road_Conditions_Info_True        9211 non-null   float64\n",
      "dtypes: float64(44), int64(2)\n",
      "memory usage: 3.2 MB\n"
     ]
    }
   ],
   "source": [
    "accidents_df_sj.info() "
   ]
  },
  {
   "cell_type": "markdown",
   "id": "296a4f2e",
   "metadata": {
    "papermill": {
     "duration": 0.16787,
     "end_time": "2022-02-26T21:22:57.759282",
     "exception": false,
     "start_time": "2022-02-26T21:22:57.591412",
     "status": "completed"
    },
    "tags": []
   },
   "source": [
    "<a id=\"modeling\"></a>\n",
    "<a id=\"models-params\"></a>\n",
    "# Modeling"
   ]
  },
  {
   "cell_type": "code",
   "execution_count": 75,
   "id": "8983390c",
   "metadata": {
    "collapsed": false,
    "execution": {
     "iopub.execute_input": "2022-02-26T21:22:58.099829Z",
     "iopub.status.busy": "2022-02-26T21:22:58.098842Z",
     "iopub.status.idle": "2022-02-26T21:22:58.101334Z",
     "shell.execute_reply": "2022-02-26T21:22:58.101934Z",
     "shell.execute_reply.started": "2022-02-26T20:16:30.045936Z"
    },
    "jupyter": {
     "outputs_hidden": false
    },
    "papermill": {
     "duration": 0.177109,
     "end_time": "2022-02-26T21:22:58.102168",
     "exception": false,
     "start_time": "2022-02-26T21:22:57.925059",
     "status": "completed"
    },
    "pycharm": {
     "name": "#%%\n"
    },
    "tags": []
   },
   "outputs": [],
   "source": [
    "classifier_models = {\n",
    "    LogisticRegression: {\n",
    "        'solver': ['liblinear']\n",
    "    },\n",
    "    RandomForestClassifier: {\n",
    "        'n_estimators': [200, 500],\n",
    "        'max_features': ['auto', 'sqrt', 'log2'],\n",
    "        'max_depth': [4, 6, 8],\n",
    "        'criterion': ['gini', 'entropy']\n",
    "    },\n",
    "    AdaBoostClassifier : {\n",
    "        'n_estimators': [10, 50, 100, 500],\n",
    "        'learning_rate': [0.001, 0.01, 0.1]\n",
    "    },\n",
    "#     SVC: {\n",
    "#         'C': [0.1,1,100],\n",
    "#         'gamma': [1,0.1,0.001],\n",
    "#         'kernel': ['rbf', 'poly', 'sigmoid']\n",
    "#     } \n",
    "}"
   ]
  },
  {
   "cell_type": "code",
   "execution_count": 76,
   "id": "b9824051",
   "metadata": {
    "execution": {
     "iopub.execute_input": "2022-02-26T21:22:58.438540Z",
     "iopub.status.busy": "2022-02-26T21:22:58.436664Z",
     "iopub.status.idle": "2022-02-26T21:22:58.441330Z",
     "shell.execute_reply": "2022-02-26T21:22:58.440586Z",
     "shell.execute_reply.started": "2022-02-26T20:16:30.059129Z"
    },
    "papermill": {
     "duration": 0.173987,
     "end_time": "2022-02-26T21:22:58.441483",
     "exception": false,
     "start_time": "2022-02-26T21:22:58.267496",
     "status": "completed"
    },
    "tags": []
   },
   "outputs": [],
   "source": [
    "score_name = 'accuracy'\n",
    "rounding_decimals = 5"
   ]
  },
  {
   "cell_type": "code",
   "execution_count": 77,
   "id": "b2130c62",
   "metadata": {
    "collapsed": false,
    "execution": {
     "iopub.execute_input": "2022-02-26T21:22:58.802551Z",
     "iopub.status.busy": "2022-02-26T21:22:58.801503Z",
     "iopub.status.idle": "2022-02-26T21:22:58.810400Z",
     "shell.execute_reply": "2022-02-26T21:22:58.810974Z",
     "shell.execute_reply.started": "2022-02-26T20:16:30.080049Z"
    },
    "jupyter": {
     "outputs_hidden": false
    },
    "papermill": {
     "duration": 0.203917,
     "end_time": "2022-02-26T21:22:58.811171",
     "exception": false,
     "start_time": "2022-02-26T21:22:58.607254",
     "status": "completed"
    },
    "pycharm": {
     "name": "#%%\n"
    },
    "tags": []
   },
   "outputs": [],
   "source": [
    "def get_score(X_train,y_train,X_test,y_test,model_class,params,cv=None):\n",
    "    print(f'Current model being evaluated: {model_class.__name__}')\n",
    "    scoring_metric = make_scorer(f1_score, average='weighted') if score_name == 'f1' else 'accuracy'\n",
    "    if cv is not None:\n",
    "        gscv = GridSearchCV(estimator=model_class(), param_grid=params,cv=cv, n_jobs=4, verbose=1,scoring=scoring_metric)\n",
    "        gscv.fit(X_train, y_train)\n",
    "        print('Best accuracy over training set: %s' % round(gscv.best_score_,5))\n",
    "        params = gscv.best_params_\n",
    "        m = model_class(**gscv.best_params_)\n",
    "        del gscv\n",
    "        gc.collect()\n",
    "    else:\n",
    "        m = model_class(**params)\n",
    "        \n",
    "    m.fit(X_train,y_train)\n",
    "    if score_name == 'f1':\n",
    "        score = f1_score(X_test,y_test,average=None)\n",
    "    else:\n",
    "        score = m.score(X_test,y_test)\n",
    "    print(f'Accuracy score over test set is: {round(score,5)}')\n",
    "    print('-----------------------------------------------------------\\n')\n",
    "    \n",
    "    return score,m"
   ]
  },
  {
   "cell_type": "markdown",
   "id": "9673ca12",
   "metadata": {
    "papermill": {
     "duration": 0.166387,
     "end_time": "2022-02-26T21:22:59.143611",
     "exception": false,
     "start_time": "2022-02-26T21:22:58.977224",
     "status": "completed"
    },
    "tags": []
   },
   "source": [
    "<a id=\"cv\"></a>"
   ]
  },
  {
   "cell_type": "code",
   "execution_count": 78,
   "id": "51996105",
   "metadata": {
    "collapsed": false,
    "execution": {
     "iopub.execute_input": "2022-02-26T21:22:59.478501Z",
     "iopub.status.busy": "2022-02-26T21:22:59.477430Z",
     "iopub.status.idle": "2022-02-26T21:22:59.479384Z",
     "shell.execute_reply": "2022-02-26T21:22:59.479912Z",
     "shell.execute_reply.started": "2022-02-26T20:16:30.097077Z"
    },
    "jupyter": {
     "outputs_hidden": false
    },
    "papermill": {
     "duration": 0.172203,
     "end_time": "2022-02-26T21:22:59.480105",
     "exception": false,
     "start_time": "2022-02-26T21:22:59.307902",
     "status": "completed"
    },
    "pycharm": {
     "name": "#%%\n"
    },
    "tags": []
   },
   "outputs": [],
   "source": [
    "def get_cv(X_train,n_splits):\n",
    "    tscv = TimeSeriesSplit(n_splits=n_splits) #originally 5 \n",
    "    return list(tscv.split(X_train.index.values))   "
   ]
  },
  {
   "cell_type": "code",
   "execution_count": 79,
   "id": "d2ff421f",
   "metadata": {
    "collapsed": false,
    "execution": {
     "iopub.execute_input": "2022-02-26T21:22:59.823691Z",
     "iopub.status.busy": "2022-02-26T21:22:59.822619Z",
     "iopub.status.idle": "2022-02-26T21:22:59.828165Z",
     "shell.execute_reply": "2022-02-26T21:22:59.828747Z",
     "shell.execute_reply.started": "2022-02-26T20:16:30.112809Z"
    },
    "jupyter": {
     "outputs_hidden": false
    },
    "papermill": {
     "duration": 0.180784,
     "end_time": "2022-02-26T21:22:59.828944",
     "exception": false,
     "start_time": "2022-02-26T21:22:59.648160",
     "status": "completed"
    },
    "pycharm": {
     "name": "#%%\n"
    },
    "tags": []
   },
   "outputs": [],
   "source": [
    "def extract_importances(feat_importance,index_cols):\n",
    "    importances = pd.Series(feat_importance, index=index_cols)\n",
    "    importances = importances[importances > 0].nlargest(20).sort_values(ascending=True)\n",
    "    importances.plot(kind='barh',figsize=(15,15))"
   ]
  },
  {
   "cell_type": "code",
   "execution_count": 80,
   "id": "b9da8e42",
   "metadata": {
    "collapsed": false,
    "execution": {
     "iopub.execute_input": "2022-02-26T21:23:00.170270Z",
     "iopub.status.busy": "2022-02-26T21:23:00.169209Z",
     "iopub.status.idle": "2022-02-26T21:23:00.187049Z",
     "shell.execute_reply": "2022-02-26T21:23:00.187734Z",
     "shell.execute_reply.started": "2022-02-26T20:16:30.130868Z"
    },
    "jupyter": {
     "outputs_hidden": false
    },
    "papermill": {
     "duration": 0.192534,
     "end_time": "2022-02-26T21:23:00.187976",
     "exception": false,
     "start_time": "2022-02-26T21:22:59.995442",
     "status": "completed"
    },
    "pycharm": {
     "name": "#%%\n"
    },
    "tags": []
   },
   "outputs": [
    {
     "name": "stdout",
     "output_type": "stream",
     "text": [
      "Year\n",
      "2016    1105\n",
      "2017    1058\n",
      "2018    1112\n",
      "2019    2429\n",
      "2020    3507\n",
      "dtype: int64\n",
      "Month      \n",
      "0.000000  2     99.577167\n",
      "          4      0.422833\n",
      "0.090909  2     99.026764\n",
      "          4      0.486618\n",
      "          3      0.486618\n",
      "0.181818  2     81.670061\n",
      "          1     16.700611\n",
      "          3      1.425662\n",
      "          4      0.203666\n",
      "0.272727  2     45.989305\n",
      "          1     44.919786\n",
      "          3      6.951872\n",
      "          4      2.139037\n",
      "0.363636  2     63.517915\n",
      "          1     28.990228\n",
      "          3      6.514658\n",
      "          4      0.977199\n",
      "0.454545  2     67.964072\n",
      "          1     20.059880\n",
      "          3      8.083832\n",
      "          4      3.892216\n",
      "0.545455  2    100.000000\n",
      "0.727273  2     94.871795\n",
      "          4      5.128205\n",
      "0.818182  2     97.894737\n",
      "          4      2.105263\n",
      "0.909091  2    100.000000\n",
      "1.000000  2    100.000000\n",
      "Name: Severity, dtype: float64\n"
     ]
    }
   ],
   "source": [
    "yearly_idx_groups = accidents_df_sj.groupby('Year')\n",
    "print(yearly_idx_groups.size())\n",
    "print(accidents_df_sj[accidents_df_sj['Year'] == 2020].groupby('Month')['Severity'].apply(lambda month : month.value_counts() / len(month) * 100))"
   ]
  },
  {
   "cell_type": "code",
   "execution_count": 81,
   "id": "e775b9ea",
   "metadata": {
    "collapsed": false,
    "execution": {
     "iopub.execute_input": "2022-02-26T21:23:00.529085Z",
     "iopub.status.busy": "2022-02-26T21:23:00.527886Z",
     "iopub.status.idle": "2022-02-26T21:23:00.532203Z",
     "shell.execute_reply": "2022-02-26T21:23:00.531540Z",
     "shell.execute_reply.started": "2022-02-26T20:16:30.167412Z"
    },
    "jupyter": {
     "outputs_hidden": false
    },
    "papermill": {
     "duration": 0.176528,
     "end_time": "2022-02-26T21:23:00.532351",
     "exception": false,
     "start_time": "2022-02-26T21:23:00.355823",
     "status": "completed"
    },
    "pycharm": {
     "name": "#%%\n"
    },
    "tags": []
   },
   "outputs": [],
   "source": [
    "accidents_df_sj.drop('Year',axis=1,inplace=True)\n",
    "accidents_df_sj['Date'] = date_col"
   ]
  },
  {
   "cell_type": "markdown",
   "id": "fe67ec4a",
   "metadata": {
    "papermill": {
     "duration": 0.166293,
     "end_time": "2022-02-26T21:23:00.864030",
     "exception": false,
     "start_time": "2022-02-26T21:23:00.697737",
     "status": "completed"
    },
    "tags": []
   },
   "source": [
    "<a id=\"train-test-split\"></a>"
   ]
  },
  {
   "cell_type": "code",
   "execution_count": 82,
   "id": "fec9efab",
   "metadata": {
    "collapsed": false,
    "execution": {
     "iopub.execute_input": "2022-02-26T21:23:01.206510Z",
     "iopub.status.busy": "2022-02-26T21:23:01.205527Z",
     "iopub.status.idle": "2022-02-26T21:23:01.218940Z",
     "shell.execute_reply": "2022-02-26T21:23:01.219983Z",
     "shell.execute_reply.started": "2022-02-26T20:16:30.184494Z"
    },
    "jupyter": {
     "outputs_hidden": false
    },
    "papermill": {
     "duration": 0.189567,
     "end_time": "2022-02-26T21:23:01.220313",
     "exception": false,
     "start_time": "2022-02-26T21:23:01.030746",
     "status": "completed"
    },
    "pycharm": {
     "name": "#%%\n"
    },
    "tags": []
   },
   "outputs": [
    {
     "name": "stdout",
     "output_type": "stream",
     "text": [
      "7457\n",
      "1754\n"
     ]
    }
   ],
   "source": [
    "#TRAIN-TEST TIME SPLIT\n",
    "train_idx = [idx_list for (year,idx_list) in sorted(yearly_idx_groups.groups.items())] \n",
    "\n",
    "train_2020_idx = train_idx[-1]\n",
    "\n",
    "train_idx[-1] = train_2020_idx[:len(train_2020_idx) // 2]\n",
    "test_idx = train_2020_idx[len(train_2020_idx) // 2:]\n",
    "\n",
    "train_idx = list(itertools.chain.from_iterable(train_idx))\n",
    "\n",
    "X_train = accidents_df_sj.iloc[train_idx,:]\n",
    "y_train = X_train.pop('Severity')\n",
    "X_test = accidents_df_sj.iloc[test_idx,:]\n",
    "y_test = X_test.pop('Severity')\n",
    "\n",
    "train_dates = X_train.pop('Date')\n",
    "test_dates = X_test.pop('Date')\n",
    "cols = X_train.columns\n",
    "                    \n",
    "print(len(X_train))\n",
    "print(len(X_test))     "
   ]
  },
  {
   "cell_type": "code",
   "execution_count": 83,
   "id": "0400c10c",
   "metadata": {
    "execution": {
     "iopub.execute_input": "2022-02-26T21:23:01.559773Z",
     "iopub.status.busy": "2022-02-26T21:23:01.555945Z",
     "iopub.status.idle": "2022-02-26T21:23:01.562058Z",
     "shell.execute_reply": "2022-02-26T21:23:01.562653Z",
     "shell.execute_reply.started": "2022-02-26T20:17:32.103996Z"
    },
    "papermill": {
     "duration": 0.175227,
     "end_time": "2022-02-26T21:23:01.562841",
     "exception": false,
     "start_time": "2022-02-26T21:23:01.387614",
     "status": "completed"
    },
    "tags": []
   },
   "outputs": [],
   "source": [
    "def get_majority_rule(y_test):    \n",
    "    if score_name == 'f1':\n",
    "        m_rule = f1_score(pd.Series([2] * len(y_test)),y_test,average=None)\n",
    "    else:\n",
    "        m_rule = y_test.value_counts()[2] / len(y_test) # %records with severity 2\n",
    "    \n",
    "    print(f'Following majority rule for classification, we get {round(m_rule,rounding_decimals)} {score_name} rate.\\n')\n",
    "    return round(m_rule,rounding_decimals)"
   ]
  },
  {
   "cell_type": "markdown",
   "id": "691321d8",
   "metadata": {
    "papermill": {
     "duration": 0.165942,
     "end_time": "2022-02-26T21:23:01.895806",
     "exception": false,
     "start_time": "2022-02-26T21:23:01.729864",
     "status": "completed"
    },
    "tags": []
   },
   "source": [
    "<a id=\"baseline-severity-prediction\"></a>"
   ]
  },
  {
   "cell_type": "code",
   "execution_count": 84,
   "id": "a0fb9098",
   "metadata": {
    "collapsed": false,
    "execution": {
     "iopub.execute_input": "2022-02-26T21:23:02.235555Z",
     "iopub.status.busy": "2022-02-26T21:23:02.234808Z",
     "iopub.status.idle": "2022-02-26T21:26:02.849309Z",
     "shell.execute_reply": "2022-02-26T21:26:02.848542Z",
     "shell.execute_reply.started": "2022-02-26T20:17:33.674418Z"
    },
    "jupyter": {
     "outputs_hidden": false
    },
    "papermill": {
     "duration": 180.785604,
     "end_time": "2022-02-26T21:26:02.849470",
     "exception": false,
     "start_time": "2022-02-26T21:23:02.063866",
     "status": "completed"
    },
    "pycharm": {
     "name": "#%%\n"
    },
    "tags": []
   },
   "outputs": [
    {
     "name": "stdout",
     "output_type": "stream",
     "text": [
      "Following majority rule for classification, we get 0.874 accuracy rate.\n",
      "\n",
      "Current model being evaluated: LogisticRegression\n",
      "Fitting 5 folds for each of 1 candidates, totalling 5 fits\n"
     ]
    },
    {
     "name": "stderr",
     "output_type": "stream",
     "text": [
      "[Parallel(n_jobs=4)]: Using backend LokyBackend with 4 concurrent workers.\n",
      "[Parallel(n_jobs=4)]: Done   5 out of   5 | elapsed:    2.7s finished\n"
     ]
    },
    {
     "name": "stdout",
     "output_type": "stream",
     "text": [
      "Best accuracy over training set: 0.88454\n",
      "Accuracy score over test set is: 0.87514\n",
      "-----------------------------------------------------------\n",
      "\n",
      "Current model being evaluated: RandomForestClassifier\n",
      "Fitting 5 folds for each of 36 candidates, totalling 180 fits\n"
     ]
    },
    {
     "name": "stderr",
     "output_type": "stream",
     "text": [
      "[Parallel(n_jobs=4)]: Using backend LokyBackend with 4 concurrent workers.\n",
      "[Parallel(n_jobs=4)]: Done  42 tasks      | elapsed:   25.6s\n",
      "[Parallel(n_jobs=4)]: Done 180 out of 180 | elapsed:  2.2min finished\n"
     ]
    },
    {
     "name": "stdout",
     "output_type": "stream",
     "text": [
      "Best accuracy over training set: 0.88519\n",
      "Accuracy score over test set is: 0.874\n",
      "-----------------------------------------------------------\n",
      "\n",
      "Current model being evaluated: AdaBoostClassifier\n",
      "Fitting 5 folds for each of 12 candidates, totalling 60 fits\n"
     ]
    },
    {
     "name": "stderr",
     "output_type": "stream",
     "text": [
      "[Parallel(n_jobs=4)]: Using backend LokyBackend with 4 concurrent workers.\n",
      "[Parallel(n_jobs=4)]: Done  50 tasks      | elapsed:   23.8s\n",
      "[Parallel(n_jobs=4)]: Done  60 out of  60 | elapsed:   36.3s finished\n"
     ]
    },
    {
     "name": "stdout",
     "output_type": "stream",
     "text": [
      "Best accuracy over training set: 0.88502\n",
      "Accuracy score over test set is: 0.87571\n",
      "-----------------------------------------------------------\n",
      "\n",
      "The best model is AdaBoostClassifier with 0.87571% accuracy rate\n",
      "\n",
      "\n",
      "In comparison to majority rule, this led to an improvement of 0.17126567844926166%\n"
     ]
    }
   ],
   "source": [
    "majority_rule = get_majority_rule(y_test)\n",
    "\n",
    "highest_score = 0\n",
    "cv = get_cv(X_train,5)\n",
    "for model,params in classifier_models.items():\n",
    "    score,trained_model = get_score(X_train,y_train,X_test,y_test,model,params,cv)\n",
    "    if score > highest_score:\n",
    "        highest_score = score\n",
    "    best_model = trained_model\n",
    "        \n",
    "print(f'The best model is {type(best_model).__name__} with {round(highest_score,rounding_decimals)}% accuracy rate\\n')\n",
    "original_improvement = (highest_score-majority_rule)*100\n",
    "if original_improvement > 0:\n",
    "    print(f'\\nIn comparison to majority rule, this led to an improvement of {original_improvement}%') "
   ]
  },
  {
   "cell_type": "markdown",
   "id": "e64002a7",
   "metadata": {
    "papermill": {
     "duration": 0.172894,
     "end_time": "2022-02-26T21:26:03.194720",
     "exception": false,
     "start_time": "2022-02-26T21:26:03.021826",
     "status": "completed"
    },
    "tags": []
   },
   "source": [
    "<a id=\"kmeans-train-test-split\"></a>"
   ]
  },
  {
   "cell_type": "code",
   "execution_count": 85,
   "id": "2dcd9330",
   "metadata": {
    "execution": {
     "iopub.execute_input": "2022-02-26T21:26:03.543470Z",
     "iopub.status.busy": "2022-02-26T21:26:03.542778Z",
     "iopub.status.idle": "2022-02-26T21:26:04.999858Z",
     "shell.execute_reply": "2022-02-26T21:26:05.000610Z",
     "shell.execute_reply.started": "2022-02-26T20:22:36.727951Z"
    },
    "papermill": {
     "duration": 1.632941,
     "end_time": "2022-02-26T21:26:05.000819",
     "exception": false,
     "start_time": "2022-02-26T21:26:03.367878",
     "status": "completed"
    },
    "tags": []
   },
   "outputs": [
    {
     "data": {
      "text/plain": [
       "0"
      ]
     },
     "execution_count": 85,
     "metadata": {},
     "output_type": "execute_result"
    }
   ],
   "source": [
    "def get_clusters(df, cluster_vector_name='Clustering'):\n",
    "    def manage_cluster(cluster_df):\n",
    "        return cluster_df.sort_values(by=['Date']).drop([cluster_vector_name,'Date'],axis=1)\n",
    "    return [manage_cluster(cluster_df) for cluster, cluster_df in df.groupby(cluster_vector_name, as_index=False)]\n",
    "\n",
    "n_clusters_kmeans = 2\n",
    "kmeans = KMeans(n_clusters=n_clusters_kmeans, random_state=42)\n",
    "kmeans.fit(X_train)\n",
    "\n",
    "X_train['Clustering'] = kmeans.labels_\n",
    "X_test['Clustering'] = kmeans.predict(X_test)\n",
    "X_train['Date'] = train_dates\n",
    "X_test['Date'] = test_dates\n",
    "\n",
    "y_train = pd.concat([y_train, pd.Series(kmeans.labels_),train_dates], axis=1).rename(columns={0: 'Clustering',1:'Date'})\n",
    "y_test = pd.concat([y_test, X_test['Clustering'],test_dates], axis=1).rename(columns={0: 'Clustering',1:'Date'})\n",
    "\n",
    "X_train_clusters,X_test_clusters,y_train_clusters,y_test_clusters = get_clusters(X_train), get_clusters(X_test), get_clusters(y_train), get_clusters(y_test)\n",
    "\n",
    "del X_train, X_test, y_train, y_test\n",
    "gc.collect()"
   ]
  },
  {
   "cell_type": "markdown",
   "id": "1b935fd9",
   "metadata": {
    "papermill": {
     "duration": 0.606247,
     "end_time": "2022-02-26T21:26:05.831434",
     "exception": false,
     "start_time": "2022-02-26T21:26:05.225187",
     "status": "completed"
    },
    "tags": []
   },
   "source": [
    "<a id=\"kmeans-severity-prediction\"></a>"
   ]
  },
  {
   "cell_type": "code",
   "execution_count": 86,
   "id": "d759e22a",
   "metadata": {
    "collapsed": false,
    "execution": {
     "iopub.execute_input": "2022-02-26T21:26:06.374857Z",
     "iopub.status.busy": "2022-02-26T21:26:06.373973Z",
     "iopub.status.idle": "2022-02-26T21:28:38.456064Z",
     "shell.execute_reply": "2022-02-26T21:28:38.455485Z",
     "shell.execute_reply.started": "2022-02-26T20:22:49.332835Z"
    },
    "jupyter": {
     "outputs_hidden": false
    },
    "papermill": {
     "duration": 152.269273,
     "end_time": "2022-02-26T21:28:38.456228",
     "exception": false,
     "start_time": "2022-02-26T21:26:06.186955",
     "status": "completed"
    },
    "pycharm": {
     "name": "#%%\n"
    },
    "tags": []
   },
   "outputs": [
    {
     "name": "stdout",
     "output_type": "stream",
     "text": [
      "Following majority rule for classification, we get 0.89757 accuracy rate.\n",
      "\n",
      "Current model being evaluated: LogisticRegression\n",
      "Fitting 3 folds for each of 1 candidates, totalling 3 fits\n"
     ]
    },
    {
     "name": "stderr",
     "output_type": "stream",
     "text": [
      "[Parallel(n_jobs=4)]: Using backend LokyBackend with 4 concurrent workers.\n",
      "[Parallel(n_jobs=4)]: Done   3 out of   3 | elapsed:    0.1s finished\n"
     ]
    },
    {
     "name": "stdout",
     "output_type": "stream",
     "text": [
      "Best accuracy over training set: 0.89033\n",
      "Accuracy score over test set is: 0.89844\n",
      "-----------------------------------------------------------\n",
      "\n",
      "Current model being evaluated: RandomForestClassifier\n",
      "Fitting 3 folds for each of 36 candidates, totalling 108 fits\n"
     ]
    },
    {
     "name": "stderr",
     "output_type": "stream",
     "text": [
      "[Parallel(n_jobs=4)]: Using backend LokyBackend with 4 concurrent workers.\n",
      "[Parallel(n_jobs=4)]: Done  42 tasks      | elapsed:   22.0s\n",
      "[Parallel(n_jobs=4)]: Done 108 out of 108 | elapsed:  1.0min finished\n"
     ]
    },
    {
     "name": "stdout",
     "output_type": "stream",
     "text": [
      "Best accuracy over training set: 0.89331\n",
      "Accuracy score over test set is: 0.90104\n",
      "-----------------------------------------------------------\n",
      "\n",
      "Current model being evaluated: AdaBoostClassifier\n",
      "Fitting 3 folds for each of 12 candidates, totalling 36 fits\n"
     ]
    },
    {
     "name": "stderr",
     "output_type": "stream",
     "text": [
      "[Parallel(n_jobs=4)]: Using backend LokyBackend with 4 concurrent workers.\n",
      "[Parallel(n_jobs=4)]: Done  29 out of  36 | elapsed:    9.0s remaining:    2.2s\n",
      "[Parallel(n_jobs=4)]: Done  36 out of  36 | elapsed:   17.0s finished\n"
     ]
    },
    {
     "name": "stdout",
     "output_type": "stream",
     "text": [
      "Best accuracy over training set: 0.89223\n",
      "Accuracy score over test set is: 0.89931\n",
      "-----------------------------------------------------------\n",
      "\n",
      "The best model for cluster 0 is RandomForestClassifier with 0.90104 accuracy rate\n",
      "\n",
      "\n",
      "In comparison to majority rule, this led to a change of 0.00347 in accuracy rate\n",
      "-----------------------------------------------------------\n",
      "\n",
      "Following majority rule for classification, we get 0.8289 accuracy rate.\n",
      "\n",
      "Current model being evaluated: LogisticRegression\n",
      "Fitting 3 folds for each of 1 candidates, totalling 3 fits\n",
      "Best accuracy over training set: 0.8692\n"
     ]
    },
    {
     "name": "stderr",
     "output_type": "stream",
     "text": [
      "[Parallel(n_jobs=4)]: Using backend LokyBackend with 4 concurrent workers.\n",
      "[Parallel(n_jobs=4)]: Done   3 out of   3 | elapsed:    0.1s finished\n"
     ]
    },
    {
     "name": "stdout",
     "output_type": "stream",
     "text": [
      "Accuracy score over test set is: 0.82558\n",
      "-----------------------------------------------------------\n",
      "\n",
      "Current model being evaluated: RandomForestClassifier\n",
      "Fitting 3 folds for each of 36 candidates, totalling 108 fits\n"
     ]
    },
    {
     "name": "stderr",
     "output_type": "stream",
     "text": [
      "[Parallel(n_jobs=4)]: Using backend LokyBackend with 4 concurrent workers.\n",
      "[Parallel(n_jobs=4)]: Done  42 tasks      | elapsed:   16.6s\n",
      "[Parallel(n_jobs=4)]: Done 108 out of 108 | elapsed:   45.8s finished\n"
     ]
    },
    {
     "name": "stdout",
     "output_type": "stream",
     "text": [
      "Best accuracy over training set: 0.87078\n",
      "Accuracy score over test set is: 0.83223\n",
      "-----------------------------------------------------------\n",
      "\n",
      "Current model being evaluated: AdaBoostClassifier\n",
      "Fitting 3 folds for each of 12 candidates, totalling 36 fits\n"
     ]
    },
    {
     "name": "stderr",
     "output_type": "stream",
     "text": [
      "[Parallel(n_jobs=4)]: Using backend LokyBackend with 4 concurrent workers.\n",
      "[Parallel(n_jobs=4)]: Done  29 out of  36 | elapsed:    6.3s remaining:    1.5s\n",
      "[Parallel(n_jobs=4)]: Done  36 out of  36 | elapsed:   11.1s finished\n"
     ]
    },
    {
     "name": "stdout",
     "output_type": "stream",
     "text": [
      "Best accuracy over training set: 0.8692\n",
      "Accuracy score over test set is: 0.76744\n",
      "-----------------------------------------------------------\n",
      "\n",
      "The best model for cluster 1 is RandomForestClassifier with 0.83223 accuracy rate\n",
      "\n",
      "\n",
      "In comparison to majority rule, this led to a change of 0.00333 in accuracy rate\n",
      "-----------------------------------------------------------\n",
      "\n"
     ]
    }
   ],
   "source": [
    "best_models_kmeans = []\n",
    "kmeans_improvement = []\n",
    "for i,(X_train, X_test, y_train, y_test) in enumerate(zip(X_train_clusters,X_test_clusters,y_train_clusters,y_test_clusters)):\n",
    "    majority_rule = get_majority_rule(y_test)\n",
    "    \n",
    "    cv = get_cv(X_train,3)\n",
    "    highest_score = 0\n",
    "    \n",
    "    for model,params in classifier_models.items():\n",
    "        score,trained_model = get_score(X_train,y_train.squeeze(),X_test,y_test.squeeze(),model,params,cv)\n",
    "        if score > highest_score:\n",
    "            highest_score = score\n",
    "            best_model = trained_model\n",
    "    best_models_kmeans.append(best_model)        \n",
    "    print(f'The best model for cluster {i} is {type(best_model).__name__} with {round(highest_score,rounding_decimals)} {score_name} rate\\n')\n",
    "    kmeans_improvement.append(round(highest_score-majority_rule,rounding_decimals))\n",
    "    if kmeans_improvement[i] > 0:\n",
    "        print(f'\\nIn comparison to majority rule, this led to a change of {kmeans_improvement[i]} in {score_name} rate')  \n",
    "    print('-----------------------------------------------------------\\n')"
   ]
  },
  {
   "cell_type": "markdown",
   "id": "14bb2b3e",
   "metadata": {
    "papermill": {
     "duration": 0.182821,
     "end_time": "2022-02-26T21:28:38.822331",
     "exception": false,
     "start_time": "2022-02-26T21:28:38.639510",
     "status": "completed"
    },
    "tags": []
   },
   "source": [
    "<a id=\"evaluation\"> </a>\n",
    "# Evaluation"
   ]
  },
  {
   "cell_type": "code",
   "execution_count": 87,
   "id": "e139a3db",
   "metadata": {
    "execution": {
     "iopub.execute_input": "2022-02-26T21:28:39.235936Z",
     "iopub.status.busy": "2022-02-26T21:28:39.215780Z",
     "iopub.status.idle": "2022-02-26T21:28:39.584252Z",
     "shell.execute_reply": "2022-02-26T21:28:39.583682Z",
     "shell.execute_reply.started": "2022-02-26T20:26:58.454525Z"
    },
    "papermill": {
     "duration": 0.580643,
     "end_time": "2022-02-26T21:28:39.584399",
     "exception": false,
     "start_time": "2022-02-26T21:28:39.003756",
     "status": "completed"
    },
    "tags": []
   },
   "outputs": [
    {
     "data": {
      "image/png": "[encoded data removed]",
      "text/plain": [
       "<Figure size 1080x1080 with 1 Axes>"
      ]
     },
     "metadata": {
      "needs_background": "light"
     },
     "output_type": "display_data"
    }
   ],
   "source": [
    "#feature importance of the original model\n",
    "best_model_name = type(best_model).__name__\n",
    "if best_model_name != 'LogisticRegression':\n",
    "    extract_importances(best_model.feature_importances_,cols) "
   ]
  },
  {
   "cell_type": "code",
   "execution_count": 88,
   "id": "d363ad0c",
   "metadata": {
    "execution": {
     "iopub.execute_input": "2022-02-26T21:28:39.982668Z",
     "iopub.status.busy": "2022-02-26T21:28:39.981938Z",
     "iopub.status.idle": "2022-02-26T21:28:39.988883Z",
     "shell.execute_reply": "2022-02-26T21:28:39.988375Z",
     "shell.execute_reply.started": "2022-02-26T20:27:05.69777Z"
    },
    "papermill": {
     "duration": 0.195022,
     "end_time": "2022-02-26T21:28:39.989074",
     "exception": false,
     "start_time": "2022-02-26T21:28:39.794052",
     "status": "completed"
    },
    "tags": []
   },
   "outputs": [
    {
     "name": "stdout",
     "output_type": "stream",
     "text": [
      "The model with the best performance for cluster 0 is RandomForestClassifier\n",
      "\n",
      "The model with the best performance for cluster 1 is RandomForestClassifier\n",
      "\n"
     ]
    }
   ],
   "source": [
    "#comparing models between using KMeans and without it\n",
    "status = 'the same'\n",
    "for i in range(n_clusters_kmeans):\n",
    "    curr_model_name = type(best_models_kmeans[i]).__name__\n",
    "    print(f'The model with the best performance for cluster {i} is {curr_model_name}\\n')\n",
    "    if curr_model_name != best_model_name:\n",
    "        status = 'different'"
   ]
  },
  {
   "cell_type": "code",
   "execution_count": 89,
   "id": "f214a45d",
   "metadata": {
    "execution": {
     "iopub.execute_input": "2022-02-26T21:28:40.368102Z",
     "iopub.status.busy": "2022-02-26T21:28:40.367369Z",
     "iopub.status.idle": "2022-02-26T21:28:40.370433Z",
     "shell.execute_reply": "2022-02-26T21:28:40.371193Z",
     "shell.execute_reply.started": "2022-02-26T20:27:07.984334Z"
    },
    "papermill": {
     "duration": 0.19402,
     "end_time": "2022-02-26T21:28:40.371428",
     "exception": false,
     "start_time": "2022-02-26T21:28:40.177408",
     "status": "completed"
    },
    "tags": []
   },
   "outputs": [
    {
     "name": "stdout",
     "output_type": "stream",
     "text": [
      "We have established that using KMeans algorithm to divide the dataset would result in using the same models for this dataset\n",
      "\n",
      "-----------------------------------------------------------\n",
      "\n",
      "Before using KMeans, our models yielded a change of ~ 0.17127 in accuracy rate\n",
      "\n",
      "After using KMeans, our models yielded a change of ~ 0.0034000000000000002 in accuracy rate\n"
     ]
    }
   ],
   "source": [
    "    \n",
    "print(f'We have established that using KMeans algorithm to divide the dataset would result in using {status} models for this dataset\\n')\n",
    "print('-----------------------------------------------------------\\n')\n",
    "print(f'Before using KMeans, our models yielded a change of ~ {round(original_improvement,rounding_decimals)} in {score_name} rate\\n')\n",
    "print(f'After using KMeans, our models yielded a change of ~ {sum(kmeans_improvement) / len(kmeans_improvement)} in {score_name} rate')"
   ]
  }
 ],
 "metadata": {
  "kernelspec": {
   "display_name": "Python 3",
   "language": "python",
   "name": "python3"
  },
  "language_info": {
   "codemirror_mode": {
    "name": "ipython",
    "version": 3
   },
   "file_extension": ".py",
   "mimetype": "text/x-python",
   "name": "python",
   "nbconvert_exporter": "python",
   "pygments_lexer": "ipython3",
   "version": "3.7.12"
  },
  "papermill": {
   "default_parameters": {},
   "duration": 463.247777,
   "end_time": "2022-02-26T21:28:42.071964",
   "environment_variables": {},
   "exception": null,
   "input_path": "__notebook__.ipynb",
   "output_path": "__notebook__.ipynb",
   "parameters": {},
   "start_time": "2022-02-26T21:20:58.824187",
   "version": "2.3.3"
  }
 },
 "nbformat": 4,
 "nbformat_minor": 5
}